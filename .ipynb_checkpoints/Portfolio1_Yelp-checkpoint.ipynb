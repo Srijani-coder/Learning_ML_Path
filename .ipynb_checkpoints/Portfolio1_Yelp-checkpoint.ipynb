{
 "cells": [
  {
   "cell_type": "markdown",
   "id": "379d9b3f",
   "metadata": {},
   "source": [
    "# Analysis of Yelp Data\n",
    "\n",
    "\n",
    "The Yelp dataset is a collection of user-generated reviews and associated data for businesses in various cities. The data includes information such as the business name, category, location, and rating, as well as the user ID and review text for each review. This data can be used to analyze patterns and trends in consumer behavior, business performance, and geographic locations. Additionally, the dataset provides an opportunity to explore the relationships between different variables, such as ratings, reviews, and business categories. This data can be leveraged to gain insights and make informed decisions in a variety of industries, including marketing, business management, and public policy.\n",
    "\n",
    "Description of the variables of the data used here.\n",
    "\n",
    "* __business_id__ - A unique identifier for each business in the dataset\n",
    "* __business_categories__ - A list of categories associated with the business\n",
    "* __business_city__ - The city where the business is located.\n",
    "* __user_id__ - A unique identifier for each user who has written a review.\n",
    "* __text__ - The text of the review.\n",
    "* __stars__ - The user's rating towards the business\n",
    "* __useful__ - The number of times the review was voted as useful.\n",
    "* __date__ - The date the review was posted."
   ]
  },
  {
   "cell_type": "markdown",
   "id": "5edf3fef",
   "metadata": {},
   "source": [
    " # Q1. Check and remove missing data\n",
    " \n",
    "### Q1.1 Write a Python code snippet that checks for missing values in each column of the dataset. If any, only display the names of the columns with missing values and their corresponding number of missing values. Print the length of the data before removing the missing data.\n",
    "\n",
    "Note: Only output the number of missing values for the columns having at least one missing value!"
   ]
  },
  {
   "cell_type": "code",
   "execution_count": 1,
   "id": "5303e35a",
   "metadata": {},
   "outputs": [],
   "source": [
    "# your code and solutions"
   ]
  },
  {
   "cell_type": "code",
   "execution_count": 160,
   "id": "a505de67",
   "metadata": {},
   "outputs": [],
   "source": [
    "import pandas as pd\n",
    "import numpy as np"
   ]
  },
  {
   "cell_type": "code",
   "execution_count": 161,
   "id": "1ceaa724",
   "metadata": {},
   "outputs": [
    {
     "data": {
      "text/html": [
       "<div>\n",
       "<style scoped>\n",
       "    .dataframe tbody tr th:only-of-type {\n",
       "        vertical-align: middle;\n",
       "    }\n",
       "\n",
       "    .dataframe tbody tr th {\n",
       "        vertical-align: top;\n",
       "    }\n",
       "\n",
       "    .dataframe thead th {\n",
       "        text-align: right;\n",
       "    }\n",
       "</style>\n",
       "<table border=\"1\" class=\"dataframe\">\n",
       "  <thead>\n",
       "    <tr style=\"text-align: right;\">\n",
       "      <th></th>\n",
       "      <th>business_categories</th>\n",
       "      <th>business_city</th>\n",
       "      <th>business_id</th>\n",
       "      <th>date</th>\n",
       "      <th>stars</th>\n",
       "      <th>text</th>\n",
       "      <th>useful</th>\n",
       "      <th>user_id</th>\n",
       "    </tr>\n",
       "  </thead>\n",
       "  <tbody>\n",
       "    <tr>\n",
       "      <th>0</th>\n",
       "      <td>Breakfast &amp; Brunch; Restaurants</td>\n",
       "      <td>Phoenix</td>\n",
       "      <td>9yKzy9PApeiPPOUJEtnvkg</td>\n",
       "      <td>26/1/2011</td>\n",
       "      <td>5</td>\n",
       "      <td>My wife took me here on my birthday for breakf...</td>\n",
       "      <td>5</td>\n",
       "      <td>rLtl8ZkDX5vH5nAx9C3q5Q</td>\n",
       "    </tr>\n",
       "    <tr>\n",
       "      <th>1</th>\n",
       "      <td>Italian; Pizza; Restaurants</td>\n",
       "      <td>Phoenix</td>\n",
       "      <td>ZRJwVLyzEJq1VAihDhYiow</td>\n",
       "      <td>27/7/2011</td>\n",
       "      <td>5</td>\n",
       "      <td>I have no idea why some people give bad review...</td>\n",
       "      <td>0</td>\n",
       "      <td>0a2KyEL0d3Yb1V6aivbIuQ</td>\n",
       "    </tr>\n",
       "    <tr>\n",
       "      <th>2</th>\n",
       "      <td>Middle Eastern; Restaurants</td>\n",
       "      <td>Tempe</td>\n",
       "      <td>6oRAC4uyJCsJl1X0WZpVSA</td>\n",
       "      <td>14/6/2012</td>\n",
       "      <td>4</td>\n",
       "      <td>love the gyro plate. Rice is so good and I als...</td>\n",
       "      <td>1</td>\n",
       "      <td>0hT2KtfLiobPvh6cDC8JQg</td>\n",
       "    </tr>\n",
       "    <tr>\n",
       "      <th>3</th>\n",
       "      <td>Active Life; Dog Parks; Parks</td>\n",
       "      <td>Scottsdale</td>\n",
       "      <td>_1QQZuf4zZOyFCvXc0o6Vg</td>\n",
       "      <td>27/5/2010</td>\n",
       "      <td>5</td>\n",
       "      <td>Rosie, Dakota, and I LOVE Chaparral Dog Park!!...</td>\n",
       "      <td>2</td>\n",
       "      <td>uZetl9T0NcROGOyFfughhg</td>\n",
       "    </tr>\n",
       "    <tr>\n",
       "      <th>4</th>\n",
       "      <td>Tires; Automotive</td>\n",
       "      <td>Mesa</td>\n",
       "      <td>6ozycU1RpktNG2-1BroVtw</td>\n",
       "      <td>5/1/2012</td>\n",
       "      <td>5</td>\n",
       "      <td>General Manager Scott Petello is a good egg!!!...</td>\n",
       "      <td>0</td>\n",
       "      <td>vYmM4KTsC8ZfQBg-j5MWkw</td>\n",
       "    </tr>\n",
       "  </tbody>\n",
       "</table>\n",
       "</div>"
      ],
      "text/plain": [
       "               business_categories business_city             business_id  \\\n",
       "0  Breakfast & Brunch; Restaurants       Phoenix  9yKzy9PApeiPPOUJEtnvkg   \n",
       "1      Italian; Pizza; Restaurants       Phoenix  ZRJwVLyzEJq1VAihDhYiow   \n",
       "2      Middle Eastern; Restaurants         Tempe  6oRAC4uyJCsJl1X0WZpVSA   \n",
       "3    Active Life; Dog Parks; Parks    Scottsdale  _1QQZuf4zZOyFCvXc0o6Vg   \n",
       "4                Tires; Automotive          Mesa  6ozycU1RpktNG2-1BroVtw   \n",
       "\n",
       "        date  stars                                               text  \\\n",
       "0  26/1/2011      5  My wife took me here on my birthday for breakf...   \n",
       "1  27/7/2011      5  I have no idea why some people give bad review...   \n",
       "2  14/6/2012      4  love the gyro plate. Rice is so good and I als...   \n",
       "3  27/5/2010      5  Rosie, Dakota, and I LOVE Chaparral Dog Park!!...   \n",
       "4   5/1/2012      5  General Manager Scott Petello is a good egg!!!...   \n",
       "\n",
       "   useful                 user_id  \n",
       "0       5  rLtl8ZkDX5vH5nAx9C3q5Q  \n",
       "1       0  0a2KyEL0d3Yb1V6aivbIuQ  \n",
       "2       1  0hT2KtfLiobPvh6cDC8JQg  \n",
       "3       2  uZetl9T0NcROGOyFfughhg  \n",
       "4       0  vYmM4KTsC8ZfQBg-j5MWkw  "
      ]
     },
     "execution_count": 161,
     "metadata": {},
     "output_type": "execute_result"
    }
   ],
   "source": [
    "# importing dataset as dataframe \n",
    "df = pd.read_csv(filepath_or_buffer='files/Yelp_Portfolio1_Input.csv', engine=\"python\")\n",
    "df.shape\n",
    "df.head()"
   ]
  },
  {
   "cell_type": "code",
   "execution_count": 162,
   "id": "3c341c76",
   "metadata": {},
   "outputs": [
    {
     "name": "stdout",
     "output_type": "stream",
     "text": [
      "['business_categories', 'business_city', 'business_id', 'date', 'stars', 'text', 'useful', 'user_id']\n"
     ]
    }
   ],
   "source": [
    "# Now getting list of the names of columns for dataframe\n",
    "col_list = []\n",
    "for col in df.columns:\n",
    "  col_list.append(col)\n",
    "\n",
    "print(col_list)"
   ]
  },
  {
   "cell_type": "code",
   "execution_count": 163,
   "id": "ca86dc53",
   "metadata": {},
   "outputs": [],
   "source": [
    "# Storing coloumn_names  and count of rows with missing values in each column in a dictionary\n",
    "dict_col = dict()\n",
    "dict_col = df.isnull().sum()"
   ]
  },
  {
   "cell_type": "code",
   "execution_count": 164,
   "id": "56fd14e8",
   "metadata": {},
   "outputs": [
    {
     "name": "stdout",
     "output_type": "stream",
     "text": [
      "Name of coloumns with missing values and count of missing values in each with them \n",
      "business_categories : 777\n",
      "text : 6\n"
     ]
    }
   ],
   "source": [
    "# Printing coloumn_names with missing values and count of missing values\n",
    "print('Name of coloumns with missing values and count of missing values in each with them ')\n",
    "for col_name in col_list:\n",
    "  if dict_col[col_name] != 0:\n",
    "    print(col_name+ ' : ' + str(dict_col[col_name]))"
   ]
  },
  {
   "cell_type": "markdown",
   "id": "da3df088",
   "metadata": {},
   "source": [
    "### Q1.2 Remove any row that contains at least one missing value, and output the length of the resulting cleaned dataset; After that, remove any row that contain invalid value with either \"#NAME?\" or \"#VALUE!\" in the `business_id` and `user_id` columns, and output the length of the resulting cleaned dataset."
   ]
  },
  {
   "cell_type": "code",
   "execution_count": 165,
   "id": "ba17f19d",
   "metadata": {},
   "outputs": [],
   "source": [
    "# your code and solutions"
   ]
  },
  {
   "cell_type": "code",
   "execution_count": 166,
   "id": "c90e9df9",
   "metadata": {},
   "outputs": [
    {
     "data": {
      "text/plain": [
       "(229907, 8)"
      ]
     },
     "execution_count": 166,
     "metadata": {},
     "output_type": "execute_result"
    }
   ],
   "source": [
    "# Printing shape of dataframe \n",
    "df.shape"
   ]
  },
  {
   "cell_type": "code",
   "execution_count": 167,
   "id": "f0584610",
   "metadata": {},
   "outputs": [
    {
     "name": "stdout",
     "output_type": "stream",
     "text": [
      "Length of the dataframe :229907\n"
     ]
    }
   ],
   "source": [
    "# As shape of df is tuple , converting it into list and extracting the length of dataframe from it. Length of dataframe equals to number of rows here.\n",
    "list_sh = list(df.shape)\n",
    "length = list_sh[0]\n",
    "print('Length of the dataframe :' + str(length))"
   ]
  },
  {
   "cell_type": "code",
   "execution_count": 168,
   "id": "1c261404",
   "metadata": {},
   "outputs": [
    {
     "data": {
      "text/plain": [
       "(229124, 8)"
      ]
     },
     "execution_count": 168,
     "metadata": {},
     "output_type": "execute_result"
    }
   ],
   "source": [
    "# Removing any row with at least one missing value from dataframe\n",
    "drop_ro = df.dropna(how = 'any')\n",
    "drop_ro.shape"
   ]
  },
  {
   "cell_type": "code",
   "execution_count": 169,
   "id": "5335c998",
   "metadata": {},
   "outputs": [
    {
     "name": "stdout",
     "output_type": "stream",
     "text": [
      "Length of the cleaned dataframe :229124\n"
     ]
    }
   ],
   "source": [
    "# Also, as shape of cleaned dataframe is tuple , converting it into list and extracting the length of dataframe from it. Length of dataframe equals to number of rows here.\n",
    "list_ro = list(drop_ro.shape)\n",
    "length_r = list_ro[0]\n",
    "print('Length of the cleaned dataframe :' + str(length_r))"
   ]
  },
  {
   "cell_type": "code",
   "execution_count": 170,
   "id": "1b6fc3bb",
   "metadata": {},
   "outputs": [
    {
     "name": "stdout",
     "output_type": "stream",
     "text": [
      "length of the dataframe after cleaning again :222759\n"
     ]
    }
   ],
   "source": [
    "# getting the rows with invalid value removed\n",
    "df_b_clean = drop_ro[(drop_ro.business_id!= \"#NAME?\") & (drop_ro.business_id != \"#VALUE!\")]  \n",
    "df_us_clean = df_b_clean[(df_b_clean.user_id!= \"#NAME?\") & (df_b_clean.user_id!= \"#VALUE!\")]\n",
    "df_clean = df_us_clean\n",
    "list_l = list(df_clean.shape)\n",
    "print('length of the dataframe after cleaning again :' + str(list_l[0]))"
   ]
  },
  {
   "cell_type": "markdown",
   "id": "334b9f9e",
   "metadata": {},
   "source": [
    "# Q2. Random Subset Selection of Yelp Businesses by City"
   ]
  },
  {
   "cell_type": "markdown",
   "id": "b386ff6c",
   "metadata": {},
   "source": [
    "Selecting a random subset of cities from the Yelp business dataset and extracting all the rows corresponding to businesses located in those cities can be useful for various purposes. For example, it can be used to \n",
    "perform exploratory data analysis on a smaller subset of the dataset, which can be more manageable and faster to process than the entire dataset. Suppose you want to select a random subset of 10 cities from the dataset and extract all the rows that correspond to businesses located in those cities. At last, print the length of the resulting sample data. Write Python code that accomplishes this task.\n",
    "\n",
    "Note: Use the $random.sample()$ function to select 10 random cities from the list of unique cities. Set the random seed to 42 before selecting the cities!!!"
   ]
  },
  {
   "cell_type": "code",
   "execution_count": 171,
   "id": "0abef7dc",
   "metadata": {},
   "outputs": [],
   "source": [
    "# your code and solutions"
   ]
  },
  {
   "cell_type": "code",
   "execution_count": 172,
   "id": "ab538245",
   "metadata": {},
   "outputs": [
    {
     "name": "stdout",
     "output_type": "stream",
     "text": [
      "length of list of cities 61\n"
     ]
    }
   ],
   "source": [
    "# getting list of unique cities in a list\n",
    "bs_cities = []\n",
    "for city in df_clean['business_city']:\n",
    "  if city not in bs_cities:\n",
    "    bs_cities.append(city)\n",
    "print('length of list of cities '+ str(len(bs_cities)))"
   ]
  },
  {
   "cell_type": "code",
   "execution_count": 173,
   "id": "97575163",
   "metadata": {},
   "outputs": [
    {
     "name": "stdout",
     "output_type": "stream",
     "text": [
      "['Sun City West', 'Charleston', 'Carefree', 'Sun City', 'Rio Verde', 'Tolleson', 'Tonto Basin', 'Fountain Hills', 'Sun City West', 'Grand Junction']\n"
     ]
    }
   ],
   "source": [
    "# selecting random ten cities from the dataset with seed 42 \n",
    "import numpy as np\n",
    "np.random.seed(42)\n",
    "lis_cities = list(np.random.choice(bs_cities, size=10))\n",
    "print(lis_cities)\n"
   ]
  },
  {
   "cell_type": "code",
   "execution_count": 174,
   "id": "5d4623d6",
   "metadata": {},
   "outputs": [
    {
     "data": {
      "text/plain": [
       "(1136, 8)"
      ]
     },
     "execution_count": 174,
     "metadata": {},
     "output_type": "execute_result"
    }
   ],
   "source": [
    "# Here it can be observed that 'Sun City West' is chosen twice in random. Now selecting dataframe for all the ten cities \n",
    "df_new = df_clean[(df_clean.business_city == lis_cities[0]) | (df_clean.business_city == lis_cities[1]) | (df_clean.business_city == lis_cities[2]) | (df_clean.business_city == lis_cities[3]) | (df_clean.business_city == lis_cities[4]) | (df_clean.business_city == lis_cities[5])  | (df_clean.business_city == lis_cities[6]) | (df_clean.business_city == lis_cities[7]) | (df_clean.business_city == lis_cities[8]) | (df_clean.business_city == lis_cities[9]) ]\n",
    "df_new.shape"
   ]
  },
  {
   "cell_type": "code",
   "execution_count": 175,
   "id": "640cc721",
   "metadata": {},
   "outputs": [
    {
     "name": "stdout",
     "output_type": "stream",
     "text": [
      "The length of dataframe for all ten cities 1136\n"
     ]
    }
   ],
   "source": [
    "# printing the length of the dataframe for all ten cities\n",
    "list_n = list(df_new.shape)\n",
    "len_df = list_n[0]\n",
    "print('The length of dataframe for all ten cities '+ str(len_df))"
   ]
  },
  {
   "cell_type": "markdown",
   "id": "0ff5298a",
   "metadata": {},
   "source": [
    "# Q3. Descriptive statistics on the data output from Q2\n",
    "### Q3.1 Compute summary statistics for the `stars` column of the sample data\n",
    "Note: the resulting output includes the count, mean, standard deviation, minimum, maximum values of the column."
   ]
  },
  {
   "cell_type": "code",
   "execution_count": 176,
   "id": "02571c2c",
   "metadata": {},
   "outputs": [],
   "source": [
    "# your code and solutions"
   ]
  },
  {
   "cell_type": "code",
   "execution_count": 177,
   "id": "a6211238",
   "metadata": {},
   "outputs": [
    {
     "data": {
      "text/plain": [
       "count    1136.000000\n",
       "mean        3.796655\n",
       "std         1.278775\n",
       "min         1.000000\n",
       "25%         3.000000\n",
       "50%         4.000000\n",
       "75%         5.000000\n",
       "max         5.000000\n",
       "Name: stars, dtype: float64"
      ]
     },
     "execution_count": 177,
     "metadata": {},
     "output_type": "execute_result"
    }
   ],
   "source": [
    "# storing stars column into a new variable and describing statistics of the column\n",
    "st = df_new['stars']\n",
    "st.describe()"
   ]
  },
  {
   "cell_type": "markdown",
   "id": "9ac40c1f",
   "metadata": {},
   "source": [
    "### Q3.2 For each city in the dataframe, how many unique businesses are there?\n",
    "\n",
    "Note: the resulting dataframe has two columns: `business_city` and `count`. Compute summary statistics (similar as Q 3.1) for the `count` column."
   ]
  },
  {
   "cell_type": "code",
   "execution_count": 178,
   "id": "42af9783",
   "metadata": {},
   "outputs": [],
   "source": [
    "# your code and solutions"
   ]
  },
  {
   "cell_type": "code",
   "execution_count": 179,
   "id": "3614ad38",
   "metadata": {},
   "outputs": [],
   "source": [
    "# For each business_city , number of  unique business_ids present in each related row is number of unique businesses. Defining a function with that logic.\n",
    "def count_business(x):\n",
    "    bs_id = []\n",
    "    df_temp = df_new[(df_new.business_city == x)]\n",
    "    for bs in df_temp.business_id:\n",
    "        if bs not in bs_id:\n",
    "            bs_id.append(bs)\n",
    "    \n",
    "    return len(bs_id)"
   ]
  },
  {
   "cell_type": "code",
   "execution_count": 180,
   "id": "360d3be1",
   "metadata": {},
   "outputs": [
    {
     "name": "stdout",
     "output_type": "stream",
     "text": [
      "{'Sun City West': 8, 'Charleston': 1, 'Carefree': 19, 'Sun City': 27, 'Rio Verde': 2, 'Tolleson': 22, 'Tonto Basin': 1, 'Fountain Hills': 47, 'Grand Junction': 1}\n"
     ]
    }
   ],
   "source": [
    "# Now storing each city and unique business count corresponding to it in a dictionary\n",
    "dict_city = dict()\n",
    "\n",
    "for ct in lis_cities:\n",
    "    dict_city[ct]= count_business(ct)\n",
    "    \n",
    "print(dict_city)\n"
   ]
  },
  {
   "cell_type": "code",
   "execution_count": 181,
   "id": "7c825d98",
   "metadata": {},
   "outputs": [
    {
     "data": {
      "text/plain": [
       "(9, 2)"
      ]
     },
     "execution_count": 181,
     "metadata": {},
     "output_type": "execute_result"
    }
   ],
   "source": [
    "# Converting the dictionary into dataframe with desired column names\n",
    "df_bscount = pd.DataFrame(list(dict_city.items()),columns = ['business_city','count'])\n",
    "df_bscount.shape"
   ]
  },
  {
   "cell_type": "code",
   "execution_count": 182,
   "id": "5ab98d2d",
   "metadata": {},
   "outputs": [
    {
     "data": {
      "text/html": [
       "<div>\n",
       "<style scoped>\n",
       "    .dataframe tbody tr th:only-of-type {\n",
       "        vertical-align: middle;\n",
       "    }\n",
       "\n",
       "    .dataframe tbody tr th {\n",
       "        vertical-align: top;\n",
       "    }\n",
       "\n",
       "    .dataframe thead th {\n",
       "        text-align: right;\n",
       "    }\n",
       "</style>\n",
       "<table border=\"1\" class=\"dataframe\">\n",
       "  <thead>\n",
       "    <tr style=\"text-align: right;\">\n",
       "      <th></th>\n",
       "      <th>business_city</th>\n",
       "      <th>count</th>\n",
       "    </tr>\n",
       "  </thead>\n",
       "  <tbody>\n",
       "    <tr>\n",
       "      <th>0</th>\n",
       "      <td>Sun City West</td>\n",
       "      <td>8</td>\n",
       "    </tr>\n",
       "    <tr>\n",
       "      <th>1</th>\n",
       "      <td>Charleston</td>\n",
       "      <td>1</td>\n",
       "    </tr>\n",
       "    <tr>\n",
       "      <th>2</th>\n",
       "      <td>Carefree</td>\n",
       "      <td>19</td>\n",
       "    </tr>\n",
       "    <tr>\n",
       "      <th>3</th>\n",
       "      <td>Sun City</td>\n",
       "      <td>27</td>\n",
       "    </tr>\n",
       "    <tr>\n",
       "      <th>4</th>\n",
       "      <td>Rio Verde</td>\n",
       "      <td>2</td>\n",
       "    </tr>\n",
       "  </tbody>\n",
       "</table>\n",
       "</div>"
      ],
      "text/plain": [
       "   business_city  count\n",
       "0  Sun City West      8\n",
       "1     Charleston      1\n",
       "2       Carefree     19\n",
       "3       Sun City     27\n",
       "4      Rio Verde      2"
      ]
     },
     "execution_count": 182,
     "metadata": {},
     "output_type": "execute_result"
    }
   ],
   "source": [
    "# Observing the dataframe\n",
    "df_bscount.head()"
   ]
  },
  {
   "cell_type": "code",
   "execution_count": 183,
   "id": "0e32e026",
   "metadata": {},
   "outputs": [
    {
     "data": {
      "text/plain": [
       "count     9.000000\n",
       "mean     14.222222\n",
       "std      15.943477\n",
       "min       1.000000\n",
       "25%       1.000000\n",
       "50%       8.000000\n",
       "75%      22.000000\n",
       "max      47.000000\n",
       "Name: count, dtype: float64"
      ]
     },
     "execution_count": 183,
     "metadata": {},
     "output_type": "execute_result"
    }
   ],
   "source": [
    "# Showing summary statistics for 'count' column\n",
    "cnt = df_bscount['count']\n",
    "cnt.describe()"
   ]
  },
  {
   "cell_type": "markdown",
   "id": "90c84abe",
   "metadata": {},
   "source": [
    "### Q3.3 For each business category and business ID combination in the dataframe, how many unique users have rated the business?\n",
    "\n",
    "Note: the resulting dataframe has three columns: `business_categories`, `business_id`, and `count`. Compute summary statistics (similar as Q 3.1) for the `count` column."
   ]
  },
  {
   "cell_type": "code",
   "execution_count": 184,
   "id": "442afa03",
   "metadata": {},
   "outputs": [],
   "source": [
    "# your code and solutions"
   ]
  },
  {
   "cell_type": "code",
   "execution_count": 185,
   "id": "c15b04bb",
   "metadata": {},
   "outputs": [
    {
     "data": {
      "text/html": [
       "<div>\n",
       "<style scoped>\n",
       "    .dataframe tbody tr th:only-of-type {\n",
       "        vertical-align: middle;\n",
       "    }\n",
       "\n",
       "    .dataframe tbody tr th {\n",
       "        vertical-align: top;\n",
       "    }\n",
       "\n",
       "    .dataframe thead th {\n",
       "        text-align: right;\n",
       "    }\n",
       "</style>\n",
       "<table border=\"1\" class=\"dataframe\">\n",
       "  <thead>\n",
       "    <tr style=\"text-align: right;\">\n",
       "      <th></th>\n",
       "      <th>business_categories</th>\n",
       "      <th>business_id</th>\n",
       "      <th>user_id</th>\n",
       "    </tr>\n",
       "  </thead>\n",
       "  <tbody>\n",
       "    <tr>\n",
       "      <th>77</th>\n",
       "      <td>Chinese; Restaurants</td>\n",
       "      <td>ImghNwml8N-ncAqhXe00hg</td>\n",
       "      <td>aLTl_OkLo0BFRxdz1n6sYA</td>\n",
       "    </tr>\n",
       "    <tr>\n",
       "      <th>216</th>\n",
       "      <td>Thai; Restaurants</td>\n",
       "      <td>8qrICL2tS2Rq7b5gxUdQwQ</td>\n",
       "      <td>vOw4NYgKe57qcJ5fOjk6PQ</td>\n",
       "    </tr>\n",
       "    <tr>\n",
       "      <th>409</th>\n",
       "      <td>Food; Specialty Food; Candy Stores; Chocolatie...</td>\n",
       "      <td>bbi-76L0uvQRrno57Qjpaw</td>\n",
       "      <td>EcgpGtxB5916NPqvXwMcjQ</td>\n",
       "    </tr>\n",
       "    <tr>\n",
       "      <th>840</th>\n",
       "      <td>Pizza; Restaurants</td>\n",
       "      <td>YjURbuHKIAQrwQKE8jxszQ</td>\n",
       "      <td>_GVAV2LjUWEs9fGjslex_A</td>\n",
       "    </tr>\n",
       "    <tr>\n",
       "      <th>871</th>\n",
       "      <td>Sushi Bars; Japanese; Restaurants</td>\n",
       "      <td>mnJHxPTbAxhueeuh76ePZQ</td>\n",
       "      <td>tKgDgXSkOklBb9tQVGkYhQ</td>\n",
       "    </tr>\n",
       "  </tbody>\n",
       "</table>\n",
       "</div>"
      ],
      "text/plain": [
       "                                   business_categories  \\\n",
       "77                                Chinese; Restaurants   \n",
       "216                                  Thai; Restaurants   \n",
       "409  Food; Specialty Food; Candy Stores; Chocolatie...   \n",
       "840                                 Pizza; Restaurants   \n",
       "871                  Sushi Bars; Japanese; Restaurants   \n",
       "\n",
       "                business_id                 user_id  \n",
       "77   ImghNwml8N-ncAqhXe00hg  aLTl_OkLo0BFRxdz1n6sYA  \n",
       "216  8qrICL2tS2Rq7b5gxUdQwQ  vOw4NYgKe57qcJ5fOjk6PQ  \n",
       "409  bbi-76L0uvQRrno57Qjpaw  EcgpGtxB5916NPqvXwMcjQ  \n",
       "840  YjURbuHKIAQrwQKE8jxszQ  _GVAV2LjUWEs9fGjslex_A  \n",
       "871  mnJHxPTbAxhueeuh76ePZQ  tKgDgXSkOklBb9tQVGkYhQ  "
      ]
     },
     "execution_count": 185,
     "metadata": {},
     "output_type": "execute_result"
    }
   ],
   "source": [
    "# Selecting subset of dataframe for each business category and business id combination\n",
    "df_sub = df_new[['business_categories','business_id','user_id']]\n",
    "df_sub.shape\n",
    "df_sub.head()"
   ]
  },
  {
   "cell_type": "code",
   "execution_count": 186,
   "id": "d02df56a",
   "metadata": {},
   "outputs": [
    {
     "data": {
      "text/plain": [
       "(1136, 3)"
      ]
     },
     "execution_count": 186,
     "metadata": {},
     "output_type": "execute_result"
    }
   ],
   "source": [
    "df_sub.shape"
   ]
  },
  {
   "cell_type": "code",
   "execution_count": 187,
   "id": "587f72a1",
   "metadata": {},
   "outputs": [
    {
     "name": "stdout",
     "output_type": "stream",
     "text": [
      "889\n"
     ]
    }
   ],
   "source": [
    "# Total number of unique userid = number of users\n",
    "userid = []\n",
    "for us in df_sub.user_id:\n",
    "    if us not in userid:\n",
    "        userid.append(us)\n",
    "print(len(userid))"
   ]
  },
  {
   "cell_type": "code",
   "execution_count": 188,
   "id": "7d01cf87",
   "metadata": {},
   "outputs": [
    {
     "data": {
      "text/plain": [
       "(128, 3)"
      ]
     },
     "execution_count": 188,
     "metadata": {},
     "output_type": "execute_result"
    }
   ],
   "source": [
    "# extracting duplicate rows with business_categories and business_id\n",
    "df_ub = df_sub[~ df_sub.duplicated(['business_categories', 'business_id'])]\n",
    "df_ub.shape"
   ]
  },
  {
   "cell_type": "code",
   "execution_count": 189,
   "id": "79461601",
   "metadata": {
    "scrolled": false
   },
   "outputs": [],
   "source": [
    "# storing business_categories and business_id into lists of business_categories and business_ids\n",
    "bsc = list(df_ub['business_categories'])\n",
    "bsd = list(df_ub['business_id'])"
   ]
  },
  {
   "cell_type": "markdown",
   "id": "3025b1ca",
   "metadata": {},
   "source": [
    "#### Now checking if any null value is there in text column. If not, each user has given review. So number of unique users who have given review for each combination of business_category and business_id  equals to count of distinct userids for each combination. Below steps are tried to extract them into dataframe."
   ]
  },
  {
   "cell_type": "code",
   "execution_count": 190,
   "id": "94425042",
   "metadata": {},
   "outputs": [
    {
     "data": {
      "text/plain": [
       "0"
      ]
     },
     "execution_count": 190,
     "metadata": {},
     "output_type": "execute_result"
    }
   ],
   "source": [
    "df_new['text'].isnull().sum()"
   ]
  },
  {
   "cell_type": "code",
   "execution_count": 191,
   "id": "288d5d06",
   "metadata": {},
   "outputs": [],
   "source": [
    "# Defining function for counting unique users for each business_id and business_category combination\n",
    "def uniqueuser_count(bs_id, bsc):\n",
    "    df_temp = df_sub[(df_sub.business_id == bs_id) & (df_sub.business_categories == bsc)]\n",
    "    user = []\n",
    "    for us in df_temp.user_id:\n",
    "        if us not in user:\n",
    "            user.append(us)\n",
    "    return len(user)   "
   ]
  },
  {
   "cell_type": "code",
   "execution_count": 192,
   "id": "a629963c",
   "metadata": {},
   "outputs": [
    {
     "name": "stdout",
     "output_type": "stream",
     "text": [
      "16\n",
      "[16, 49, 8, 4, 13, 22, 4, 30, 20, 45, 5, 23, 48, 30, 16, 7, 5, 5, 67, 5, 4, 9, 21, 4, 6, 4, 35, 6, 17, 19, 3, 14, 29, 10, 12, 5, 2, 13, 3, 12, 21, 10, 21, 3, 4, 7, 5, 5, 9, 8, 3, 5, 4, 20, 3, 3, 4, 7, 3, 3, 23, 6, 9, 5, 6, 5, 5, 3, 10, 4, 8, 3, 6, 5, 3, 4, 11, 4, 11, 11, 5, 6, 3, 3, 3, 3, 8, 3, 6, 5, 3, 3, 4, 2, 3, 5, 6, 5, 8, 5, 3, 3, 5, 3, 3, 4, 4, 7, 3, 3, 4, 5, 4, 2, 3, 6, 4, 3, 3, 3, 4, 6, 4, 3, 3, 2, 6, 4]\n",
      "128\n"
     ]
    }
   ],
   "source": [
    "# Storing count of unique users for each combination in list\n",
    "lis_c = []\n",
    "for i in range(0,len(bsc)):\n",
    "    lis_c.append(uniqueuser_count(bsd[i],bsc[i]))\n",
    "print(uniqueuser_count(bsd[0],bsc[0]))    \n",
    "print(lis_c)\n",
    "print(len(lis_c))"
   ]
  },
  {
   "cell_type": "code",
   "execution_count": 193,
   "id": "cebc1058",
   "metadata": {},
   "outputs": [
    {
     "data": {
      "text/plain": [
       "(128, 3)"
      ]
     },
     "execution_count": 193,
     "metadata": {},
     "output_type": "execute_result"
    }
   ],
   "source": [
    "# Making dictionary of these three lists and converting this dictionary into dataframe\n",
    "dict_user = {'business_id':bsd,\n",
    "             'business_categories': bsc,\n",
    "             'count': lis_c}\n",
    "df_u = pd.DataFrame(dict_user)\n",
    "df_u.shape"
   ]
  },
  {
   "cell_type": "code",
   "execution_count": 194,
   "id": "06830478",
   "metadata": {},
   "outputs": [
    {
     "data": {
      "text/html": [
       "<div>\n",
       "<style scoped>\n",
       "    .dataframe tbody tr th:only-of-type {\n",
       "        vertical-align: middle;\n",
       "    }\n",
       "\n",
       "    .dataframe tbody tr th {\n",
       "        vertical-align: top;\n",
       "    }\n",
       "\n",
       "    .dataframe thead th {\n",
       "        text-align: right;\n",
       "    }\n",
       "</style>\n",
       "<table border=\"1\" class=\"dataframe\">\n",
       "  <thead>\n",
       "    <tr style=\"text-align: right;\">\n",
       "      <th></th>\n",
       "      <th>business_id</th>\n",
       "      <th>business_categories</th>\n",
       "      <th>count</th>\n",
       "    </tr>\n",
       "  </thead>\n",
       "  <tbody>\n",
       "    <tr>\n",
       "      <th>0</th>\n",
       "      <td>ImghNwml8N-ncAqhXe00hg</td>\n",
       "      <td>Chinese; Restaurants</td>\n",
       "      <td>16</td>\n",
       "    </tr>\n",
       "    <tr>\n",
       "      <th>1</th>\n",
       "      <td>8qrICL2tS2Rq7b5gxUdQwQ</td>\n",
       "      <td>Thai; Restaurants</td>\n",
       "      <td>49</td>\n",
       "    </tr>\n",
       "    <tr>\n",
       "      <th>2</th>\n",
       "      <td>bbi-76L0uvQRrno57Qjpaw</td>\n",
       "      <td>Food; Specialty Food; Candy Stores; Chocolatie...</td>\n",
       "      <td>8</td>\n",
       "    </tr>\n",
       "    <tr>\n",
       "      <th>3</th>\n",
       "      <td>YjURbuHKIAQrwQKE8jxszQ</td>\n",
       "      <td>Pizza; Restaurants</td>\n",
       "      <td>4</td>\n",
       "    </tr>\n",
       "    <tr>\n",
       "      <th>4</th>\n",
       "      <td>mnJHxPTbAxhueeuh76ePZQ</td>\n",
       "      <td>Sushi Bars; Japanese; Restaurants</td>\n",
       "      <td>13</td>\n",
       "    </tr>\n",
       "  </tbody>\n",
       "</table>\n",
       "</div>"
      ],
      "text/plain": [
       "              business_id                                business_categories  \\\n",
       "0  ImghNwml8N-ncAqhXe00hg                               Chinese; Restaurants   \n",
       "1  8qrICL2tS2Rq7b5gxUdQwQ                                  Thai; Restaurants   \n",
       "2  bbi-76L0uvQRrno57Qjpaw  Food; Specialty Food; Candy Stores; Chocolatie...   \n",
       "3  YjURbuHKIAQrwQKE8jxszQ                                 Pizza; Restaurants   \n",
       "4  mnJHxPTbAxhueeuh76ePZQ                  Sushi Bars; Japanese; Restaurants   \n",
       "\n",
       "   count  \n",
       "0     16  \n",
       "1     49  \n",
       "2      8  \n",
       "3      4  \n",
       "4     13  "
      ]
     },
     "execution_count": 194,
     "metadata": {},
     "output_type": "execute_result"
    }
   ],
   "source": [
    "# Showing the output dataframe \n",
    "df_u.head()"
   ]
  },
  {
   "cell_type": "code",
   "execution_count": null,
   "id": "88ebb1a9",
   "metadata": {},
   "outputs": [],
   "source": []
  },
  {
   "cell_type": "code",
   "execution_count": null,
   "id": "dfd9de2f",
   "metadata": {},
   "outputs": [],
   "source": []
  },
  {
   "cell_type": "markdown",
   "id": "8e5b9d9f",
   "metadata": {},
   "source": [
    "# Q4. Plotting and Analysis"
   ]
  },
  {
   "cell_type": "markdown",
   "id": "1fe2a1bb",
   "metadata": {},
   "source": [
    "Explore the distribution of each variable, or the correlation between the `business_city`, `useful`,`business_categories` or `other variables` and the `stars` column in both the cleaned dataset from Q1 and the sampled dataset from Q2. For instance, does some cities tend to provide higher stars than others? Hint: you may use the boxplot function to plot figures for comparison (___Challenge___).\n",
    "    \n",
    "You may need to select the most suitable graphic forms for ease of presentation. Most importantly, for each figure or subfigure, please summarise ___what each plot shows___ (i.e. observations and explanations). Finally, you may need to provide an overall summary of the Yelp data."
   ]
  },
  {
   "cell_type": "markdown",
   "id": "d5e27994",
   "metadata": {},
   "source": [
    "Analysis and observation are open, and require you to think critically and analyze data to develop your own insights and conclusions. It's important for you to analyze the data, identify patterns, draw your own conclusions, and communicate your findings. This fosters critical thinking skills, ownership of learning, and a deeper understanding of the data."
   ]
  },
  {
   "cell_type": "code",
   "execution_count": 195,
   "id": "2f89f8c6",
   "metadata": {},
   "outputs": [],
   "source": [
    "# your code and solutions"
   ]
  },
  {
   "cell_type": "markdown",
   "id": "e5a8726c",
   "metadata": {},
   "source": [
    "### Clean dataset from  Q1 is df_clean and from Q2 is df_new"
   ]
  },
  {
   "cell_type": "code",
   "execution_count": 196,
   "id": "45eb0b69",
   "metadata": {},
   "outputs": [],
   "source": [
    "import matplotlib.pyplot as plt\n",
    "import numpy as np"
   ]
  },
  {
   "cell_type": "code",
   "execution_count": 197,
   "id": "443a5e2f",
   "metadata": {},
   "outputs": [
    {
     "data": {
      "text/html": [
       "<div>\n",
       "<style scoped>\n",
       "    .dataframe tbody tr th:only-of-type {\n",
       "        vertical-align: middle;\n",
       "    }\n",
       "\n",
       "    .dataframe tbody tr th {\n",
       "        vertical-align: top;\n",
       "    }\n",
       "\n",
       "    .dataframe thead th {\n",
       "        text-align: right;\n",
       "    }\n",
       "</style>\n",
       "<table border=\"1\" class=\"dataframe\">\n",
       "  <thead>\n",
       "    <tr style=\"text-align: right;\">\n",
       "      <th></th>\n",
       "      <th>business_categories</th>\n",
       "      <th>business_city</th>\n",
       "      <th>business_id</th>\n",
       "      <th>date</th>\n",
       "      <th>stars</th>\n",
       "      <th>text</th>\n",
       "      <th>useful</th>\n",
       "      <th>user_id</th>\n",
       "    </tr>\n",
       "  </thead>\n",
       "  <tbody>\n",
       "    <tr>\n",
       "      <th>0</th>\n",
       "      <td>Breakfast &amp; Brunch; Restaurants</td>\n",
       "      <td>Phoenix</td>\n",
       "      <td>9yKzy9PApeiPPOUJEtnvkg</td>\n",
       "      <td>26/1/2011</td>\n",
       "      <td>5</td>\n",
       "      <td>My wife took me here on my birthday for breakf...</td>\n",
       "      <td>5</td>\n",
       "      <td>rLtl8ZkDX5vH5nAx9C3q5Q</td>\n",
       "    </tr>\n",
       "    <tr>\n",
       "      <th>1</th>\n",
       "      <td>Italian; Pizza; Restaurants</td>\n",
       "      <td>Phoenix</td>\n",
       "      <td>ZRJwVLyzEJq1VAihDhYiow</td>\n",
       "      <td>27/7/2011</td>\n",
       "      <td>5</td>\n",
       "      <td>I have no idea why some people give bad review...</td>\n",
       "      <td>0</td>\n",
       "      <td>0a2KyEL0d3Yb1V6aivbIuQ</td>\n",
       "    </tr>\n",
       "    <tr>\n",
       "      <th>2</th>\n",
       "      <td>Middle Eastern; Restaurants</td>\n",
       "      <td>Tempe</td>\n",
       "      <td>6oRAC4uyJCsJl1X0WZpVSA</td>\n",
       "      <td>14/6/2012</td>\n",
       "      <td>4</td>\n",
       "      <td>love the gyro plate. Rice is so good and I als...</td>\n",
       "      <td>1</td>\n",
       "      <td>0hT2KtfLiobPvh6cDC8JQg</td>\n",
       "    </tr>\n",
       "    <tr>\n",
       "      <th>3</th>\n",
       "      <td>Active Life; Dog Parks; Parks</td>\n",
       "      <td>Scottsdale</td>\n",
       "      <td>_1QQZuf4zZOyFCvXc0o6Vg</td>\n",
       "      <td>27/5/2010</td>\n",
       "      <td>5</td>\n",
       "      <td>Rosie, Dakota, and I LOVE Chaparral Dog Park!!...</td>\n",
       "      <td>2</td>\n",
       "      <td>uZetl9T0NcROGOyFfughhg</td>\n",
       "    </tr>\n",
       "    <tr>\n",
       "      <th>4</th>\n",
       "      <td>Tires; Automotive</td>\n",
       "      <td>Mesa</td>\n",
       "      <td>6ozycU1RpktNG2-1BroVtw</td>\n",
       "      <td>5/1/2012</td>\n",
       "      <td>5</td>\n",
       "      <td>General Manager Scott Petello is a good egg!!!...</td>\n",
       "      <td>0</td>\n",
       "      <td>vYmM4KTsC8ZfQBg-j5MWkw</td>\n",
       "    </tr>\n",
       "  </tbody>\n",
       "</table>\n",
       "</div>"
      ],
      "text/plain": [
       "               business_categories business_city             business_id  \\\n",
       "0  Breakfast & Brunch; Restaurants       Phoenix  9yKzy9PApeiPPOUJEtnvkg   \n",
       "1      Italian; Pizza; Restaurants       Phoenix  ZRJwVLyzEJq1VAihDhYiow   \n",
       "2      Middle Eastern; Restaurants         Tempe  6oRAC4uyJCsJl1X0WZpVSA   \n",
       "3    Active Life; Dog Parks; Parks    Scottsdale  _1QQZuf4zZOyFCvXc0o6Vg   \n",
       "4                Tires; Automotive          Mesa  6ozycU1RpktNG2-1BroVtw   \n",
       "\n",
       "        date  stars                                               text  \\\n",
       "0  26/1/2011      5  My wife took me here on my birthday for breakf...   \n",
       "1  27/7/2011      5  I have no idea why some people give bad review...   \n",
       "2  14/6/2012      4  love the gyro plate. Rice is so good and I als...   \n",
       "3  27/5/2010      5  Rosie, Dakota, and I LOVE Chaparral Dog Park!!...   \n",
       "4   5/1/2012      5  General Manager Scott Petello is a good egg!!!...   \n",
       "\n",
       "   useful                 user_id  \n",
       "0       5  rLtl8ZkDX5vH5nAx9C3q5Q  \n",
       "1       0  0a2KyEL0d3Yb1V6aivbIuQ  \n",
       "2       1  0hT2KtfLiobPvh6cDC8JQg  \n",
       "3       2  uZetl9T0NcROGOyFfughhg  \n",
       "4       0  vYmM4KTsC8ZfQBg-j5MWkw  "
      ]
     },
     "execution_count": 197,
     "metadata": {},
     "output_type": "execute_result"
    }
   ],
   "source": [
    "# Taking the dataset from Q1 \n",
    "df_clean.head()"
   ]
  },
  {
   "cell_type": "code",
   "execution_count": 198,
   "id": "3b37af96",
   "metadata": {},
   "outputs": [],
   "source": [
    "import matplotlib.pyplot as plt"
   ]
  },
  {
   "cell_type": "code",
   "execution_count": 199,
   "id": "dd227260",
   "metadata": {},
   "outputs": [
    {
     "data": {
      "text/plain": [
       "(222759, 3)"
      ]
     },
     "execution_count": 199,
     "metadata": {},
     "output_type": "execute_result"
    }
   ],
   "source": [
    "# Selecting subset of dataframe\n",
    "df_c = df_clean[['business_categories','business_city','stars']]\n",
    "df_c.shape"
   ]
  },
  {
   "cell_type": "code",
   "execution_count": 200,
   "id": "4f177495",
   "metadata": {},
   "outputs": [
    {
     "data": {
      "text/plain": [
       "(73832, 3)"
      ]
     },
     "execution_count": 200,
     "metadata": {},
     "output_type": "execute_result"
    }
   ],
   "source": [
    "# Selecting subset of the dataframe with 5 stars\n",
    "df_countcity = df_c[(df_c.stars == 5 )]\n",
    "df_countcity.shape"
   ]
  },
  {
   "cell_type": "code",
   "execution_count": 201,
   "id": "3caac046",
   "metadata": {},
   "outputs": [
    {
     "name": "stdout",
     "output_type": "stream",
     "text": [
      "Number of unique cities in the dataframe 59\n"
     ]
    }
   ],
   "source": [
    "# Now extracting name of unique cities in the dataframe and storing it in a list\n",
    "list_city = []\n",
    "for city in df_countcity.business_city:\n",
    "  if city not in list_city:\n",
    "    list_city.append(city)\n",
    "\n",
    "print('Number of unique cities in the dataframe '+ str(len(list_city)))"
   ]
  },
  {
   "cell_type": "code",
   "execution_count": 202,
   "id": "994aa539",
   "metadata": {},
   "outputs": [],
   "source": [
    "# Defining a function for counting number of  5 stars for each city\n",
    "def count_no_of_fivestar(x):\n",
    "  lclis = []\n",
    "  for ind in df_countcity.index:\n",
    "    if (df_countcity['business_city'][ind] == x):\n",
    "      lclis.append(df_countcity['stars'][ind])\n",
    "  return len(lclis)"
   ]
  },
  {
   "cell_type": "code",
   "execution_count": 203,
   "id": "ddce3219",
   "metadata": {},
   "outputs": [],
   "source": [
    "# For each city , storing number of 5 stars in list \n",
    "c5list = []\n",
    "for city in list_city:\n",
    "  c5list.append(count_no_of_fivestar(city))"
   ]
  },
  {
   "cell_type": "code",
   "execution_count": 204,
   "id": "3e4659a8",
   "metadata": {},
   "outputs": [
    {
     "data": {
      "text/html": [
       "<div>\n",
       "<style scoped>\n",
       "    .dataframe tbody tr th:only-of-type {\n",
       "        vertical-align: middle;\n",
       "    }\n",
       "\n",
       "    .dataframe tbody tr th {\n",
       "        vertical-align: top;\n",
       "    }\n",
       "\n",
       "    .dataframe thead th {\n",
       "        text-align: right;\n",
       "    }\n",
       "</style>\n",
       "<table border=\"1\" class=\"dataframe\">\n",
       "  <thead>\n",
       "    <tr style=\"text-align: right;\">\n",
       "      <th></th>\n",
       "      <th>city</th>\n",
       "      <th>count5star</th>\n",
       "    </tr>\n",
       "  </thead>\n",
       "  <tbody>\n",
       "    <tr>\n",
       "      <th>0</th>\n",
       "      <td>Phoenix</td>\n",
       "      <td>30970</td>\n",
       "    </tr>\n",
       "    <tr>\n",
       "      <th>1</th>\n",
       "      <td>Scottsdale</td>\n",
       "      <td>16795</td>\n",
       "    </tr>\n",
       "    <tr>\n",
       "      <th>2</th>\n",
       "      <td>Mesa</td>\n",
       "      <td>3633</td>\n",
       "    </tr>\n",
       "    <tr>\n",
       "      <th>3</th>\n",
       "      <td>Chandler</td>\n",
       "      <td>4667</td>\n",
       "    </tr>\n",
       "    <tr>\n",
       "      <th>4</th>\n",
       "      <td>Gilbert</td>\n",
       "      <td>2200</td>\n",
       "    </tr>\n",
       "  </tbody>\n",
       "</table>\n",
       "</div>"
      ],
      "text/plain": [
       "         city  count5star\n",
       "0     Phoenix       30970\n",
       "1  Scottsdale       16795\n",
       "2        Mesa        3633\n",
       "3    Chandler        4667\n",
       "4     Gilbert        2200"
      ]
     },
     "execution_count": 204,
     "metadata": {},
     "output_type": "execute_result"
    }
   ],
   "source": [
    "# Storing list of cities and list of number of 5 stars into a dictionary and converting the dictionary into dataframe  \n",
    "dict_5starcount = {\n",
    "    'city': list_city,\n",
    "    'count5star': c5list\n",
    "}\n",
    "df_5 = pd.DataFrame(dict_5starcount)\n",
    "df_5.shape\n",
    "df_5.head()"
   ]
  },
  {
   "cell_type": "code",
   "execution_count": 205,
   "id": "0371fee4",
   "metadata": {},
   "outputs": [
    {
     "data": {
      "text/plain": [
       "count       59.000000\n",
       "mean      1251.389831\n",
       "std       4678.420427\n",
       "min          1.000000\n",
       "25%          7.000000\n",
       "50%         23.000000\n",
       "75%        156.500000\n",
       "max      30970.000000\n",
       "Name: count5star, dtype: float64"
      ]
     },
     "execution_count": 205,
     "metadata": {},
     "output_type": "execute_result"
    }
   ],
   "source": [
    "# Sorting the dataframe by value of count5star and showing the statistics of count5star column\n",
    "df_5sort = df_5.sort_values(by=['count5star'], ascending=False)\n",
    "df_5sort['count5star'].describe()"
   ]
  },
  {
   "cell_type": "code",
   "execution_count": 206,
   "id": "374dabf9",
   "metadata": {},
   "outputs": [
    {
     "data": {
      "text/plain": [
       "(7, 2)"
      ]
     },
     "execution_count": 206,
     "metadata": {},
     "output_type": "execute_result"
    }
   ],
   "source": [
    "# Extracting mean of values of count5star and deviding the dataframe with mean of count5star and observing the dataframe with count5star greater than mean\n",
    "mean5 = df_5sort['count5star'].mean()\n",
    "df_5sortmeang = df_5sort[(df_5sort.count5star >= mean5 )]\n",
    "df_5sortmeans = df_5sort[(df_5sort.count5star < mean5 )]\n",
    "df_5sortmeang.shape"
   ]
  },
  {
   "cell_type": "code",
   "execution_count": 207,
   "id": "794335d3",
   "metadata": {},
   "outputs": [
    {
     "data": {
      "image/png": "[encoded data removed]",
      "text/plain": [
       "<Figure size 1100x800 with 1 Axes>"
      ]
     },
     "metadata": {},
     "output_type": "display_data"
    }
   ],
   "source": [
    "# Plotting a boxplot for dataframe with value of count5star greater than mean of count5star\n",
    "import seaborn as sns\n",
    "\n",
    "sns.set(rc={'figure.figsize':(11,8)})\n",
    "sns.set_style('whitegrid')\n",
    "ax = sns.boxplot(x='city',y='count5star',data=df_5sortmeang)\n"
   ]
  },
  {
   "cell_type": "markdown",
   "id": "609072ec",
   "metadata": {},
   "source": [
    "#### From the boxplot , we can clearly observe that the city with highest count of 5 stars is Phoenix. Also it can observed that the seven cities which tend to provide more 5 stars are Phoenix, Scottsdale, Tempe, Chandler, Mesa, Glendale, Gilbert."
   ]
  },
  {
   "cell_type": "code",
   "execution_count": 208,
   "id": "be95c1a5",
   "metadata": {},
   "outputs": [
    {
     "name": "stdout",
     "output_type": "stream",
     "text": [
      "Number of unique 4 stars provider cities in the dataframe 58\n"
     ]
    }
   ],
   "source": [
    "# Now extracting name of unique cities in the dataframe and storing it in a list\n",
    "df_4 = df_clean[df_clean.stars == 4]\n",
    "list_city4 = []\n",
    "for city in df_4.business_city:\n",
    "  if city not in list_city4:\n",
    "    list_city4.append(city)\n",
    "\n",
    "print('Number of unique 4 stars provider cities in the dataframe '+ str(len(list_city4)))"
   ]
  },
  {
   "cell_type": "code",
   "execution_count": 209,
   "id": "93198503",
   "metadata": {},
   "outputs": [],
   "source": [
    "# Defining a function for counting number of stars for each city\n",
    "def count_no_of_stars(x, df):\n",
    "  lclis = []\n",
    "  for ind in df.index:\n",
    "    if (df['business_city'][ind] == x):\n",
    "      lclis.append(df['stars'][ind])\n",
    "  return len(lclis)"
   ]
  },
  {
   "cell_type": "code",
   "execution_count": 210,
   "id": "8aac00a0",
   "metadata": {},
   "outputs": [],
   "source": [
    "# Defining function for getting list of cities and count of stars for each by stars\n",
    "def get_citiesbystar(st):\n",
    "    df_st = df_clean[df_clean.stars == st]\n",
    "    list_temp = []\n",
    "    for city in df_st.business_city:\n",
    "        if city not in list_temp:\n",
    "            list_temp.append(city)\n",
    "    count_temp = []\n",
    "    for city in list_temp:\n",
    "        count_temp.append(count_no_of_stars(city,df_st))\n",
    "        \n",
    "    return {'city': list_temp,'count':count_temp}\n",
    "            \n",
    "            \n",
    "    "
   ]
  },
  {
   "cell_type": "code",
   "execution_count": 211,
   "id": "1d8f2c3a",
   "metadata": {},
   "outputs": [
    {
     "data": {
      "text/html": [
       "<div>\n",
       "<style scoped>\n",
       "    .dataframe tbody tr th:only-of-type {\n",
       "        vertical-align: middle;\n",
       "    }\n",
       "\n",
       "    .dataframe tbody tr th {\n",
       "        vertical-align: top;\n",
       "    }\n",
       "\n",
       "    .dataframe thead th {\n",
       "        text-align: right;\n",
       "    }\n",
       "</style>\n",
       "<table border=\"1\" class=\"dataframe\">\n",
       "  <thead>\n",
       "    <tr style=\"text-align: right;\">\n",
       "      <th></th>\n",
       "      <th>city</th>\n",
       "      <th>count</th>\n",
       "    </tr>\n",
       "  </thead>\n",
       "  <tbody>\n",
       "    <tr>\n",
       "      <th>0</th>\n",
       "      <td>Tempe</td>\n",
       "      <td>9568</td>\n",
       "    </tr>\n",
       "    <tr>\n",
       "      <th>1</th>\n",
       "      <td>Phoenix</td>\n",
       "      <td>32787</td>\n",
       "    </tr>\n",
       "    <tr>\n",
       "      <th>2</th>\n",
       "      <td>Scottsdale</td>\n",
       "      <td>17637</td>\n",
       "    </tr>\n",
       "    <tr>\n",
       "      <th>3</th>\n",
       "      <td>Mesa</td>\n",
       "      <td>3547</td>\n",
       "    </tr>\n",
       "    <tr>\n",
       "      <th>4</th>\n",
       "      <td>Chandler</td>\n",
       "      <td>5217</td>\n",
       "    </tr>\n",
       "  </tbody>\n",
       "</table>\n",
       "</div>"
      ],
      "text/plain": [
       "         city  count\n",
       "0       Tempe   9568\n",
       "1     Phoenix  32787\n",
       "2  Scottsdale  17637\n",
       "3        Mesa   3547\n",
       "4    Chandler   5217"
      ]
     },
     "execution_count": 211,
     "metadata": {},
     "output_type": "execute_result"
    }
   ],
   "source": [
    "# getting dataframe for 4 star giver city \n",
    "dict_4 = get_citiesbystar(4)\n",
    "df_4 = pd.DataFrame(dict_4)\n",
    "df_4.head()"
   ]
  },
  {
   "cell_type": "code",
   "execution_count": 212,
   "id": "33f5e799",
   "metadata": {},
   "outputs": [
    {
     "data": {
      "text/html": [
       "<div>\n",
       "<style scoped>\n",
       "    .dataframe tbody tr th:only-of-type {\n",
       "        vertical-align: middle;\n",
       "    }\n",
       "\n",
       "    .dataframe tbody tr th {\n",
       "        vertical-align: top;\n",
       "    }\n",
       "\n",
       "    .dataframe thead th {\n",
       "        text-align: right;\n",
       "    }\n",
       "</style>\n",
       "<table border=\"1\" class=\"dataframe\">\n",
       "  <thead>\n",
       "    <tr style=\"text-align: right;\">\n",
       "      <th></th>\n",
       "      <th>city</th>\n",
       "      <th>count</th>\n",
       "    </tr>\n",
       "  </thead>\n",
       "  <tbody>\n",
       "    <tr>\n",
       "      <th>0</th>\n",
       "      <td>Phoenix</td>\n",
       "      <td>14354</td>\n",
       "    </tr>\n",
       "    <tr>\n",
       "      <th>1</th>\n",
       "      <td>Scottsdale</td>\n",
       "      <td>7728</td>\n",
       "    </tr>\n",
       "    <tr>\n",
       "      <th>2</th>\n",
       "      <td>Gilbert</td>\n",
       "      <td>821</td>\n",
       "    </tr>\n",
       "    <tr>\n",
       "      <th>3</th>\n",
       "      <td>Glendale</td>\n",
       "      <td>1247</td>\n",
       "    </tr>\n",
       "    <tr>\n",
       "      <th>4</th>\n",
       "      <td>Tempe</td>\n",
       "      <td>4448</td>\n",
       "    </tr>\n",
       "  </tbody>\n",
       "</table>\n",
       "</div>"
      ],
      "text/plain": [
       "         city  count\n",
       "0     Phoenix  14354\n",
       "1  Scottsdale   7728\n",
       "2     Gilbert    821\n",
       "3    Glendale   1247\n",
       "4       Tempe   4448"
      ]
     },
     "execution_count": 212,
     "metadata": {},
     "output_type": "execute_result"
    }
   ],
   "source": [
    "# getting dataframe for 3 star giver city \n",
    "dict_3 = get_citiesbystar(3)\n",
    "df_3 = pd.DataFrame(dict_3)\n",
    "df_3.head()"
   ]
  },
  {
   "cell_type": "code",
   "execution_count": 213,
   "id": "b46ec96a",
   "metadata": {},
   "outputs": [
    {
     "data": {
      "text/html": [
       "<div>\n",
       "<style scoped>\n",
       "    .dataframe tbody tr th:only-of-type {\n",
       "        vertical-align: middle;\n",
       "    }\n",
       "\n",
       "    .dataframe tbody tr th {\n",
       "        vertical-align: top;\n",
       "    }\n",
       "\n",
       "    .dataframe thead th {\n",
       "        text-align: right;\n",
       "    }\n",
       "</style>\n",
       "<table border=\"1\" class=\"dataframe\">\n",
       "  <thead>\n",
       "    <tr style=\"text-align: right;\">\n",
       "      <th></th>\n",
       "      <th>city</th>\n",
       "      <th>count</th>\n",
       "    </tr>\n",
       "  </thead>\n",
       "  <tbody>\n",
       "    <tr>\n",
       "      <th>0</th>\n",
       "      <td>Phoenix</td>\n",
       "      <td>8549</td>\n",
       "    </tr>\n",
       "    <tr>\n",
       "      <th>1</th>\n",
       "      <td>Scottsdale</td>\n",
       "      <td>4629</td>\n",
       "    </tr>\n",
       "    <tr>\n",
       "      <th>2</th>\n",
       "      <td>Tempe</td>\n",
       "      <td>2563</td>\n",
       "    </tr>\n",
       "    <tr>\n",
       "      <th>3</th>\n",
       "      <td>Glendale</td>\n",
       "      <td>717</td>\n",
       "    </tr>\n",
       "    <tr>\n",
       "      <th>4</th>\n",
       "      <td>Gilbert</td>\n",
       "      <td>499</td>\n",
       "    </tr>\n",
       "  </tbody>\n",
       "</table>\n",
       "</div>"
      ],
      "text/plain": [
       "         city  count\n",
       "0     Phoenix   8549\n",
       "1  Scottsdale   4629\n",
       "2       Tempe   2563\n",
       "3    Glendale    717\n",
       "4     Gilbert    499"
      ]
     },
     "execution_count": 213,
     "metadata": {},
     "output_type": "execute_result"
    }
   ],
   "source": [
    "# getting dataframe for 2 star giver city \n",
    "dict_2 = get_citiesbystar(2)\n",
    "df_2 = pd.DataFrame(dict_2)\n",
    "df_2.head()"
   ]
  },
  {
   "cell_type": "code",
   "execution_count": 214,
   "id": "058cf422",
   "metadata": {},
   "outputs": [
    {
     "data": {
      "text/html": [
       "<div>\n",
       "<style scoped>\n",
       "    .dataframe tbody tr th:only-of-type {\n",
       "        vertical-align: middle;\n",
       "    }\n",
       "\n",
       "    .dataframe tbody tr th {\n",
       "        vertical-align: top;\n",
       "    }\n",
       "\n",
       "    .dataframe thead th {\n",
       "        text-align: right;\n",
       "    }\n",
       "</style>\n",
       "<table border=\"1\" class=\"dataframe\">\n",
       "  <thead>\n",
       "    <tr style=\"text-align: right;\">\n",
       "      <th></th>\n",
       "      <th>city</th>\n",
       "      <th>count</th>\n",
       "    </tr>\n",
       "  </thead>\n",
       "  <tbody>\n",
       "    <tr>\n",
       "      <th>0</th>\n",
       "      <td>Mesa</td>\n",
       "      <td>908</td>\n",
       "    </tr>\n",
       "    <tr>\n",
       "      <th>1</th>\n",
       "      <td>Phoenix</td>\n",
       "      <td>6461</td>\n",
       "    </tr>\n",
       "    <tr>\n",
       "      <th>2</th>\n",
       "      <td>Scottsdale</td>\n",
       "      <td>3676</td>\n",
       "    </tr>\n",
       "    <tr>\n",
       "      <th>3</th>\n",
       "      <td>Tempe</td>\n",
       "      <td>2226</td>\n",
       "    </tr>\n",
       "    <tr>\n",
       "      <th>4</th>\n",
       "      <td>Chandler</td>\n",
       "      <td>1173</td>\n",
       "    </tr>\n",
       "  </tbody>\n",
       "</table>\n",
       "</div>"
      ],
      "text/plain": [
       "         city  count\n",
       "0        Mesa    908\n",
       "1     Phoenix   6461\n",
       "2  Scottsdale   3676\n",
       "3       Tempe   2226\n",
       "4    Chandler   1173"
      ]
     },
     "execution_count": 214,
     "metadata": {},
     "output_type": "execute_result"
    }
   ],
   "source": [
    "# getting dataframe for 1 star giver city \n",
    "dict_1 = get_citiesbystar(1)\n",
    "df_1 = pd.DataFrame(dict_1)\n",
    "df_1.head()"
   ]
  },
  {
   "cell_type": "code",
   "execution_count": 215,
   "id": "400e5752",
   "metadata": {},
   "outputs": [
    {
     "name": "stdout",
     "output_type": "stream",
     "text": [
      "Number of unique cities: 61\n"
     ]
    }
   ],
   "source": [
    "# unique cities in whole dataframe in a list\n",
    "list_unique_cities = []\n",
    "for city in df_clean.business_city:\n",
    "    if city not in list_unique_cities:\n",
    "        list_unique_cities.append(city)\n",
    "\n",
    "print('Number of unique cities: '+ str(len(list_unique_cities)))\n",
    "    "
   ]
  },
  {
   "cell_type": "code",
   "execution_count": 216,
   "id": "03ffa18a",
   "metadata": {},
   "outputs": [
    {
     "data": {
      "text/plain": [
       "(7, 2)"
      ]
     },
     "execution_count": 216,
     "metadata": {},
     "output_type": "execute_result"
    }
   ],
   "source": [
    "mean4 = df_4['count'].mean()\n",
    "df_4gm = df_4[(df_4['count'] >= mean4)]\n",
    "df_4sm = df_4[(df_4['count'] < mean4)]\n",
    "df_4gm.shape\n"
   ]
  },
  {
   "cell_type": "code",
   "execution_count": 217,
   "id": "adb3a695",
   "metadata": {},
   "outputs": [
    {
     "data": {
      "image/png": "[encoded data removed]",
      "text/plain": [
       "<Figure size 1100x800 with 1 Axes>"
      ]
     },
     "metadata": {},
     "output_type": "display_data"
    }
   ],
   "source": [
    "# Plotting a boxplot for dataframe with value of count for 4 star greater than mean of count5star\n",
    "import seaborn as sns\n",
    "\n",
    "sns.set(rc={'figure.figsize':(11,8)})\n",
    "sns.set_style('whitegrid')\n",
    "ax = sns.boxplot(x='city',y='count',data=df_4gm)\n"
   ]
  },
  {
   "cell_type": "markdown",
   "id": "9d16480f",
   "metadata": {},
   "source": [
    "#### From the boxplot , we can clearly observe that the city with highest count of 4 stars is Phoenix. Also it can observed that the seven cities which tend to provide more 4 stars are Phoenix, Scottsdale, Tempe, Chandler, Mesa, Glendale, Gilbert."
   ]
  },
  {
   "cell_type": "code",
   "execution_count": 218,
   "id": "880f631e",
   "metadata": {},
   "outputs": [
    {
     "name": "stdout",
     "output_type": "stream",
     "text": [
      "Mean of count for cities which are 3 stars provider 622.4545454545455\n",
      "(7, 2)\n"
     ]
    }
   ],
   "source": [
    "mean3 = df_3['count'].mean()\n",
    "print('Mean of count for cities which are 3 stars provider ' + str(mean3) )\n",
    "df_3gm = df_3[(df_3['count'] >= mean3)]\n",
    "df_3sm = df_3[(df_3['count'] < mean3)]\n",
    "print(df_3gm.shape)\n"
   ]
  },
  {
   "cell_type": "code",
   "execution_count": 219,
   "id": "681582c9",
   "metadata": {},
   "outputs": [
    {
     "data": {
      "image/png": "[encoded data removed]",
      "text/plain": [
       "<Figure size 1100x800 with 1 Axes>"
      ]
     },
     "metadata": {},
     "output_type": "display_data"
    }
   ],
   "source": [
    "# Plotting a boxplot for dataframe with value of count for 3 star greater than mean of count\n",
    "import seaborn as sns\n",
    "\n",
    "sns.set(rc={'figure.figsize':(11,8)})\n",
    "sns.set_style('whitegrid')\n",
    "ax = sns.boxplot(x='city',y='count',data=df_3gm)\n"
   ]
  },
  {
   "cell_type": "markdown",
   "id": "ccd0e471",
   "metadata": {},
   "source": [
    "#### From the boxplot , we can clearly observe that the city with highest count of 3 stars is Phoenix. Also it can observed that the seven cities which tend to provide more 3 stars are Phoenix, Scottsdale, Tempe, Chandler, Mesa, Glendale, Gilbert."
   ]
  },
  {
   "cell_type": "code",
   "execution_count": 220,
   "id": "761cc7f6",
   "metadata": {},
   "outputs": [
    {
     "name": "stdout",
     "output_type": "stream",
     "text": [
      "Mean of count for cities which are 2 stars provider 415.18367346938777\n",
      "(7, 2)\n"
     ]
    }
   ],
   "source": [
    "mean2 = df_2['count'].mean()\n",
    "print('Mean of count for cities which are 2 stars provider ' + str(mean2) )\n",
    "df_2gm = df_2[(df_2['count'] >= mean2)]\n",
    "df_2sm = df_2[(df_2['count'] < mean2)]\n",
    "print(df_2gm.shape)\n"
   ]
  },
  {
   "cell_type": "code",
   "execution_count": 221,
   "id": "5f0db8af",
   "metadata": {},
   "outputs": [
    {
     "data": {
      "image/png": "[encoded data removed]",
      "text/plain": [
       "<Figure size 1100x800 with 1 Axes>"
      ]
     },
     "metadata": {},
     "output_type": "display_data"
    }
   ],
   "source": [
    "# Plotting a boxplot for dataframe with value of count for 2 star greater than mean of count\n",
    "import seaborn as sns\n",
    "\n",
    "sns.set(rc={'figure.figsize':(11,8)})\n",
    "sns.set_style('whitegrid')\n",
    "ax = sns.boxplot(x='city',y='count',data=df_2gm)\n"
   ]
  },
  {
   "cell_type": "markdown",
   "id": "568fbcd9",
   "metadata": {},
   "source": [
    "#### From the boxplot , we can clearly observe that the city with highest count of 2 stars is Phoenix. Also it can observed that the seven cities which tend to provide more 2 stars are Phoenix, Scottsdale, Tempe, Chandler, Mesa, Glendale, Gilbert."
   ]
  },
  {
   "cell_type": "code",
   "execution_count": 222,
   "id": "12919888",
   "metadata": {},
   "outputs": [
    {
     "name": "stdout",
     "output_type": "stream",
     "text": [
      "Mean of count for cities which are 1 star provider 330.6470588235294\n",
      "(7, 2)\n"
     ]
    }
   ],
   "source": [
    "mean1 = df_1['count'].mean()\n",
    "print('Mean of count for cities which are 1 star provider ' + str(mean1) )\n",
    "df_1gm = df_1[(df_1['count'] >= mean2)]\n",
    "df_1sm = df_1[(df_1['count'] < mean2)]\n",
    "print(df_1gm.shape)"
   ]
  },
  {
   "cell_type": "code",
   "execution_count": 223,
   "id": "d9ffa58d",
   "metadata": {},
   "outputs": [
    {
     "data": {
      "image/png": "[encoded data removed]",
      "text/plain": [
       "<Figure size 1100x800 with 1 Axes>"
      ]
     },
     "metadata": {},
     "output_type": "display_data"
    }
   ],
   "source": [
    "# Plotting a boxplot for dataframe with value of count for 1 star greater than mean of count\n",
    "import seaborn as sns\n",
    "\n",
    "sns.set(rc={'figure.figsize':(11,8)})\n",
    "sns.set_style('whitegrid')\n",
    "ax = sns.boxplot(x='city',y='count',data=df_1gm)"
   ]
  },
  {
   "cell_type": "markdown",
   "id": "be43fa7b",
   "metadata": {},
   "source": [
    "#### From the boxplot , we can clearly observe that the city with highest count of 1 stars is Phoenix. Also it can observed that the seven cities which tend to provide more 1 stars are Phoenix, Scottsdale, Tempe, Chandler, Mesa, Glendale, Gilbert."
   ]
  },
  {
   "cell_type": "markdown",
   "id": "49ee2ae1",
   "metadata": {},
   "source": [
    "So by observing every boxplot, we can conclude that Phoenix, Scottsdale, Tempe, Chandler, Mesa, Glendale, Gilbert are 7 cities which tend to give more stars. Phoenix tends to give more higher stars. The count of 5 stars for Phoenix is 30970 which is highest among all cities. But this is primary observation because it is only depending on elementery statistics like mean. We can explore how it can be validated by doing some more analysis.\n"
   ]
  },
  {
   "cell_type": "code",
   "execution_count": 280,
   "id": "a8bc7576",
   "metadata": {},
   "outputs": [
    {
     "name": "stdout",
     "output_type": "stream",
     "text": [
      "61\n"
     ]
    }
   ],
   "source": [
    "# making a list of name of cities in the dataframe\n",
    "ucity = []\n",
    "for city in df_clean.business_city:\n",
    "    if city not in ucity:\n",
    "        ucity.append(city)\n",
    "        \n",
    "print(len(ucity))"
   ]
  },
  {
   "cell_type": "code",
   "execution_count": 225,
   "id": "c2386533",
   "metadata": {},
   "outputs": [],
   "source": [
    "# Converting dataframe for 5 star into a dictionary\n",
    "dict_c5 = {}\n",
    "for ind in df_5.index:\n",
    "    dict_c5.update({df_5['city'][ind] : df_5['count5star'][ind]})\n",
    "    "
   ]
  },
  {
   "cell_type": "code",
   "execution_count": 226,
   "id": "4e611d76",
   "metadata": {},
   "outputs": [],
   "source": [
    "# Converting dataframe for 4 star into a dictionary\n",
    "dict_c4 = {}\n",
    "for ind in df_4.index:\n",
    "    dict_c4.update({df_4['city'][ind] : df_4['count'][ind]})"
   ]
  },
  {
   "cell_type": "code",
   "execution_count": 227,
   "id": "e5a88a04",
   "metadata": {},
   "outputs": [],
   "source": [
    "# Converting dataframe for 3 star into a dictionary\n",
    "dict_c3 = {}\n",
    "for ind in df_3.index:\n",
    "    dict_c3.update({df_3['city'][ind] : df_3['count'][ind]})"
   ]
  },
  {
   "cell_type": "code",
   "execution_count": 228,
   "id": "a9bcd8b0",
   "metadata": {},
   "outputs": [],
   "source": [
    "# Converting dataframe for 2 star into a dictionary\n",
    "dict_c2 = {}\n",
    "for ind in df_2.index:\n",
    "    dict_c2.update({df_2['city'][ind] : df_2['count'][ind]})"
   ]
  },
  {
   "cell_type": "code",
   "execution_count": 229,
   "id": "9da85615",
   "metadata": {},
   "outputs": [],
   "source": [
    "# Converting dataframe for 1 star into a dictionary\n",
    "dict_c1 = {}\n",
    "for ind in df_1.index:\n",
    "    dict_c1.update({df_1['city'][ind] : df_1['count'][ind]})"
   ]
  },
  {
   "cell_type": "code",
   "execution_count": null,
   "id": "ec6c6769",
   "metadata": {},
   "outputs": [],
   "source": []
  },
  {
   "cell_type": "code",
   "execution_count": 231,
   "id": "c25976a6",
   "metadata": {},
   "outputs": [
    {
     "data": {
      "text/plain": [
       "61"
      ]
     },
     "execution_count": 231,
     "metadata": {},
     "output_type": "execute_result"
    }
   ],
   "source": [
    "# Making a list of counts of 5 star according to index of list 'ucity'\n",
    "star5count = []\n",
    "for city in ucity:\n",
    "    if city in dict_c.keys():\n",
    "        star5count.append(dict_c[city])\n",
    "    else:\n",
    "        star5count.append(0)\n",
    "\n",
    "len(star5count)\n",
    "        "
   ]
  },
  {
   "cell_type": "code",
   "execution_count": 232,
   "id": "8cedeeee",
   "metadata": {},
   "outputs": [],
   "source": [
    "# Defining a function for making a list of star count according to order of index of list for unique names of cities\n",
    "def countstarlist(dictx):\n",
    "    temp = []\n",
    "    for city in ucity:\n",
    "        if city in dictx.keys():\n",
    "            temp.append(dictx[city])\n",
    "        else:\n",
    "            temp.append(0)\n",
    "    return temp\n",
    "    \n",
    "    "
   ]
  },
  {
   "cell_type": "code",
   "execution_count": 233,
   "id": "e2b6fb55",
   "metadata": {},
   "outputs": [],
   "source": [
    "# Getting the lists for 4 \n",
    "star4count = []\n",
    "star3count = []\n",
    "star2count = []\n",
    "star1count = []\n",
    "star4count = countstarlist(dict_c4)\n",
    "star3count = countstarlist(dict_c3)\n",
    "star2count = countstarlist(dict_c2)\n",
    "star1count = countstarlist(dict_c1)"
   ]
  },
  {
   "cell_type": "code",
   "execution_count": 234,
   "id": "c72d234b",
   "metadata": {},
   "outputs": [
    {
     "data": {
      "text/plain": [
       "(61, 6)"
      ]
     },
     "execution_count": 234,
     "metadata": {},
     "output_type": "execute_result"
    }
   ],
   "source": [
    "# Making a new dataframe with cities and star count\n",
    "dict_star = {\n",
    "    'city': ucity,\n",
    "    'star5count':star5count,\n",
    "    'star4count': star4count,\n",
    "    'star3count': star3count,\n",
    "    'star2count': star2count,\n",
    "    'star1count': star1count\n",
    "    \n",
    "}\n",
    "\n",
    "star_df = pd.DataFrame(dict_star)\n",
    "star_df.shape"
   ]
  },
  {
   "cell_type": "code",
   "execution_count": 235,
   "id": "4e86d773",
   "metadata": {},
   "outputs": [
    {
     "data": {
      "text/html": [
       "<div>\n",
       "<style scoped>\n",
       "    .dataframe tbody tr th:only-of-type {\n",
       "        vertical-align: middle;\n",
       "    }\n",
       "\n",
       "    .dataframe tbody tr th {\n",
       "        vertical-align: top;\n",
       "    }\n",
       "\n",
       "    .dataframe thead th {\n",
       "        text-align: right;\n",
       "    }\n",
       "</style>\n",
       "<table border=\"1\" class=\"dataframe\">\n",
       "  <thead>\n",
       "    <tr style=\"text-align: right;\">\n",
       "      <th></th>\n",
       "      <th>city</th>\n",
       "      <th>star5count</th>\n",
       "      <th>star4count</th>\n",
       "      <th>star3count</th>\n",
       "      <th>star2count</th>\n",
       "      <th>star1count</th>\n",
       "    </tr>\n",
       "  </thead>\n",
       "  <tbody>\n",
       "    <tr>\n",
       "      <th>0</th>\n",
       "      <td>Phoenix</td>\n",
       "      <td>30970</td>\n",
       "      <td>32787</td>\n",
       "      <td>14354</td>\n",
       "      <td>8549</td>\n",
       "      <td>6461</td>\n",
       "    </tr>\n",
       "    <tr>\n",
       "      <th>1</th>\n",
       "      <td>Tempe</td>\n",
       "      <td>8583</td>\n",
       "      <td>9568</td>\n",
       "      <td>4448</td>\n",
       "      <td>2563</td>\n",
       "      <td>2226</td>\n",
       "    </tr>\n",
       "    <tr>\n",
       "      <th>2</th>\n",
       "      <td>Scottsdale</td>\n",
       "      <td>16795</td>\n",
       "      <td>17637</td>\n",
       "      <td>7728</td>\n",
       "      <td>4629</td>\n",
       "      <td>3676</td>\n",
       "    </tr>\n",
       "    <tr>\n",
       "      <th>3</th>\n",
       "      <td>Mesa</td>\n",
       "      <td>3633</td>\n",
       "      <td>3547</td>\n",
       "      <td>1466</td>\n",
       "      <td>898</td>\n",
       "      <td>908</td>\n",
       "    </tr>\n",
       "    <tr>\n",
       "      <th>4</th>\n",
       "      <td>Chandler</td>\n",
       "      <td>4667</td>\n",
       "      <td>5217</td>\n",
       "      <td>2221</td>\n",
       "      <td>1263</td>\n",
       "      <td>1173</td>\n",
       "    </tr>\n",
       "  </tbody>\n",
       "</table>\n",
       "</div>"
      ],
      "text/plain": [
       "         city  star5count  star4count  star3count  star2count  star1count\n",
       "0     Phoenix       30970       32787       14354        8549        6461\n",
       "1       Tempe        8583        9568        4448        2563        2226\n",
       "2  Scottsdale       16795       17637        7728        4629        3676\n",
       "3        Mesa        3633        3547        1466         898         908\n",
       "4    Chandler        4667        5217        2221        1263        1173"
      ]
     },
     "execution_count": 235,
     "metadata": {},
     "output_type": "execute_result"
    }
   ],
   "source": [
    "# Showing few values of dataframe\n",
    "star_df.head()"
   ]
  },
  {
   "cell_type": "code",
   "execution_count": 236,
   "id": "8f6d2e4c",
   "metadata": {},
   "outputs": [],
   "source": [
    "# Observing statistics of star5count column\n",
    "max5 = star_df['star5count'].max()\n",
    "median5 = star_df['star5count'].median()\n",
    "min5 = star_df['star5count'].min()\n",
    "std5 = star_df['star5count'].std()\n",
    "var5 = star_df['star5count'].var()"
   ]
  },
  {
   "cell_type": "code",
   "execution_count": 237,
   "id": "178946f8",
   "metadata": {},
   "outputs": [
    {
     "name": "stdout",
     "output_type": "stream",
     "text": [
      "statistics:30970 22.0 0 4605.270697916995 21208518.201092888\n"
     ]
    }
   ],
   "source": [
    "# printing values for the statistics\n",
    "print('statistics:' + str(max5)+' '+str(median5)+' '+str(min5)+' '+str(std5)+' '+str(var5))"
   ]
  },
  {
   "cell_type": "code",
   "execution_count": 238,
   "id": "4c0f2fe0",
   "metadata": {},
   "outputs": [],
   "source": [
    "# Storing every column of count of stars in new variable\n",
    "st5 = star_df['star5count']\n",
    "st4 = star_df['star4count']\n",
    "st3 = star_df['star3count']\n",
    "st2 = star_df['star2count']\n",
    "st1 = star_df['star1count']"
   ]
  },
  {
   "cell_type": "code",
   "execution_count": 239,
   "id": "695b764a",
   "metadata": {},
   "outputs": [
    {
     "data": {
      "image/png": "[encoded data removed]",
      "text/plain": [
       "<Figure size 1100x800 with 1 Axes>"
      ]
     },
     "metadata": {},
     "output_type": "display_data"
    }
   ],
   "source": [
    "# Making a histogram to observe frequency of data\n",
    "import seaborn as sns\n",
    "st5.hist( histtype = 'stepfilled',alpha = .5,color = \"orange\", bins = 10, edgecolor ='black')\n",
    "st4.hist( histtype = 'stepfilled',alpha = .5,color = \"indianred\",bins = 10, edgecolor ='black')\n",
    "st3.hist( histtype = 'stepfilled',alpha = .5,color = \"purple\",bins = 10, edgecolor ='black')\n",
    "st2.hist( histtype = 'stepfilled',alpha = .5,color = \"green\",bins= 10,edgecolor ='black')\n",
    "st1.hist( histtype = 'stepfilled',alpha = .5,color = \"yellow\",bins= 10,edgecolor ='black')\n",
    "plt.xlabel('Starcount',fontsize=15)\n",
    "plt.ylabel('Frequency',fontsize=15)\n",
    "plt.show()"
   ]
  },
  {
   "cell_type": "code",
   "execution_count": 279,
   "id": "07b9088a",
   "metadata": {},
   "outputs": [
    {
     "data": {
      "text/plain": [
       "Text(0.5, 1.0, 'Count of stars distribution for cities')"
      ]
     },
     "execution_count": 279,
     "metadata": {},
     "output_type": "execute_result"
    },
    {
     "data": {
      "image/png": "[encoded data removed]",
      "text/plain": [
       "<Figure size 800x600 with 1 Axes>"
      ]
     },
     "metadata": {},
     "output_type": "display_data"
    }
   ],
   "source": [
    "# Also making a boxplot for observing data distributions \n",
    "df_plot = star_df[['star5count','star4count','star3count','star2count','star1count']]\n",
    "\n",
    "fig, ax = plt.subplots(figsize=(8,6))\n",
    "\n",
    "g = sns.boxplot(data = df_plot, width=0.9,orient = 'v',palette=\"Paired\")\n",
    "\n",
    "# Titles and labels\n",
    "plt.title(\"Count of stars distribution for cities\", fontsize=16)\n",
    "\n"
   ]
  },
  {
   "cell_type": "markdown",
   "id": "0129ca84",
   "metadata": {},
   "source": [
    "#### From the boxplot , we can observe that frequent outliers points are there for this dataframe. By observing the interquertile range of every dataset , we can see the consistency or central tendency is compromised a lot with the outliers . So now outliers should be removed from dataset."
   ]
  },
  {
   "cell_type": "code",
   "execution_count": 240,
   "id": "d597fb02",
   "metadata": {},
   "outputs": [],
   "source": [
    "# Defining a function to calculate upper bound and lower bound of outlier with accepting two parameters first quartile(25%) and third quartile(75%).\n",
    "def get_calculatedoutliers(Q3,Q1):    # Q3 = third quartile(75%) Q1 = first quartile(25%)\n",
    "    iqr = Q3 - Q1\n",
    "    listout = []\n",
    "    upper = Q3 + (1.5 * iqr)\n",
    "    lower = Q1 - (1.5 * iqr)\n",
    "    listout.append(upper)\n",
    "    listout.append(lower)\n",
    "    return listout\n",
    "    "
   ]
  },
  {
   "cell_type": "code",
   "execution_count": 241,
   "id": "2ada40bf",
   "metadata": {},
   "outputs": [],
   "source": [
    "# Defining main function to extract upper and lower bound of outliers from each column of dataframe\n",
    "def getoutliers(st):\n",
    "    temp = st.describe()\n",
    "    Q1 = temp['25%']\n",
    "    Q3 = temp['75%']\n",
    "    listout = []\n",
    "    listout = get_calculatedoutliers(Q3,Q1)\n",
    "    return listout"
   ]
  },
  {
   "cell_type": "code",
   "execution_count": 242,
   "id": "d61223d0",
   "metadata": {},
   "outputs": [],
   "source": [
    "# Getting list of upper bound and lower bound of outliers for each dataset\n",
    "out5 = getoutliers(st5)\n",
    "out4 = getoutliers(st4)\n",
    "out3 = getoutliers(st3)\n",
    "out2 = getoutliers(st2)\n",
    "out1 = getoutliers(st1)\n"
   ]
  },
  {
   "cell_type": "code",
   "execution_count": 243,
   "id": "9b8d7a60",
   "metadata": {},
   "outputs": [
    {
     "data": {
      "text/html": [
       "<div>\n",
       "<style scoped>\n",
       "    .dataframe tbody tr th:only-of-type {\n",
       "        vertical-align: middle;\n",
       "    }\n",
       "\n",
       "    .dataframe tbody tr th {\n",
       "        vertical-align: top;\n",
       "    }\n",
       "\n",
       "    .dataframe thead th {\n",
       "        text-align: right;\n",
       "    }\n",
       "</style>\n",
       "<table border=\"1\" class=\"dataframe\">\n",
       "  <thead>\n",
       "    <tr style=\"text-align: right;\">\n",
       "      <th></th>\n",
       "      <th>city</th>\n",
       "      <th>star5count</th>\n",
       "      <th>star4count</th>\n",
       "      <th>star3count</th>\n",
       "      <th>star2count</th>\n",
       "      <th>star1count</th>\n",
       "    </tr>\n",
       "  </thead>\n",
       "  <tbody>\n",
       "    <tr>\n",
       "      <th>0</th>\n",
       "      <td>Phoenix</td>\n",
       "      <td>30970</td>\n",
       "      <td>32787</td>\n",
       "      <td>14354</td>\n",
       "      <td>8549</td>\n",
       "      <td>6461</td>\n",
       "    </tr>\n",
       "    <tr>\n",
       "      <th>1</th>\n",
       "      <td>Tempe</td>\n",
       "      <td>8583</td>\n",
       "      <td>9568</td>\n",
       "      <td>4448</td>\n",
       "      <td>2563</td>\n",
       "      <td>2226</td>\n",
       "    </tr>\n",
       "    <tr>\n",
       "      <th>2</th>\n",
       "      <td>Scottsdale</td>\n",
       "      <td>16795</td>\n",
       "      <td>17637</td>\n",
       "      <td>7728</td>\n",
       "      <td>4629</td>\n",
       "      <td>3676</td>\n",
       "    </tr>\n",
       "    <tr>\n",
       "      <th>3</th>\n",
       "      <td>Mesa</td>\n",
       "      <td>3633</td>\n",
       "      <td>3547</td>\n",
       "      <td>1466</td>\n",
       "      <td>898</td>\n",
       "      <td>908</td>\n",
       "    </tr>\n",
       "    <tr>\n",
       "      <th>4</th>\n",
       "      <td>Chandler</td>\n",
       "      <td>4667</td>\n",
       "      <td>5217</td>\n",
       "      <td>2221</td>\n",
       "      <td>1263</td>\n",
       "      <td>1173</td>\n",
       "    </tr>\n",
       "  </tbody>\n",
       "</table>\n",
       "</div>"
      ],
      "text/plain": [
       "         city  star5count  star4count  star3count  star2count  star1count\n",
       "0     Phoenix       30970       32787       14354        8549        6461\n",
       "1       Tempe        8583        9568        4448        2563        2226\n",
       "2  Scottsdale       16795       17637        7728        4629        3676\n",
       "3        Mesa        3633        3547        1466         898         908\n",
       "4    Chandler        4667        5217        2221        1263        1173"
      ]
     },
     "execution_count": 243,
     "metadata": {},
     "output_type": "execute_result"
    }
   ],
   "source": [
    "star_df.head()"
   ]
  },
  {
   "cell_type": "code",
   "execution_count": 145,
   "id": "cd556ed8",
   "metadata": {},
   "outputs": [],
   "source": [
    "# Removing rows containing outliers and making a cleaned dataframe\n",
    "star5_df = star_df.drop(star_df.index[((star_df['star5count'] > out5[0]) | (star_df['star5count'] < out5[1]))|((star_df['star4count'] > out4[0]) | (star_df['star4count'] < out4[1])) | ((star_df['star3count'] > out3[0]) | (star_df['star3count'] < out3[1])) | ((star_df['star2count'] > out2[0]) | (star_df['star2count'] < out2[1])) | ((star_df['star1count'] > out1[0]) | (star_df['star1count'] < out1[1]) )])"
   ]
  },
  {
   "cell_type": "code",
   "execution_count": 146,
   "id": "8ca43587",
   "metadata": {},
   "outputs": [
    {
     "data": {
      "text/plain": [
       "(49, 6)"
      ]
     },
     "execution_count": 146,
     "metadata": {},
     "output_type": "execute_result"
    }
   ],
   "source": [
    "# Observing the shape of new cleaned dataframe\n",
    "star5_df.shape"
   ]
  },
  {
   "cell_type": "code",
   "execution_count": 147,
   "id": "d360bbb8",
   "metadata": {},
   "outputs": [
    {
     "data": {
      "text/html": [
       "<div>\n",
       "<style scoped>\n",
       "    .dataframe tbody tr th:only-of-type {\n",
       "        vertical-align: middle;\n",
       "    }\n",
       "\n",
       "    .dataframe tbody tr th {\n",
       "        vertical-align: top;\n",
       "    }\n",
       "\n",
       "    .dataframe thead th {\n",
       "        text-align: right;\n",
       "    }\n",
       "</style>\n",
       "<table border=\"1\" class=\"dataframe\">\n",
       "  <thead>\n",
       "    <tr style=\"text-align: right;\">\n",
       "      <th></th>\n",
       "      <th>city</th>\n",
       "      <th>star5count</th>\n",
       "      <th>star4count</th>\n",
       "      <th>star3count</th>\n",
       "      <th>star2count</th>\n",
       "      <th>star1count</th>\n",
       "    </tr>\n",
       "  </thead>\n",
       "  <tbody>\n",
       "    <tr>\n",
       "      <th>7</th>\n",
       "      <td>Tolleson</td>\n",
       "      <td>49</td>\n",
       "      <td>63</td>\n",
       "      <td>23</td>\n",
       "      <td>16</td>\n",
       "      <td>29</td>\n",
       "    </tr>\n",
       "    <tr>\n",
       "      <th>11</th>\n",
       "      <td>Buckeye</td>\n",
       "      <td>85</td>\n",
       "      <td>54</td>\n",
       "      <td>21</td>\n",
       "      <td>16</td>\n",
       "      <td>35</td>\n",
       "    </tr>\n",
       "    <tr>\n",
       "      <th>12</th>\n",
       "      <td>Florence</td>\n",
       "      <td>24</td>\n",
       "      <td>23</td>\n",
       "      <td>16</td>\n",
       "      <td>3</td>\n",
       "      <td>1</td>\n",
       "    </tr>\n",
       "    <tr>\n",
       "      <th>14</th>\n",
       "      <td>Sun City</td>\n",
       "      <td>67</td>\n",
       "      <td>48</td>\n",
       "      <td>29</td>\n",
       "      <td>25</td>\n",
       "      <td>20</td>\n",
       "    </tr>\n",
       "    <tr>\n",
       "      <th>16</th>\n",
       "      <td>Anthem</td>\n",
       "      <td>142</td>\n",
       "      <td>117</td>\n",
       "      <td>51</td>\n",
       "      <td>25</td>\n",
       "      <td>33</td>\n",
       "    </tr>\n",
       "  </tbody>\n",
       "</table>\n",
       "</div>"
      ],
      "text/plain": [
       "        city  star5count  star4count  star3count  star2count  star1count\n",
       "7   Tolleson          49          63          23          16          29\n",
       "11   Buckeye          85          54          21          16          35\n",
       "12  Florence          24          23          16           3           1\n",
       "14  Sun City          67          48          29          25          20\n",
       "16    Anthem         142         117          51          25          33"
      ]
     },
     "execution_count": 147,
     "metadata": {},
     "output_type": "execute_result"
    }
   ],
   "source": [
    "# Observing few datas from new cleaned dataframe\n",
    "star5_df.head()"
   ]
  },
  {
   "cell_type": "code",
   "execution_count": 284,
   "id": "733113fa",
   "metadata": {},
   "outputs": [
    {
     "data": {
      "text/html": [
       "<div>\n",
       "<style scoped>\n",
       "    .dataframe tbody tr th:only-of-type {\n",
       "        vertical-align: middle;\n",
       "    }\n",
       "\n",
       "    .dataframe tbody tr th {\n",
       "        vertical-align: top;\n",
       "    }\n",
       "\n",
       "    .dataframe thead th {\n",
       "        text-align: right;\n",
       "    }\n",
       "</style>\n",
       "<table border=\"1\" class=\"dataframe\">\n",
       "  <thead>\n",
       "    <tr style=\"text-align: right;\">\n",
       "      <th></th>\n",
       "      <th>city</th>\n",
       "      <th>star5count</th>\n",
       "      <th>star4count</th>\n",
       "      <th>star3count</th>\n",
       "      <th>star2count</th>\n",
       "      <th>star1count</th>\n",
       "    </tr>\n",
       "  </thead>\n",
       "  <tbody>\n",
       "    <tr>\n",
       "      <th>0</th>\n",
       "      <td>Tolleson</td>\n",
       "      <td>49</td>\n",
       "      <td>63</td>\n",
       "      <td>23</td>\n",
       "      <td>16</td>\n",
       "      <td>29</td>\n",
       "    </tr>\n",
       "    <tr>\n",
       "      <th>1</th>\n",
       "      <td>Buckeye</td>\n",
       "      <td>85</td>\n",
       "      <td>54</td>\n",
       "      <td>21</td>\n",
       "      <td>16</td>\n",
       "      <td>35</td>\n",
       "    </tr>\n",
       "    <tr>\n",
       "      <th>2</th>\n",
       "      <td>Florence</td>\n",
       "      <td>24</td>\n",
       "      <td>23</td>\n",
       "      <td>16</td>\n",
       "      <td>3</td>\n",
       "      <td>1</td>\n",
       "    </tr>\n",
       "    <tr>\n",
       "      <th>3</th>\n",
       "      <td>Sun City</td>\n",
       "      <td>67</td>\n",
       "      <td>48</td>\n",
       "      <td>29</td>\n",
       "      <td>25</td>\n",
       "      <td>20</td>\n",
       "    </tr>\n",
       "    <tr>\n",
       "      <th>4</th>\n",
       "      <td>Anthem</td>\n",
       "      <td>142</td>\n",
       "      <td>117</td>\n",
       "      <td>51</td>\n",
       "      <td>25</td>\n",
       "      <td>33</td>\n",
       "    </tr>\n",
       "  </tbody>\n",
       "</table>\n",
       "</div>"
      ],
      "text/plain": [
       "       city  star5count  star4count  star3count  star2count  star1count\n",
       "0  Tolleson          49          63          23          16          29\n",
       "1   Buckeye          85          54          21          16          35\n",
       "2  Florence          24          23          16           3           1\n",
       "3  Sun City          67          48          29          25          20\n",
       "4    Anthem         142         117          51          25          33"
      ]
     },
     "execution_count": 284,
     "metadata": {},
     "output_type": "execute_result"
    }
   ],
   "source": [
    "# Reindexing new cleaned dataframe\n",
    "star5_df = star5_df.reset_index(drop = True)\n",
    "star5_df.head()"
   ]
  },
  {
   "cell_type": "code",
   "execution_count": 287,
   "id": "d1858df2",
   "metadata": {},
   "outputs": [
    {
     "data": {
      "text/plain": [
       "Text(0.5, 1.0, 'Count of stars distribution for cities')"
      ]
     },
     "execution_count": 287,
     "metadata": {},
     "output_type": "execute_result"
    },
    {
     "data": {
      "image/png": "[encoded data removed]",
      "text/plain": [
       "<Figure size 800x600 with 1 Axes>"
      ]
     },
     "metadata": {},
     "output_type": "display_data"
    }
   ],
   "source": [
    "# Plotting the cleaned dataframe using boxplots#\n",
    "df_star = star5_df[['star5count','star4count','star3count','star2count','star1count']]\n",
    "fig, ax = plt.subplots(figsize=(8,6))\n",
    "\n",
    "g = sns.boxplot(data = df_star, width=0.9,orient = 'v',palette=\"Paired\")\n",
    "\n",
    "# Titles and labels\n",
    "plt.title(\"Count of stars distribution for cities\", fontsize=16)\n",
    "\n"
   ]
  },
  {
   "cell_type": "markdown",
   "id": "5a7e1944",
   "metadata": {},
   "source": [
    "#### From this boxplot of the cleaned dataset , we can clearly observe that count of 5 stars and 4 stars are more than any other count of stars. So cities tend to give more 5 stars and 4 stars . If we describe it from the boxplot , we can say in descending order : 5,4,3,1,2. "
   ]
  },
  {
   "cell_type": "code",
   "execution_count": 289,
   "id": "a7203734",
   "metadata": {},
   "outputs": [],
   "source": [
    "# Now we can see the city with maximum value of count of stars(1,2,3,4,5) for each\n",
    "ser5 = star5_df.star5count.describe()\n",
    "dict5 = {}\n",
    "for ind in star5_df.index:\n",
    "    if (star5_df['star5count'][ind] == ser5.max()):\n",
    "         dict5.update({star5_df['city'][ind]:star5_df['star5count'][ind] })\n",
    "ser4 = df_star.star4count.describe()\n",
    "dict4 = {}\n",
    "for ind in df_star.index:\n",
    "    if (star5_df['star4count'][ind] == ser4.max()):\n",
    "         dict4.update({star5_df['city'][ind]:star5_df['star4count'][ind] })           \n",
    "ser3 = df_star.star3count.describe()\n",
    "dict3 = {}\n",
    "for ind in df_star.index:\n",
    "    if (star5_df['star3count'][ind] == ser3.max()):\n",
    "         dict3.update({star5_df['city'][ind]:star5_df['star3count'][ind] }) \n",
    "ser2 = df_star.star2count.describe()\n",
    "dict2 = {}\n",
    "for ind in df_star.index:\n",
    "    if (star5_df['star2count'][ind] == ser2.max()):\n",
    "         dict2.update({star5_df['city'][ind]:star5_df['star2count'][ind] })\n",
    "ser1 = df_star.star1count.describe()\n",
    "dict1 = {}\n",
    "for ind in df_star.index:\n",
    "    if (star5_df['star1count'][ind] == ser1.max()):\n",
    "         dict1.update({star5_df['city'][ind]:star5_df['star1count'][ind] })           \n",
    "            \n",
    "            \n",
    "            \n"
   ]
  },
  {
   "cell_type": "code",
   "execution_count": 290,
   "id": "ff6c2d92",
   "metadata": {},
   "outputs": [
    {
     "data": {
      "text/plain": [
       "{'Cave Creek': 62}"
      ]
     },
     "execution_count": 290,
     "metadata": {},
     "output_type": "execute_result"
    }
   ],
   "source": [
    "dict1"
   ]
  },
  {
   "cell_type": "code",
   "execution_count": 291,
   "id": "7d0fe2bf",
   "metadata": {},
   "outputs": [
    {
     "data": {
      "text/plain": [
       "{'Cave Creek': 72}"
      ]
     },
     "execution_count": 291,
     "metadata": {},
     "output_type": "execute_result"
    }
   ],
   "source": [
    "dict2"
   ]
  },
  {
   "cell_type": "code",
   "execution_count": 292,
   "id": "8be10a93",
   "metadata": {},
   "outputs": [
    {
     "data": {
      "text/plain": [
       "{'Cave Creek': 92}"
      ]
     },
     "execution_count": 292,
     "metadata": {},
     "output_type": "execute_result"
    }
   ],
   "source": [
    "dict3"
   ]
  },
  {
   "cell_type": "code",
   "execution_count": 293,
   "id": "322f9b70",
   "metadata": {},
   "outputs": [
    {
     "data": {
      "text/plain": [
       "{'Cave Creek': 245}"
      ]
     },
     "execution_count": 293,
     "metadata": {},
     "output_type": "execute_result"
    }
   ],
   "source": [
    "dict4"
   ]
  },
  {
   "cell_type": "code",
   "execution_count": 294,
   "id": "282ff290",
   "metadata": {},
   "outputs": [
    {
     "data": {
      "text/plain": [
       "{'Cave Creek': 329}"
      ]
     },
     "execution_count": 294,
     "metadata": {},
     "output_type": "execute_result"
    }
   ],
   "source": [
    "dict5"
   ]
  },
  {
   "cell_type": "markdown",
   "id": "992515be",
   "metadata": {},
   "source": [
    "#### From this outputs , it can be easily concluded that city Cave Creek has the highest count of stars. "
   ]
  },
  {
   "cell_type": "code",
   "execution_count": 295,
   "id": "f6f99932",
   "metadata": {},
   "outputs": [],
   "source": [
    "# Now observing for min value of starcount\n",
    "ser5 = star5_df.star5count.describe()\n",
    "dict5 = {}\n",
    "for ind in star5_df.index:\n",
    "    if (star5_df['star5count'][ind] == ser5.min()):\n",
    "         dict5.update({star5_df['city'][ind]:star5_df['star5count'][ind] })\n",
    "ser4 = df_star.star4count.describe()\n",
    "dict4 = {}\n",
    "for ind in df_star.index:\n",
    "    if (star5_df['star4count'][ind] == ser4.min()):\n",
    "         dict4.update({star5_df['city'][ind]:star5_df['star4count'][ind] })           \n",
    "ser3 = df_star.star3count.describe()\n",
    "dict3 = {}\n",
    "for ind in df_star.index:\n",
    "    if (star5_df['star3count'][ind] == ser3.min()):\n",
    "         dict3.update({star5_df['city'][ind]:star5_df['star3count'][ind] }) \n",
    "ser2 = df_star.star2count.describe()\n",
    "dict2 = {}\n",
    "for ind in df_star.index:\n",
    "    if (star5_df['star2count'][ind] == ser2.min()):\n",
    "         dict2.update({star5_df['city'][ind]:star5_df['star2count'][ind] })\n",
    "ser1 = df_star.star1count.describe()\n",
    "dict1 = {}\n",
    "for ind in df_star.index:\n",
    "    if (star5_df['star1count'][ind] == ser1.min()):\n",
    "         dict1.update({star5_df['city'][ind]:star5_df['star1count'][ind] })           \n",
    "            \n",
    "            \n",
    "            \n"
   ]
  },
  {
   "cell_type": "code",
   "execution_count": 296,
   "id": "b0d9bde4",
   "metadata": {},
   "outputs": [
    {
     "data": {
      "text/plain": [
       "{'Waddell': 0,\n",
       " 'Scottsdale ': 0,\n",
       " 'Saguaro Lake': 0,\n",
       " 'Tucson': 0,\n",
       " 'Yuma': 0,\n",
       " 'Stanfield': 0,\n",
       " 'North Pinal': 0,\n",
       " 'Grand Junction': 0,\n",
       " 'Wittmann': 0,\n",
       " 'Tonto Basin': 0}"
      ]
     },
     "execution_count": 296,
     "metadata": {},
     "output_type": "execute_result"
    }
   ],
   "source": [
    "dict1"
   ]
  },
  {
   "cell_type": "code",
   "execution_count": 297,
   "id": "c55a951e",
   "metadata": {},
   "outputs": [
    {
     "data": {
      "text/plain": [
       "{'Morristown': 0,\n",
       " 'Waddell': 0,\n",
       " 'Scottsdale ': 0,\n",
       " 'Rio Verde': 0,\n",
       " 'Charleston': 0,\n",
       " 'Stanfield': 0,\n",
       " 'Glendale Az': 0,\n",
       " 'North Pinal': 0,\n",
       " 'Sun City Anthem': 0,\n",
       " 'Grand Junction': 0,\n",
       " 'Wittmann': 0,\n",
       " 'Tonto Basin': 0}"
      ]
     },
     "execution_count": 297,
     "metadata": {},
     "output_type": "execute_result"
    }
   ],
   "source": [
    "dict2"
   ]
  },
  {
   "cell_type": "code",
   "execution_count": 298,
   "id": "37287c17",
   "metadata": {},
   "outputs": [
    {
     "data": {
      "text/plain": [
       "{'Yuma': 0,\n",
       " 'Charleston': 0,\n",
       " 'North Pinal': 0,\n",
       " 'Sun City Anthem': 0,\n",
       " 'Wittmann': 0,\n",
       " 'Tonto Basin': 0}"
      ]
     },
     "execution_count": 298,
     "metadata": {},
     "output_type": "execute_result"
    }
   ],
   "source": [
    "dict3"
   ]
  },
  {
   "cell_type": "code",
   "execution_count": 299,
   "id": "ebc7db17",
   "metadata": {},
   "outputs": [
    {
     "data": {
      "text/plain": [
       "{'Stanfield': 0, 'North Pinal': 0, 'Sun City Anthem': 0}"
      ]
     },
     "execution_count": 299,
     "metadata": {},
     "output_type": "execute_result"
    }
   ],
   "source": [
    "dict4"
   ]
  },
  {
   "cell_type": "code",
   "execution_count": 300,
   "id": "1c358975",
   "metadata": {},
   "outputs": [
    {
     "data": {
      "text/plain": [
       "{'Saguaro Lake': 0, 'Tonto Basin': 0}"
      ]
     },
     "execution_count": 300,
     "metadata": {},
     "output_type": "execute_result"
    }
   ],
   "source": [
    "dict5"
   ]
  },
  {
   "cell_type": "code",
   "execution_count": 301,
   "id": "8674a231",
   "metadata": {},
   "outputs": [
    {
     "data": {
      "text/plain": [
       "10"
      ]
     },
     "execution_count": 301,
     "metadata": {},
     "output_type": "execute_result"
    }
   ],
   "source": [
    "len(dict1.keys())"
   ]
  },
  {
   "cell_type": "code",
   "execution_count": 302,
   "id": "e8f998f8",
   "metadata": {},
   "outputs": [
    {
     "data": {
      "text/plain": [
       "12"
      ]
     },
     "execution_count": 302,
     "metadata": {},
     "output_type": "execute_result"
    }
   ],
   "source": [
    "len(dict2.keys())"
   ]
  },
  {
   "cell_type": "markdown",
   "id": "60f0a1c1",
   "metadata": {},
   "source": [
    "#### From the output dictionaries , we can see , many cities are there , which don't tend to provide varieties of stars much. Scores can be given for each city which does not give much variety of stars. For not participating in each variety , one point can be awarded for each city .Scores can be calculated this way."
   ]
  },
  {
   "cell_type": "code",
   "execution_count": 311,
   "id": "50324bdc",
   "metadata": {},
   "outputs": [],
   "source": [
    "# Making a new dictionary with name 'score' \n",
    "score = {}\n",
    "for cit in dict2.keys():\n",
    "    score.update({cit: 1})\n",
    "    if cit in dict1.keys():\n",
    "        score[cit] = score[cit] + 1\n",
    "    if cit in dict3.keys():\n",
    "        score[cit] = score[cit] + 1\n",
    "    if cit in dict4.keys():\n",
    "        score[cit] = score[cit] + 1\n",
    "    if cit in dict5.keys():\n",
    "        score[cit] = score[cit] + 1\n",
    "    "
   ]
  },
  {
   "cell_type": "code",
   "execution_count": 312,
   "id": "3f807ee4",
   "metadata": {},
   "outputs": [
    {
     "data": {
      "text/plain": [
       "{'Morristown': 1,\n",
       " 'Waddell': 2,\n",
       " 'Scottsdale ': 2,\n",
       " 'Rio Verde': 1,\n",
       " 'Charleston': 2,\n",
       " 'Stanfield': 3,\n",
       " 'Glendale Az': 1,\n",
       " 'North Pinal': 4,\n",
       " 'Sun City Anthem': 3,\n",
       " 'Grand Junction': 2,\n",
       " 'Wittmann': 3,\n",
       " 'Tonto Basin': 4}"
      ]
     },
     "execution_count": 312,
     "metadata": {},
     "output_type": "execute_result"
    }
   ],
   "source": [
    "score"
   ]
  },
  {
   "cell_type": "code",
   "execution_count": 307,
   "id": "3c5d38df",
   "metadata": {},
   "outputs": [],
   "source": [
    "# Sorting items of score\n",
    "xdict = dict(sorted(score.items(), key=lambda item: item[1]))"
   ]
  },
  {
   "cell_type": "code",
   "execution_count": 314,
   "id": "cbf13d27",
   "metadata": {},
   "outputs": [
    {
     "data": {
      "text/plain": [
       "Text(0.5, 1.0, 'score distribution for cities')"
      ]
     },
     "execution_count": 314,
     "metadata": {},
     "output_type": "execute_result"
    },
    {
     "data": {
      "image/png": "[encoded data removed]",
      "text/plain": [
       "<Figure size 800x600 with 1 Axes>"
      ]
     },
     "metadata": {},
     "output_type": "display_data"
    }
   ],
   "source": [
    "# Plotting distribution of scores for cities\n",
    "dfc = pd.DataFrame(xdict.items(), columns = ['City', 'Score'] )\n",
    "\n",
    "fig, ax = plt.subplots(figsize=(8,6))\n",
    "\n",
    "h = sns.boxplot(data = dfc, width = 0.9,orient = 'v',palette=\"Paired\")\n",
    "\n",
    "# Titles and labels\n",
    "plt.title(\"score distribution for cities\", fontsize=16)\n",
    "\n"
   ]
  },
  {
   "cell_type": "markdown",
   "id": "43376068",
   "metadata": {},
   "source": [
    "#### From this boxplot , we can observe that most cities tend to skip two or three varieties of star while giving stars."
   ]
  },
  {
   "cell_type": "markdown",
   "id": "a7152eba",
   "metadata": {},
   "source": [
    "#### Now exploring sample output dataset from Q2"
   ]
  },
  {
   "cell_type": "code",
   "execution_count": 315,
   "id": "a64e3d29",
   "metadata": {},
   "outputs": [
    {
     "data": {
      "text/html": [
       "<div>\n",
       "<style scoped>\n",
       "    .dataframe tbody tr th:only-of-type {\n",
       "        vertical-align: middle;\n",
       "    }\n",
       "\n",
       "    .dataframe tbody tr th {\n",
       "        vertical-align: top;\n",
       "    }\n",
       "\n",
       "    .dataframe thead th {\n",
       "        text-align: right;\n",
       "    }\n",
       "</style>\n",
       "<table border=\"1\" class=\"dataframe\">\n",
       "  <thead>\n",
       "    <tr style=\"text-align: right;\">\n",
       "      <th></th>\n",
       "      <th>business_categories</th>\n",
       "      <th>business_city</th>\n",
       "      <th>business_id</th>\n",
       "      <th>date</th>\n",
       "      <th>stars</th>\n",
       "      <th>text</th>\n",
       "      <th>useful</th>\n",
       "      <th>user_id</th>\n",
       "    </tr>\n",
       "  </thead>\n",
       "  <tbody>\n",
       "    <tr>\n",
       "      <th>77</th>\n",
       "      <td>Chinese; Restaurants</td>\n",
       "      <td>Tolleson</td>\n",
       "      <td>ImghNwml8N-ncAqhXe00hg</td>\n",
       "      <td>20/9/2012</td>\n",
       "      <td>4</td>\n",
       "      <td>Great prices, great food. The staff is very fr...</td>\n",
       "      <td>1</td>\n",
       "      <td>aLTl_OkLo0BFRxdz1n6sYA</td>\n",
       "    </tr>\n",
       "    <tr>\n",
       "      <th>216</th>\n",
       "      <td>Thai; Restaurants</td>\n",
       "      <td>Sun City</td>\n",
       "      <td>8qrICL2tS2Rq7b5gxUdQwQ</td>\n",
       "      <td>23/3/2011</td>\n",
       "      <td>4</td>\n",
       "      <td>I was fairly surprised to visit Line Thai and ...</td>\n",
       "      <td>0</td>\n",
       "      <td>vOw4NYgKe57qcJ5fOjk6PQ</td>\n",
       "    </tr>\n",
       "    <tr>\n",
       "      <th>409</th>\n",
       "      <td>Food; Specialty Food; Candy Stores; Chocolatie...</td>\n",
       "      <td>Fountain Hills</td>\n",
       "      <td>bbi-76L0uvQRrno57Qjpaw</td>\n",
       "      <td>28/11/2012</td>\n",
       "      <td>4</td>\n",
       "      <td>Handmade, in-store fine candies aand chocolate...</td>\n",
       "      <td>10</td>\n",
       "      <td>EcgpGtxB5916NPqvXwMcjQ</td>\n",
       "    </tr>\n",
       "    <tr>\n",
       "      <th>840</th>\n",
       "      <td>Pizza; Restaurants</td>\n",
       "      <td>Fountain Hills</td>\n",
       "      <td>YjURbuHKIAQrwQKE8jxszQ</td>\n",
       "      <td>28/2/2011</td>\n",
       "      <td>5</td>\n",
       "      <td>Woo Hoo!  Little Caesars opens in Fountain Hil...</td>\n",
       "      <td>1</td>\n",
       "      <td>_GVAV2LjUWEs9fGjslex_A</td>\n",
       "    </tr>\n",
       "    <tr>\n",
       "      <th>871</th>\n",
       "      <td>Sushi Bars; Japanese; Restaurants</td>\n",
       "      <td>Fountain Hills</td>\n",
       "      <td>mnJHxPTbAxhueeuh76ePZQ</td>\n",
       "      <td>7/5/2012</td>\n",
       "      <td>4</td>\n",
       "      <td>Surprised to have a good sushi place like this...</td>\n",
       "      <td>1</td>\n",
       "      <td>tKgDgXSkOklBb9tQVGkYhQ</td>\n",
       "    </tr>\n",
       "  </tbody>\n",
       "</table>\n",
       "</div>"
      ],
      "text/plain": [
       "                                   business_categories   business_city  \\\n",
       "77                                Chinese; Restaurants        Tolleson   \n",
       "216                                  Thai; Restaurants        Sun City   \n",
       "409  Food; Specialty Food; Candy Stores; Chocolatie...  Fountain Hills   \n",
       "840                                 Pizza; Restaurants  Fountain Hills   \n",
       "871                  Sushi Bars; Japanese; Restaurants  Fountain Hills   \n",
       "\n",
       "                business_id        date  stars  \\\n",
       "77   ImghNwml8N-ncAqhXe00hg   20/9/2012      4   \n",
       "216  8qrICL2tS2Rq7b5gxUdQwQ   23/3/2011      4   \n",
       "409  bbi-76L0uvQRrno57Qjpaw  28/11/2012      4   \n",
       "840  YjURbuHKIAQrwQKE8jxszQ   28/2/2011      5   \n",
       "871  mnJHxPTbAxhueeuh76ePZQ    7/5/2012      4   \n",
       "\n",
       "                                                  text  useful  \\\n",
       "77   Great prices, great food. The staff is very fr...       1   \n",
       "216  I was fairly surprised to visit Line Thai and ...       0   \n",
       "409  Handmade, in-store fine candies aand chocolate...      10   \n",
       "840  Woo Hoo!  Little Caesars opens in Fountain Hil...       1   \n",
       "871  Surprised to have a good sushi place like this...       1   \n",
       "\n",
       "                    user_id  \n",
       "77   aLTl_OkLo0BFRxdz1n6sYA  \n",
       "216  vOw4NYgKe57qcJ5fOjk6PQ  \n",
       "409  EcgpGtxB5916NPqvXwMcjQ  \n",
       "840  _GVAV2LjUWEs9fGjslex_A  \n",
       "871  tKgDgXSkOklBb9tQVGkYhQ  "
      ]
     },
     "execution_count": 315,
     "metadata": {},
     "output_type": "execute_result"
    }
   ],
   "source": [
    "df_new.head()"
   ]
  },
  {
   "cell_type": "markdown",
   "id": "36b34e84",
   "metadata": {},
   "source": [
    "#### Taking a small portion of the dataframe containing business_id, date ,  stars, useful column and exploring co-relation among them"
   ]
  },
  {
   "cell_type": "code",
   "execution_count": 317,
   "id": "1c5e5ea8",
   "metadata": {},
   "outputs": [
    {
     "data": {
      "text/html": [
       "<div>\n",
       "<style scoped>\n",
       "    .dataframe tbody tr th:only-of-type {\n",
       "        vertical-align: middle;\n",
       "    }\n",
       "\n",
       "    .dataframe tbody tr th {\n",
       "        vertical-align: top;\n",
       "    }\n",
       "\n",
       "    .dataframe thead th {\n",
       "        text-align: right;\n",
       "    }\n",
       "</style>\n",
       "<table border=\"1\" class=\"dataframe\">\n",
       "  <thead>\n",
       "    <tr style=\"text-align: right;\">\n",
       "      <th></th>\n",
       "      <th>business_id</th>\n",
       "      <th>date</th>\n",
       "      <th>stars</th>\n",
       "      <th>useful</th>\n",
       "    </tr>\n",
       "  </thead>\n",
       "  <tbody>\n",
       "    <tr>\n",
       "      <th>77</th>\n",
       "      <td>ImghNwml8N-ncAqhXe00hg</td>\n",
       "      <td>20/9/2012</td>\n",
       "      <td>4</td>\n",
       "      <td>1</td>\n",
       "    </tr>\n",
       "    <tr>\n",
       "      <th>216</th>\n",
       "      <td>8qrICL2tS2Rq7b5gxUdQwQ</td>\n",
       "      <td>23/3/2011</td>\n",
       "      <td>4</td>\n",
       "      <td>0</td>\n",
       "    </tr>\n",
       "    <tr>\n",
       "      <th>409</th>\n",
       "      <td>bbi-76L0uvQRrno57Qjpaw</td>\n",
       "      <td>28/11/2012</td>\n",
       "      <td>4</td>\n",
       "      <td>10</td>\n",
       "    </tr>\n",
       "    <tr>\n",
       "      <th>840</th>\n",
       "      <td>YjURbuHKIAQrwQKE8jxszQ</td>\n",
       "      <td>28/2/2011</td>\n",
       "      <td>5</td>\n",
       "      <td>1</td>\n",
       "    </tr>\n",
       "    <tr>\n",
       "      <th>871</th>\n",
       "      <td>mnJHxPTbAxhueeuh76ePZQ</td>\n",
       "      <td>7/5/2012</td>\n",
       "      <td>4</td>\n",
       "      <td>1</td>\n",
       "    </tr>\n",
       "  </tbody>\n",
       "</table>\n",
       "</div>"
      ],
      "text/plain": [
       "                business_id        date  stars  useful\n",
       "77   ImghNwml8N-ncAqhXe00hg   20/9/2012      4       1\n",
       "216  8qrICL2tS2Rq7b5gxUdQwQ   23/3/2011      4       0\n",
       "409  bbi-76L0uvQRrno57Qjpaw  28/11/2012      4      10\n",
       "840  YjURbuHKIAQrwQKE8jxszQ   28/2/2011      5       1\n",
       "871  mnJHxPTbAxhueeuh76ePZQ    7/5/2012      4       1"
      ]
     },
     "execution_count": 317,
     "metadata": {},
     "output_type": "execute_result"
    }
   ],
   "source": [
    "df_portion1 = df_new[['business_id','date','stars','useful']]\n",
    "df_portion1.head()"
   ]
  },
  {
   "cell_type": "code",
   "execution_count": 320,
   "id": "4ee67376",
   "metadata": {},
   "outputs": [],
   "source": [
    "# Extracting year, day, month from list of date\n",
    "list_date = list(df_portion1['date'])\n",
    "month = []\n",
    "day = []\n",
    "year = []\n",
    "for d in list_date:\n",
    "    dlist = d.split('/')\n",
    "    month.append(dlist[1])\n",
    "    day.append(dlist[0])\n",
    "    year.append(dlist[2])\n",
    "    \n",
    "    \n",
    "    "
   ]
  },
  {
   "cell_type": "code",
   "execution_count": 333,
   "id": "4adf655c",
   "metadata": {},
   "outputs": [
    {
     "data": {
      "text/html": [
       "<div>\n",
       "<style scoped>\n",
       "    .dataframe tbody tr th:only-of-type {\n",
       "        vertical-align: middle;\n",
       "    }\n",
       "\n",
       "    .dataframe tbody tr th {\n",
       "        vertical-align: top;\n",
       "    }\n",
       "\n",
       "    .dataframe thead th {\n",
       "        text-align: right;\n",
       "    }\n",
       "</style>\n",
       "<table border=\"1\" class=\"dataframe\">\n",
       "  <thead>\n",
       "    <tr style=\"text-align: right;\">\n",
       "      <th></th>\n",
       "      <th>stars</th>\n",
       "      <th>useful</th>\n",
       "    </tr>\n",
       "  </thead>\n",
       "  <tbody>\n",
       "    <tr>\n",
       "      <th>stars</th>\n",
       "      <td>1.000000</td>\n",
       "      <td>0.043761</td>\n",
       "    </tr>\n",
       "    <tr>\n",
       "      <th>useful</th>\n",
       "      <td>0.043761</td>\n",
       "      <td>1.000000</td>\n",
       "    </tr>\n",
       "  </tbody>\n",
       "</table>\n",
       "</div>"
      ],
      "text/plain": [
       "           stars    useful\n",
       "stars   1.000000  0.043761\n",
       "useful  0.043761  1.000000"
      ]
     },
     "execution_count": 333,
     "metadata": {},
     "output_type": "execute_result"
    }
   ],
   "source": [
    "# correlation matrix for stars and useful column\n",
    "df_new.corr()"
   ]
  },
  {
   "cell_type": "code",
   "execution_count": 322,
   "id": "5ee012c3",
   "metadata": {},
   "outputs": [
    {
     "data": {
      "text/plain": [
       "count                       1136\n",
       "unique                       128\n",
       "top       7a8nSGq152yAkKVKmsqpng\n",
       "freq                          67\n",
       "Name: business_id, dtype: object"
      ]
     },
     "execution_count": 322,
     "metadata": {},
     "output_type": "execute_result"
    }
   ],
   "source": [
    "df_portion1['business_id'].describe()"
   ]
  },
  {
   "cell_type": "code",
   "execution_count": 332,
   "id": "e3d619c6",
   "metadata": {},
   "outputs": [
    {
     "name": "stdout",
     "output_type": "stream",
     "text": [
      "           stars    useful\n",
      "stars   1.000000  0.043761\n",
      "useful  0.043761  1.000000\n"
     ]
    }
   ],
   "source": [
    "\n",
    "matrix = df_new.corr()\n",
    "print(matrix)\n"
   ]
  },
  {
   "cell_type": "code",
   "execution_count": 334,
   "id": "da818219",
   "metadata": {},
   "outputs": [],
   "source": [
    "# co-relations of stars and useful is positive. so it has strong bond for each other."
   ]
  },
  {
   "cell_type": "code",
   "execution_count": null,
   "id": "3ca72f11",
   "metadata": {},
   "outputs": [],
   "source": []
  },
  {
   "cell_type": "code",
   "execution_count": null,
   "id": "8753d539",
   "metadata": {},
   "outputs": [],
   "source": []
  }
 ],
 "metadata": {
  "kernelspec": {
   "display_name": "Python 3 (ipykernel)",
   "language": "python",
   "name": "python3"
  },
  "language_info": {
   "codemirror_mode": {
    "name": "ipython",
    "version": 3
   },
   "file_extension": ".py",
   "mimetype": "text/x-python",
   "name": "python",
   "nbconvert_exporter": "python",
   "pygments_lexer": "ipython3",
   "version": "3.9.13"
  }
 },
 "nbformat": 4,
 "nbformat_minor": 5
}
