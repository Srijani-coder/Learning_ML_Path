{
 "cells": [
  {
   "cell_type": "code",
   "execution_count": 1,
   "id": "67afff23",
   "metadata": {},
   "outputs": [],
   "source": [
    "import numpy as np \n",
    "import pandas as pd\n",
    "import matplotlib.pyplot as plt\n",
    "import seaborn as sns\n",
    "import warnings\n",
    "warnings.filterwarnings('ignore')"
   ]
  },
  {
   "cell_type": "markdown",
   "id": "671ac11d",
   "metadata": {},
   "source": [
    "### About Dataset:-\n",
    "-----------------------------------------------------------------------------------------------------------------\n",
    "#### **SourceLink**:- https://www.kaggle.com/datasets/osmi/mental-health-in-tech-survey\n",
    "--------------------------------------------------------------------------------------------------------------------------\n",
    "#### **Content**\n",
    "--------------------------------------------------------------------------------------------------------------------------\n",
    "#### This dataset contains the following data:\n",
    "---------------------------------------------------------------------------------------------------------------------------\n",
    "1.**Timestamp**\n",
    "2.**Age**\n",
    "3.**Gender**\n",
    "4.**Country**\n",
    "5.**state**: If you live in the United States, which state or territory do you live in?\n",
    "6.**self_employed**: Are you self-employed?\n",
    "7.**family_history**: Do you have a family history of mental illness?\n",
    "8.**treatment**: Have you sought treatment for a mental health condition?\n",
    "9.**work_interfere**: If you have a mental health condition, do you feel that it interferes with your work?\n",
    "10.**no_employees**: How many employees does your company or organization have?\n",
    "11.**remote_work**: Do you work remotely (outside of an office) at least 50% of the time?\n",
    "12.**tech_company**: Is your employer primarily a tech company/organization?\n",
    "13.**benefits**: Does your employer provide mental health benefits?\n",
    "14.**care_options**: Do you know the options for mental health care your employer provides?\n",
    "15.**wellness_program**: Has your employer ever discussed mental health as part of an employee wellness program?\n",
    "16.**seek_help**: Does your employer provide resources to learn more about mental health issues and how to seek help?\n",
    "17.**anonymity**: Is your anonymity protected if you choose to take advantage of mental health or substance abuse treatment resources?\n",
    "18.**leave**: How easy is it for you to take medical leave for a mental health condition?\n",
    "19.**mental_health_consequence**: Do you think that discussing a mental health issue with your employer would have negative consequences?\n",
    "20.**phys_health_consequence**: Do you think that discussing a physical health issue with your employer would have negative consequences?\n",
    "21.**coworkers**: Would you be willing to discuss a mental health issue with your coworkers?\n",
    "22.**supervisor**: Would you be willing to discuss a mental health issue with your direct supervisor(s)?\n",
    "23.**mental_health_interview**: Would you bring up a mental health issue with a potential employer in an interview?\n",
    "24.**phys_health_interview**: Would you bring up a physical health issue with a potential employer in an interview?\n",
    "25.**mental_vs_physical**: Do you feel that your employer takes mental health as seriously as physical health?\n",
    "26.**obs_consequence**: Have you heard of or observed negative consequences for coworkers with mental health conditions in your workplace?\n",
    "27.**comments**: Any additional notes or comments\n",
    "\n"
   ]
  },
  {
   "cell_type": "code",
   "execution_count": 2,
   "id": "aeccee4f",
   "metadata": {},
   "outputs": [],
   "source": [
    "df = pd.read_csv('files/survey.csv')"
   ]
  },
  {
   "cell_type": "code",
   "execution_count": 3,
   "id": "53958e81",
   "metadata": {},
   "outputs": [
    {
     "data": {
      "text/html": [
       "<div>\n",
       "<style scoped>\n",
       "    .dataframe tbody tr th:only-of-type {\n",
       "        vertical-align: middle;\n",
       "    }\n",
       "\n",
       "    .dataframe tbody tr th {\n",
       "        vertical-align: top;\n",
       "    }\n",
       "\n",
       "    .dataframe thead th {\n",
       "        text-align: right;\n",
       "    }\n",
       "</style>\n",
       "<table border=\"1\" class=\"dataframe\">\n",
       "  <thead>\n",
       "    <tr style=\"text-align: right;\">\n",
       "      <th></th>\n",
       "      <th>Timestamp</th>\n",
       "      <th>Age</th>\n",
       "      <th>Gender</th>\n",
       "      <th>Country</th>\n",
       "      <th>state</th>\n",
       "      <th>self_employed</th>\n",
       "      <th>family_history</th>\n",
       "      <th>treatment</th>\n",
       "      <th>work_interfere</th>\n",
       "      <th>no_employees</th>\n",
       "      <th>...</th>\n",
       "      <th>leave</th>\n",
       "      <th>mental_health_consequence</th>\n",
       "      <th>phys_health_consequence</th>\n",
       "      <th>coworkers</th>\n",
       "      <th>supervisor</th>\n",
       "      <th>mental_health_interview</th>\n",
       "      <th>phys_health_interview</th>\n",
       "      <th>mental_vs_physical</th>\n",
       "      <th>obs_consequence</th>\n",
       "      <th>comments</th>\n",
       "    </tr>\n",
       "  </thead>\n",
       "  <tbody>\n",
       "    <tr>\n",
       "      <th>0</th>\n",
       "      <td>27-08-2014 11:29</td>\n",
       "      <td>37</td>\n",
       "      <td>Female</td>\n",
       "      <td>United States</td>\n",
       "      <td>IL</td>\n",
       "      <td>NaN</td>\n",
       "      <td>No</td>\n",
       "      <td>Yes</td>\n",
       "      <td>Often</td>\n",
       "      <td>Jun-25</td>\n",
       "      <td>...</td>\n",
       "      <td>Somewhat easy</td>\n",
       "      <td>No</td>\n",
       "      <td>No</td>\n",
       "      <td>Some of them</td>\n",
       "      <td>Yes</td>\n",
       "      <td>No</td>\n",
       "      <td>Maybe</td>\n",
       "      <td>Yes</td>\n",
       "      <td>No</td>\n",
       "      <td>NaN</td>\n",
       "    </tr>\n",
       "    <tr>\n",
       "      <th>1</th>\n",
       "      <td>27-08-2014 11:29</td>\n",
       "      <td>44</td>\n",
       "      <td>M</td>\n",
       "      <td>United States</td>\n",
       "      <td>IN</td>\n",
       "      <td>NaN</td>\n",
       "      <td>No</td>\n",
       "      <td>No</td>\n",
       "      <td>Rarely</td>\n",
       "      <td>More than 1000</td>\n",
       "      <td>...</td>\n",
       "      <td>Don't know</td>\n",
       "      <td>Maybe</td>\n",
       "      <td>No</td>\n",
       "      <td>No</td>\n",
       "      <td>No</td>\n",
       "      <td>No</td>\n",
       "      <td>No</td>\n",
       "      <td>Don't know</td>\n",
       "      <td>No</td>\n",
       "      <td>NaN</td>\n",
       "    </tr>\n",
       "    <tr>\n",
       "      <th>2</th>\n",
       "      <td>27-08-2014 11:29</td>\n",
       "      <td>32</td>\n",
       "      <td>Male</td>\n",
       "      <td>Canada</td>\n",
       "      <td>NaN</td>\n",
       "      <td>NaN</td>\n",
       "      <td>No</td>\n",
       "      <td>No</td>\n",
       "      <td>Rarely</td>\n",
       "      <td>Jun-25</td>\n",
       "      <td>...</td>\n",
       "      <td>Somewhat difficult</td>\n",
       "      <td>No</td>\n",
       "      <td>No</td>\n",
       "      <td>Yes</td>\n",
       "      <td>Yes</td>\n",
       "      <td>Yes</td>\n",
       "      <td>Yes</td>\n",
       "      <td>No</td>\n",
       "      <td>No</td>\n",
       "      <td>NaN</td>\n",
       "    </tr>\n",
       "    <tr>\n",
       "      <th>3</th>\n",
       "      <td>27-08-2014 11:29</td>\n",
       "      <td>31</td>\n",
       "      <td>Male</td>\n",
       "      <td>United Kingdom</td>\n",
       "      <td>NaN</td>\n",
       "      <td>NaN</td>\n",
       "      <td>Yes</td>\n",
       "      <td>Yes</td>\n",
       "      <td>Often</td>\n",
       "      <td>26-100</td>\n",
       "      <td>...</td>\n",
       "      <td>Somewhat difficult</td>\n",
       "      <td>Yes</td>\n",
       "      <td>Yes</td>\n",
       "      <td>Some of them</td>\n",
       "      <td>No</td>\n",
       "      <td>Maybe</td>\n",
       "      <td>Maybe</td>\n",
       "      <td>No</td>\n",
       "      <td>Yes</td>\n",
       "      <td>NaN</td>\n",
       "    </tr>\n",
       "    <tr>\n",
       "      <th>4</th>\n",
       "      <td>27-08-2014 11:30</td>\n",
       "      <td>31</td>\n",
       "      <td>Male</td>\n",
       "      <td>United States</td>\n",
       "      <td>TX</td>\n",
       "      <td>NaN</td>\n",
       "      <td>No</td>\n",
       "      <td>No</td>\n",
       "      <td>Never</td>\n",
       "      <td>100-500</td>\n",
       "      <td>...</td>\n",
       "      <td>Don't know</td>\n",
       "      <td>No</td>\n",
       "      <td>No</td>\n",
       "      <td>Some of them</td>\n",
       "      <td>Yes</td>\n",
       "      <td>Yes</td>\n",
       "      <td>Yes</td>\n",
       "      <td>Don't know</td>\n",
       "      <td>No</td>\n",
       "      <td>NaN</td>\n",
       "    </tr>\n",
       "  </tbody>\n",
       "</table>\n",
       "<p>5 rows × 27 columns</p>\n",
       "</div>"
      ],
      "text/plain": [
       "          Timestamp  Age  Gender         Country state self_employed  \\\n",
       "0  27-08-2014 11:29   37  Female   United States    IL           NaN   \n",
       "1  27-08-2014 11:29   44       M   United States    IN           NaN   \n",
       "2  27-08-2014 11:29   32    Male          Canada   NaN           NaN   \n",
       "3  27-08-2014 11:29   31    Male  United Kingdom   NaN           NaN   \n",
       "4  27-08-2014 11:30   31    Male   United States    TX           NaN   \n",
       "\n",
       "  family_history treatment work_interfere    no_employees  ...  \\\n",
       "0             No       Yes          Often          Jun-25  ...   \n",
       "1             No        No         Rarely  More than 1000  ...   \n",
       "2             No        No         Rarely          Jun-25  ...   \n",
       "3            Yes       Yes          Often          26-100  ...   \n",
       "4             No        No          Never         100-500  ...   \n",
       "\n",
       "                leave mental_health_consequence phys_health_consequence  \\\n",
       "0       Somewhat easy                        No                      No   \n",
       "1          Don't know                     Maybe                      No   \n",
       "2  Somewhat difficult                        No                      No   \n",
       "3  Somewhat difficult                       Yes                     Yes   \n",
       "4          Don't know                        No                      No   \n",
       "\n",
       "      coworkers supervisor mental_health_interview phys_health_interview  \\\n",
       "0  Some of them        Yes                      No                 Maybe   \n",
       "1            No         No                      No                    No   \n",
       "2           Yes        Yes                     Yes                   Yes   \n",
       "3  Some of them         No                   Maybe                 Maybe   \n",
       "4  Some of them        Yes                     Yes                   Yes   \n",
       "\n",
       "  mental_vs_physical obs_consequence comments  \n",
       "0                Yes              No      NaN  \n",
       "1         Don't know              No      NaN  \n",
       "2                 No              No      NaN  \n",
       "3                 No             Yes      NaN  \n",
       "4         Don't know              No      NaN  \n",
       "\n",
       "[5 rows x 27 columns]"
      ]
     },
     "execution_count": 3,
     "metadata": {},
     "output_type": "execute_result"
    }
   ],
   "source": [
    "df.head()"
   ]
  },
  {
   "cell_type": "code",
   "execution_count": 4,
   "id": "da148a1b",
   "metadata": {},
   "outputs": [
    {
     "data": {
      "text/plain": [
       "Index(['Timestamp', 'Age', 'Gender', 'Country', 'state', 'self_employed',\n",
       "       'family_history', 'treatment', 'work_interfere', 'no_employees',\n",
       "       'remote_work', 'tech_company', 'benefits', 'care_options',\n",
       "       'wellness_program', 'seek_help', 'anonymity', 'leave',\n",
       "       'mental_health_consequence', 'phys_health_consequence', 'coworkers',\n",
       "       'supervisor', 'mental_health_interview', 'phys_health_interview',\n",
       "       'mental_vs_physical', 'obs_consequence', 'comments'],\n",
       "      dtype='object')"
      ]
     },
     "execution_count": 4,
     "metadata": {},
     "output_type": "execute_result"
    }
   ],
   "source": [
    "df.columns"
   ]
  },
  {
   "cell_type": "code",
   "execution_count": 5,
   "id": "4c5adb4b",
   "metadata": {},
   "outputs": [
    {
     "data": {
      "text/plain": [
       "(1259, 27)"
      ]
     },
     "execution_count": 5,
     "metadata": {},
     "output_type": "execute_result"
    }
   ],
   "source": [
    "df.shape"
   ]
  },
  {
   "cell_type": "code",
   "execution_count": 6,
   "id": "8e1fd43e",
   "metadata": {},
   "outputs": [
    {
     "name": "stdout",
     "output_type": "stream",
     "text": [
      "<class 'pandas.core.frame.DataFrame'>\n",
      "RangeIndex: 1259 entries, 0 to 1258\n",
      "Data columns (total 27 columns):\n",
      " #   Column                     Non-Null Count  Dtype \n",
      "---  ------                     --------------  ----- \n",
      " 0   Timestamp                  1259 non-null   object\n",
      " 1   Age                        1259 non-null   int64 \n",
      " 2   Gender                     1259 non-null   object\n",
      " 3   Country                    1259 non-null   object\n",
      " 4   state                      744 non-null    object\n",
      " 5   self_employed              1241 non-null   object\n",
      " 6   family_history             1259 non-null   object\n",
      " 7   treatment                  1259 non-null   object\n",
      " 8   work_interfere             995 non-null    object\n",
      " 9   no_employees               1259 non-null   object\n",
      " 10  remote_work                1259 non-null   object\n",
      " 11  tech_company               1259 non-null   object\n",
      " 12  benefits                   1259 non-null   object\n",
      " 13  care_options               1259 non-null   object\n",
      " 14  wellness_program           1259 non-null   object\n",
      " 15  seek_help                  1259 non-null   object\n",
      " 16  anonymity                  1259 non-null   object\n",
      " 17  leave                      1259 non-null   object\n",
      " 18  mental_health_consequence  1259 non-null   object\n",
      " 19  phys_health_consequence    1259 non-null   object\n",
      " 20  coworkers                  1259 non-null   object\n",
      " 21  supervisor                 1259 non-null   object\n",
      " 22  mental_health_interview    1259 non-null   object\n",
      " 23  phys_health_interview      1259 non-null   object\n",
      " 24  mental_vs_physical         1259 non-null   object\n",
      " 25  obs_consequence            1259 non-null   object\n",
      " 26  comments                   164 non-null    object\n",
      "dtypes: int64(1), object(26)\n",
      "memory usage: 265.7+ KB\n"
     ]
    }
   ],
   "source": [
    "df.info()"
   ]
  },
  {
   "cell_type": "code",
   "execution_count": null,
   "id": "6ec52dad",
   "metadata": {},
   "outputs": [],
   "source": []
  },
  {
   "cell_type": "markdown",
   "id": "46b88aaa",
   "metadata": {},
   "source": [
    "### **Data Preprocessing**\n",
    "-----------------------------------------------------------------------------------------------------------------------\n",
    "Data need to be cleaned and outliers should be checked. Columns with null values can be removed and values can be changed for fitting to the model"
   ]
  },
  {
   "cell_type": "code",
   "execution_count": 7,
   "id": "1b658853",
   "metadata": {},
   "outputs": [
    {
     "data": {
      "text/plain": [
       "Timestamp                       0\n",
       "Age                             0\n",
       "Gender                          0\n",
       "Country                         0\n",
       "state                         515\n",
       "self_employed                  18\n",
       "family_history                  0\n",
       "treatment                       0\n",
       "work_interfere                264\n",
       "no_employees                    0\n",
       "remote_work                     0\n",
       "tech_company                    0\n",
       "benefits                        0\n",
       "care_options                    0\n",
       "wellness_program                0\n",
       "seek_help                       0\n",
       "anonymity                       0\n",
       "leave                           0\n",
       "mental_health_consequence       0\n",
       "phys_health_consequence         0\n",
       "coworkers                       0\n",
       "supervisor                      0\n",
       "mental_health_interview         0\n",
       "phys_health_interview           0\n",
       "mental_vs_physical              0\n",
       "obs_consequence                 0\n",
       "comments                     1095\n",
       "dtype: int64"
      ]
     },
     "execution_count": 7,
     "metadata": {},
     "output_type": "execute_result"
    }
   ],
   "source": [
    "df.isnull().sum()"
   ]
  },
  {
   "cell_type": "code",
   "execution_count": 8,
   "id": "30455d70",
   "metadata": {},
   "outputs": [],
   "source": [
    "data_cl = df"
   ]
  },
  {
   "cell_type": "code",
   "execution_count": 9,
   "id": "6d311440",
   "metadata": {},
   "outputs": [],
   "source": [
    "df['mental_health_consequence'] = df['mental_health_consequence'].replace({'Yes': 1, 'No': 0,'Maybe': 2})"
   ]
  },
  {
   "cell_type": "code",
   "execution_count": 10,
   "id": "db794fd8",
   "metadata": {},
   "outputs": [
    {
     "data": {
      "text/plain": [
       "(86, 27)"
      ]
     },
     "execution_count": 10,
     "metadata": {},
     "output_type": "execute_result"
    }
   ],
   "source": [
    "# Drop the Null values in dataframe \n",
    "clean_df = df.dropna()\n",
    "clean_df.shape"
   ]
  },
  {
   "cell_type": "code",
   "execution_count": 11,
   "id": "bbcc24d0",
   "metadata": {},
   "outputs": [
    {
     "data": {
      "text/html": [
       "<div>\n",
       "<style scoped>\n",
       "    .dataframe tbody tr th:only-of-type {\n",
       "        vertical-align: middle;\n",
       "    }\n",
       "\n",
       "    .dataframe tbody tr th {\n",
       "        vertical-align: top;\n",
       "    }\n",
       "\n",
       "    .dataframe thead th {\n",
       "        text-align: right;\n",
       "    }\n",
       "</style>\n",
       "<table border=\"1\" class=\"dataframe\">\n",
       "  <thead>\n",
       "    <tr style=\"text-align: right;\">\n",
       "      <th></th>\n",
       "      <th>Timestamp</th>\n",
       "      <th>Age</th>\n",
       "      <th>Gender</th>\n",
       "      <th>Country</th>\n",
       "      <th>state</th>\n",
       "      <th>self_employed</th>\n",
       "      <th>family_history</th>\n",
       "      <th>treatment</th>\n",
       "      <th>work_interfere</th>\n",
       "      <th>no_employees</th>\n",
       "      <th>...</th>\n",
       "      <th>leave</th>\n",
       "      <th>mental_health_consequence</th>\n",
       "      <th>phys_health_consequence</th>\n",
       "      <th>coworkers</th>\n",
       "      <th>supervisor</th>\n",
       "      <th>mental_health_interview</th>\n",
       "      <th>phys_health_interview</th>\n",
       "      <th>mental_vs_physical</th>\n",
       "      <th>obs_consequence</th>\n",
       "      <th>comments</th>\n",
       "    </tr>\n",
       "  </thead>\n",
       "  <tbody>\n",
       "    <tr>\n",
       "      <th>24</th>\n",
       "      <td>27-08-2014 11:36</td>\n",
       "      <td>33</td>\n",
       "      <td>male</td>\n",
       "      <td>United States</td>\n",
       "      <td>CA</td>\n",
       "      <td>No</td>\n",
       "      <td>Yes</td>\n",
       "      <td>Yes</td>\n",
       "      <td>Rarely</td>\n",
       "      <td>26-100</td>\n",
       "      <td>...</td>\n",
       "      <td>Don't know</td>\n",
       "      <td>0</td>\n",
       "      <td>No</td>\n",
       "      <td>Yes</td>\n",
       "      <td>Yes</td>\n",
       "      <td>No</td>\n",
       "      <td>Yes</td>\n",
       "      <td>Don't know</td>\n",
       "      <td>No</td>\n",
       "      <td>Relatively new job. Ask again later</td>\n",
       "    </tr>\n",
       "    <tr>\n",
       "      <th>25</th>\n",
       "      <td>27-08-2014 11:37</td>\n",
       "      <td>35</td>\n",
       "      <td>male</td>\n",
       "      <td>United States</td>\n",
       "      <td>TN</td>\n",
       "      <td>No</td>\n",
       "      <td>Yes</td>\n",
       "      <td>Yes</td>\n",
       "      <td>Sometimes</td>\n",
       "      <td>More than 1000</td>\n",
       "      <td>...</td>\n",
       "      <td>Very easy</td>\n",
       "      <td>1</td>\n",
       "      <td>No</td>\n",
       "      <td>Some of them</td>\n",
       "      <td>Yes</td>\n",
       "      <td>No</td>\n",
       "      <td>Yes</td>\n",
       "      <td>No</td>\n",
       "      <td>No</td>\n",
       "      <td>Sometimes I think  about using drugs for my me...</td>\n",
       "    </tr>\n",
       "    <tr>\n",
       "      <th>33</th>\n",
       "      <td>27-08-2014 11:39</td>\n",
       "      <td>42</td>\n",
       "      <td>Male</td>\n",
       "      <td>United States</td>\n",
       "      <td>WA</td>\n",
       "      <td>No</td>\n",
       "      <td>Yes</td>\n",
       "      <td>Yes</td>\n",
       "      <td>Sometimes</td>\n",
       "      <td>26-100</td>\n",
       "      <td>...</td>\n",
       "      <td>Very easy</td>\n",
       "      <td>2</td>\n",
       "      <td>No</td>\n",
       "      <td>Some of them</td>\n",
       "      <td>Some of them</td>\n",
       "      <td>Maybe</td>\n",
       "      <td>Yes</td>\n",
       "      <td>Don't know</td>\n",
       "      <td>No</td>\n",
       "      <td>I selected my current employer based on its po...</td>\n",
       "    </tr>\n",
       "    <tr>\n",
       "      <th>45</th>\n",
       "      <td>27-08-2014 11:43</td>\n",
       "      <td>38</td>\n",
       "      <td>Female</td>\n",
       "      <td>United States</td>\n",
       "      <td>TX</td>\n",
       "      <td>No</td>\n",
       "      <td>Yes</td>\n",
       "      <td>Yes</td>\n",
       "      <td>Sometimes</td>\n",
       "      <td>26-100</td>\n",
       "      <td>...</td>\n",
       "      <td>Somewhat easy</td>\n",
       "      <td>0</td>\n",
       "      <td>No</td>\n",
       "      <td>Some of them</td>\n",
       "      <td>Yes</td>\n",
       "      <td>No</td>\n",
       "      <td>No</td>\n",
       "      <td>Yes</td>\n",
       "      <td>No</td>\n",
       "      <td>Our health plan has covered my psychotherapy a...</td>\n",
       "    </tr>\n",
       "    <tr>\n",
       "      <th>49</th>\n",
       "      <td>27-08-2014 11:44</td>\n",
       "      <td>30</td>\n",
       "      <td>male</td>\n",
       "      <td>United States</td>\n",
       "      <td>IL</td>\n",
       "      <td>No</td>\n",
       "      <td>Yes</td>\n",
       "      <td>Yes</td>\n",
       "      <td>Rarely</td>\n",
       "      <td>26-100</td>\n",
       "      <td>...</td>\n",
       "      <td>Don't know</td>\n",
       "      <td>2</td>\n",
       "      <td>No</td>\n",
       "      <td>Some of them</td>\n",
       "      <td>Yes</td>\n",
       "      <td>No</td>\n",
       "      <td>No</td>\n",
       "      <td>Don't know</td>\n",
       "      <td>No</td>\n",
       "      <td>I just started a new job last week hence a lot...</td>\n",
       "    </tr>\n",
       "  </tbody>\n",
       "</table>\n",
       "<p>5 rows × 27 columns</p>\n",
       "</div>"
      ],
      "text/plain": [
       "           Timestamp  Age  Gender        Country state self_employed  \\\n",
       "24  27-08-2014 11:36   33    male  United States    CA            No   \n",
       "25  27-08-2014 11:37   35    male  United States    TN            No   \n",
       "33  27-08-2014 11:39   42    Male  United States    WA            No   \n",
       "45  27-08-2014 11:43   38  Female  United States    TX            No   \n",
       "49  27-08-2014 11:44   30    male  United States    IL            No   \n",
       "\n",
       "   family_history treatment work_interfere    no_employees  ...  \\\n",
       "24            Yes       Yes         Rarely          26-100  ...   \n",
       "25            Yes       Yes      Sometimes  More than 1000  ...   \n",
       "33            Yes       Yes      Sometimes          26-100  ...   \n",
       "45            Yes       Yes      Sometimes          26-100  ...   \n",
       "49            Yes       Yes         Rarely          26-100  ...   \n",
       "\n",
       "            leave mental_health_consequence phys_health_consequence  \\\n",
       "24     Don't know                         0                      No   \n",
       "25      Very easy                         1                      No   \n",
       "33      Very easy                         2                      No   \n",
       "45  Somewhat easy                         0                      No   \n",
       "49     Don't know                         2                      No   \n",
       "\n",
       "       coworkers    supervisor mental_health_interview phys_health_interview  \\\n",
       "24           Yes           Yes                      No                   Yes   \n",
       "25  Some of them           Yes                      No                   Yes   \n",
       "33  Some of them  Some of them                   Maybe                   Yes   \n",
       "45  Some of them           Yes                      No                    No   \n",
       "49  Some of them           Yes                      No                    No   \n",
       "\n",
       "   mental_vs_physical  obs_consequence  \\\n",
       "24         Don't know               No   \n",
       "25                 No               No   \n",
       "33         Don't know               No   \n",
       "45                Yes               No   \n",
       "49         Don't know               No   \n",
       "\n",
       "                                             comments  \n",
       "24                Relatively new job. Ask again later  \n",
       "25  Sometimes I think  about using drugs for my me...  \n",
       "33  I selected my current employer based on its po...  \n",
       "45  Our health plan has covered my psychotherapy a...  \n",
       "49  I just started a new job last week hence a lot...  \n",
       "\n",
       "[5 rows x 27 columns]"
      ]
     },
     "execution_count": 11,
     "metadata": {},
     "output_type": "execute_result"
    }
   ],
   "source": [
    "clean_df.head()"
   ]
  },
  {
   "cell_type": "code",
   "execution_count": 12,
   "id": "258eefdd",
   "metadata": {},
   "outputs": [],
   "source": [
    "clean_df['family_history'] = clean_df['family_history'].replace({'Yes': 1, 'No': 0})"
   ]
  },
  {
   "cell_type": "code",
   "execution_count": 13,
   "id": "2c04d40e",
   "metadata": {},
   "outputs": [
    {
     "data": {
      "text/html": [
       "<div>\n",
       "<style scoped>\n",
       "    .dataframe tbody tr th:only-of-type {\n",
       "        vertical-align: middle;\n",
       "    }\n",
       "\n",
       "    .dataframe tbody tr th {\n",
       "        vertical-align: top;\n",
       "    }\n",
       "\n",
       "    .dataframe thead th {\n",
       "        text-align: right;\n",
       "    }\n",
       "</style>\n",
       "<table border=\"1\" class=\"dataframe\">\n",
       "  <thead>\n",
       "    <tr style=\"text-align: right;\">\n",
       "      <th></th>\n",
       "      <th>Timestamp</th>\n",
       "      <th>Age</th>\n",
       "      <th>Gender</th>\n",
       "      <th>Country</th>\n",
       "      <th>state</th>\n",
       "      <th>self_employed</th>\n",
       "      <th>family_history</th>\n",
       "      <th>treatment</th>\n",
       "      <th>work_interfere</th>\n",
       "      <th>no_employees</th>\n",
       "      <th>...</th>\n",
       "      <th>leave</th>\n",
       "      <th>mental_health_consequence</th>\n",
       "      <th>phys_health_consequence</th>\n",
       "      <th>coworkers</th>\n",
       "      <th>supervisor</th>\n",
       "      <th>mental_health_interview</th>\n",
       "      <th>phys_health_interview</th>\n",
       "      <th>mental_vs_physical</th>\n",
       "      <th>obs_consequence</th>\n",
       "      <th>comments</th>\n",
       "    </tr>\n",
       "  </thead>\n",
       "  <tbody>\n",
       "    <tr>\n",
       "      <th>24</th>\n",
       "      <td>27-08-2014 11:36</td>\n",
       "      <td>33</td>\n",
       "      <td>male</td>\n",
       "      <td>United States</td>\n",
       "      <td>CA</td>\n",
       "      <td>No</td>\n",
       "      <td>1</td>\n",
       "      <td>Yes</td>\n",
       "      <td>Rarely</td>\n",
       "      <td>26-100</td>\n",
       "      <td>...</td>\n",
       "      <td>Don't know</td>\n",
       "      <td>0</td>\n",
       "      <td>No</td>\n",
       "      <td>Yes</td>\n",
       "      <td>Yes</td>\n",
       "      <td>No</td>\n",
       "      <td>Yes</td>\n",
       "      <td>Don't know</td>\n",
       "      <td>No</td>\n",
       "      <td>Relatively new job. Ask again later</td>\n",
       "    </tr>\n",
       "    <tr>\n",
       "      <th>25</th>\n",
       "      <td>27-08-2014 11:37</td>\n",
       "      <td>35</td>\n",
       "      <td>male</td>\n",
       "      <td>United States</td>\n",
       "      <td>TN</td>\n",
       "      <td>No</td>\n",
       "      <td>1</td>\n",
       "      <td>Yes</td>\n",
       "      <td>Sometimes</td>\n",
       "      <td>More than 1000</td>\n",
       "      <td>...</td>\n",
       "      <td>Very easy</td>\n",
       "      <td>1</td>\n",
       "      <td>No</td>\n",
       "      <td>Some of them</td>\n",
       "      <td>Yes</td>\n",
       "      <td>No</td>\n",
       "      <td>Yes</td>\n",
       "      <td>No</td>\n",
       "      <td>No</td>\n",
       "      <td>Sometimes I think  about using drugs for my me...</td>\n",
       "    </tr>\n",
       "    <tr>\n",
       "      <th>33</th>\n",
       "      <td>27-08-2014 11:39</td>\n",
       "      <td>42</td>\n",
       "      <td>Male</td>\n",
       "      <td>United States</td>\n",
       "      <td>WA</td>\n",
       "      <td>No</td>\n",
       "      <td>1</td>\n",
       "      <td>Yes</td>\n",
       "      <td>Sometimes</td>\n",
       "      <td>26-100</td>\n",
       "      <td>...</td>\n",
       "      <td>Very easy</td>\n",
       "      <td>2</td>\n",
       "      <td>No</td>\n",
       "      <td>Some of them</td>\n",
       "      <td>Some of them</td>\n",
       "      <td>Maybe</td>\n",
       "      <td>Yes</td>\n",
       "      <td>Don't know</td>\n",
       "      <td>No</td>\n",
       "      <td>I selected my current employer based on its po...</td>\n",
       "    </tr>\n",
       "    <tr>\n",
       "      <th>45</th>\n",
       "      <td>27-08-2014 11:43</td>\n",
       "      <td>38</td>\n",
       "      <td>Female</td>\n",
       "      <td>United States</td>\n",
       "      <td>TX</td>\n",
       "      <td>No</td>\n",
       "      <td>1</td>\n",
       "      <td>Yes</td>\n",
       "      <td>Sometimes</td>\n",
       "      <td>26-100</td>\n",
       "      <td>...</td>\n",
       "      <td>Somewhat easy</td>\n",
       "      <td>0</td>\n",
       "      <td>No</td>\n",
       "      <td>Some of them</td>\n",
       "      <td>Yes</td>\n",
       "      <td>No</td>\n",
       "      <td>No</td>\n",
       "      <td>Yes</td>\n",
       "      <td>No</td>\n",
       "      <td>Our health plan has covered my psychotherapy a...</td>\n",
       "    </tr>\n",
       "    <tr>\n",
       "      <th>49</th>\n",
       "      <td>27-08-2014 11:44</td>\n",
       "      <td>30</td>\n",
       "      <td>male</td>\n",
       "      <td>United States</td>\n",
       "      <td>IL</td>\n",
       "      <td>No</td>\n",
       "      <td>1</td>\n",
       "      <td>Yes</td>\n",
       "      <td>Rarely</td>\n",
       "      <td>26-100</td>\n",
       "      <td>...</td>\n",
       "      <td>Don't know</td>\n",
       "      <td>2</td>\n",
       "      <td>No</td>\n",
       "      <td>Some of them</td>\n",
       "      <td>Yes</td>\n",
       "      <td>No</td>\n",
       "      <td>No</td>\n",
       "      <td>Don't know</td>\n",
       "      <td>No</td>\n",
       "      <td>I just started a new job last week hence a lot...</td>\n",
       "    </tr>\n",
       "  </tbody>\n",
       "</table>\n",
       "<p>5 rows × 27 columns</p>\n",
       "</div>"
      ],
      "text/plain": [
       "           Timestamp  Age  Gender        Country state self_employed  \\\n",
       "24  27-08-2014 11:36   33    male  United States    CA            No   \n",
       "25  27-08-2014 11:37   35    male  United States    TN            No   \n",
       "33  27-08-2014 11:39   42    Male  United States    WA            No   \n",
       "45  27-08-2014 11:43   38  Female  United States    TX            No   \n",
       "49  27-08-2014 11:44   30    male  United States    IL            No   \n",
       "\n",
       "    family_history treatment work_interfere    no_employees  ...  \\\n",
       "24               1       Yes         Rarely          26-100  ...   \n",
       "25               1       Yes      Sometimes  More than 1000  ...   \n",
       "33               1       Yes      Sometimes          26-100  ...   \n",
       "45               1       Yes      Sometimes          26-100  ...   \n",
       "49               1       Yes         Rarely          26-100  ...   \n",
       "\n",
       "            leave mental_health_consequence phys_health_consequence  \\\n",
       "24     Don't know                         0                      No   \n",
       "25      Very easy                         1                      No   \n",
       "33      Very easy                         2                      No   \n",
       "45  Somewhat easy                         0                      No   \n",
       "49     Don't know                         2                      No   \n",
       "\n",
       "       coworkers    supervisor mental_health_interview phys_health_interview  \\\n",
       "24           Yes           Yes                      No                   Yes   \n",
       "25  Some of them           Yes                      No                   Yes   \n",
       "33  Some of them  Some of them                   Maybe                   Yes   \n",
       "45  Some of them           Yes                      No                    No   \n",
       "49  Some of them           Yes                      No                    No   \n",
       "\n",
       "   mental_vs_physical  obs_consequence  \\\n",
       "24         Don't know               No   \n",
       "25                 No               No   \n",
       "33         Don't know               No   \n",
       "45                Yes               No   \n",
       "49         Don't know               No   \n",
       "\n",
       "                                             comments  \n",
       "24                Relatively new job. Ask again later  \n",
       "25  Sometimes I think  about using drugs for my me...  \n",
       "33  I selected my current employer based on its po...  \n",
       "45  Our health plan has covered my psychotherapy a...  \n",
       "49  I just started a new job last week hence a lot...  \n",
       "\n",
       "[5 rows x 27 columns]"
      ]
     },
     "execution_count": 13,
     "metadata": {},
     "output_type": "execute_result"
    }
   ],
   "source": [
    "clean_df.head()"
   ]
  },
  {
   "cell_type": "code",
   "execution_count": 14,
   "id": "b1f0fbd0",
   "metadata": {},
   "outputs": [],
   "source": [
    "clean_df['treatment'] = clean_df['treatment'].replace({'Yes': 1, 'No': 0})"
   ]
  },
  {
   "cell_type": "code",
   "execution_count": 15,
   "id": "55e0134b",
   "metadata": {},
   "outputs": [],
   "source": [
    "clean_df['self_employed']= clean_df['self_employed'].replace({'Yes': 1, 'No': 0})"
   ]
  },
  {
   "cell_type": "code",
   "execution_count": 16,
   "id": "8d6d1041",
   "metadata": {},
   "outputs": [],
   "source": [
    "clean_df['mental_health_consequence'] = clean_df['mental_health_consequence'].replace({'Yes': 1, 'No': 0,'Maybe': 2})"
   ]
  },
  {
   "cell_type": "code",
   "execution_count": 17,
   "id": "df7f764c",
   "metadata": {},
   "outputs": [],
   "source": [
    "clean_df['phys_health_consequence'] = clean_df['phys_health_consequence'].replace({'Yes': 1, 'No': 0,'Maybe': 2})"
   ]
  },
  {
   "cell_type": "code",
   "execution_count": 18,
   "id": "8057153d",
   "metadata": {},
   "outputs": [
    {
     "data": {
      "text/html": [
       "<div>\n",
       "<style scoped>\n",
       "    .dataframe tbody tr th:only-of-type {\n",
       "        vertical-align: middle;\n",
       "    }\n",
       "\n",
       "    .dataframe tbody tr th {\n",
       "        vertical-align: top;\n",
       "    }\n",
       "\n",
       "    .dataframe thead th {\n",
       "        text-align: right;\n",
       "    }\n",
       "</style>\n",
       "<table border=\"1\" class=\"dataframe\">\n",
       "  <thead>\n",
       "    <tr style=\"text-align: right;\">\n",
       "      <th></th>\n",
       "      <th>Timestamp</th>\n",
       "      <th>Age</th>\n",
       "      <th>Gender</th>\n",
       "      <th>Country</th>\n",
       "      <th>state</th>\n",
       "      <th>self_employed</th>\n",
       "      <th>family_history</th>\n",
       "      <th>treatment</th>\n",
       "      <th>work_interfere</th>\n",
       "      <th>no_employees</th>\n",
       "      <th>...</th>\n",
       "      <th>leave</th>\n",
       "      <th>mental_health_consequence</th>\n",
       "      <th>phys_health_consequence</th>\n",
       "      <th>coworkers</th>\n",
       "      <th>supervisor</th>\n",
       "      <th>mental_health_interview</th>\n",
       "      <th>phys_health_interview</th>\n",
       "      <th>mental_vs_physical</th>\n",
       "      <th>obs_consequence</th>\n",
       "      <th>comments</th>\n",
       "    </tr>\n",
       "  </thead>\n",
       "  <tbody>\n",
       "    <tr>\n",
       "      <th>24</th>\n",
       "      <td>27-08-2014 11:36</td>\n",
       "      <td>33</td>\n",
       "      <td>male</td>\n",
       "      <td>United States</td>\n",
       "      <td>CA</td>\n",
       "      <td>0</td>\n",
       "      <td>1</td>\n",
       "      <td>1</td>\n",
       "      <td>Rarely</td>\n",
       "      <td>26-100</td>\n",
       "      <td>...</td>\n",
       "      <td>Don't know</td>\n",
       "      <td>0</td>\n",
       "      <td>0</td>\n",
       "      <td>Yes</td>\n",
       "      <td>Yes</td>\n",
       "      <td>No</td>\n",
       "      <td>Yes</td>\n",
       "      <td>Don't know</td>\n",
       "      <td>No</td>\n",
       "      <td>Relatively new job. Ask again later</td>\n",
       "    </tr>\n",
       "    <tr>\n",
       "      <th>25</th>\n",
       "      <td>27-08-2014 11:37</td>\n",
       "      <td>35</td>\n",
       "      <td>male</td>\n",
       "      <td>United States</td>\n",
       "      <td>TN</td>\n",
       "      <td>0</td>\n",
       "      <td>1</td>\n",
       "      <td>1</td>\n",
       "      <td>Sometimes</td>\n",
       "      <td>More than 1000</td>\n",
       "      <td>...</td>\n",
       "      <td>Very easy</td>\n",
       "      <td>1</td>\n",
       "      <td>0</td>\n",
       "      <td>Some of them</td>\n",
       "      <td>Yes</td>\n",
       "      <td>No</td>\n",
       "      <td>Yes</td>\n",
       "      <td>No</td>\n",
       "      <td>No</td>\n",
       "      <td>Sometimes I think  about using drugs for my me...</td>\n",
       "    </tr>\n",
       "    <tr>\n",
       "      <th>33</th>\n",
       "      <td>27-08-2014 11:39</td>\n",
       "      <td>42</td>\n",
       "      <td>Male</td>\n",
       "      <td>United States</td>\n",
       "      <td>WA</td>\n",
       "      <td>0</td>\n",
       "      <td>1</td>\n",
       "      <td>1</td>\n",
       "      <td>Sometimes</td>\n",
       "      <td>26-100</td>\n",
       "      <td>...</td>\n",
       "      <td>Very easy</td>\n",
       "      <td>2</td>\n",
       "      <td>0</td>\n",
       "      <td>Some of them</td>\n",
       "      <td>Some of them</td>\n",
       "      <td>Maybe</td>\n",
       "      <td>Yes</td>\n",
       "      <td>Don't know</td>\n",
       "      <td>No</td>\n",
       "      <td>I selected my current employer based on its po...</td>\n",
       "    </tr>\n",
       "    <tr>\n",
       "      <th>45</th>\n",
       "      <td>27-08-2014 11:43</td>\n",
       "      <td>38</td>\n",
       "      <td>Female</td>\n",
       "      <td>United States</td>\n",
       "      <td>TX</td>\n",
       "      <td>0</td>\n",
       "      <td>1</td>\n",
       "      <td>1</td>\n",
       "      <td>Sometimes</td>\n",
       "      <td>26-100</td>\n",
       "      <td>...</td>\n",
       "      <td>Somewhat easy</td>\n",
       "      <td>0</td>\n",
       "      <td>0</td>\n",
       "      <td>Some of them</td>\n",
       "      <td>Yes</td>\n",
       "      <td>No</td>\n",
       "      <td>No</td>\n",
       "      <td>Yes</td>\n",
       "      <td>No</td>\n",
       "      <td>Our health plan has covered my psychotherapy a...</td>\n",
       "    </tr>\n",
       "    <tr>\n",
       "      <th>49</th>\n",
       "      <td>27-08-2014 11:44</td>\n",
       "      <td>30</td>\n",
       "      <td>male</td>\n",
       "      <td>United States</td>\n",
       "      <td>IL</td>\n",
       "      <td>0</td>\n",
       "      <td>1</td>\n",
       "      <td>1</td>\n",
       "      <td>Rarely</td>\n",
       "      <td>26-100</td>\n",
       "      <td>...</td>\n",
       "      <td>Don't know</td>\n",
       "      <td>2</td>\n",
       "      <td>0</td>\n",
       "      <td>Some of them</td>\n",
       "      <td>Yes</td>\n",
       "      <td>No</td>\n",
       "      <td>No</td>\n",
       "      <td>Don't know</td>\n",
       "      <td>No</td>\n",
       "      <td>I just started a new job last week hence a lot...</td>\n",
       "    </tr>\n",
       "  </tbody>\n",
       "</table>\n",
       "<p>5 rows × 27 columns</p>\n",
       "</div>"
      ],
      "text/plain": [
       "           Timestamp  Age  Gender        Country state  self_employed  \\\n",
       "24  27-08-2014 11:36   33    male  United States    CA              0   \n",
       "25  27-08-2014 11:37   35    male  United States    TN              0   \n",
       "33  27-08-2014 11:39   42    Male  United States    WA              0   \n",
       "45  27-08-2014 11:43   38  Female  United States    TX              0   \n",
       "49  27-08-2014 11:44   30    male  United States    IL              0   \n",
       "\n",
       "    family_history  treatment work_interfere    no_employees  ...  \\\n",
       "24               1          1         Rarely          26-100  ...   \n",
       "25               1          1      Sometimes  More than 1000  ...   \n",
       "33               1          1      Sometimes          26-100  ...   \n",
       "45               1          1      Sometimes          26-100  ...   \n",
       "49               1          1         Rarely          26-100  ...   \n",
       "\n",
       "            leave mental_health_consequence phys_health_consequence  \\\n",
       "24     Don't know                         0                       0   \n",
       "25      Very easy                         1                       0   \n",
       "33      Very easy                         2                       0   \n",
       "45  Somewhat easy                         0                       0   \n",
       "49     Don't know                         2                       0   \n",
       "\n",
       "       coworkers    supervisor mental_health_interview phys_health_interview  \\\n",
       "24           Yes           Yes                      No                   Yes   \n",
       "25  Some of them           Yes                      No                   Yes   \n",
       "33  Some of them  Some of them                   Maybe                   Yes   \n",
       "45  Some of them           Yes                      No                    No   \n",
       "49  Some of them           Yes                      No                    No   \n",
       "\n",
       "   mental_vs_physical  obs_consequence  \\\n",
       "24         Don't know               No   \n",
       "25                 No               No   \n",
       "33         Don't know               No   \n",
       "45                Yes               No   \n",
       "49         Don't know               No   \n",
       "\n",
       "                                             comments  \n",
       "24                Relatively new job. Ask again later  \n",
       "25  Sometimes I think  about using drugs for my me...  \n",
       "33  I selected my current employer based on its po...  \n",
       "45  Our health plan has covered my psychotherapy a...  \n",
       "49  I just started a new job last week hence a lot...  \n",
       "\n",
       "[5 rows x 27 columns]"
      ]
     },
     "execution_count": 18,
     "metadata": {},
     "output_type": "execute_result"
    }
   ],
   "source": [
    "clean_df.head()"
   ]
  },
  {
   "cell_type": "code",
   "execution_count": 19,
   "id": "2b570a15",
   "metadata": {},
   "outputs": [
    {
     "data": {
      "text/plain": [
       "<AxesSubplot:xlabel='Age'>"
      ]
     },
     "execution_count": 19,
     "metadata": {},
     "output_type": "execute_result"
    },
    {
     "data": {
      "image/png": "[encoded data removed]",
      "text/plain": [
       "<Figure size 800x1000 with 1 Axes>"
      ]
     },
     "metadata": {},
     "output_type": "display_data"
    }
   ],
   "source": [
    "import matplotlib.pyplot as plt\n",
    "%matplotlib inline\n",
    "import seaborn as sns #Seaborn is a Python data visualization library based on matplotlib\n",
    "sns.set(style=\"whitegrid\")\n",
    "plt.figure(figsize=(8,10)) #Width, height in inches.\n",
    "sns.boxplot(x='Age', data=clean_df, orient=\"h\")"
   ]
  },
  {
   "cell_type": "markdown",
   "id": "dc07fe36",
   "metadata": {},
   "source": [
    "From the boxplot , we can analyze that the age between 30 to 40 is the danger zone for mental illness. But this is an approximate analysis. Because outliers are not removed and co-relations are not explored."
   ]
  },
  {
   "cell_type": "code",
   "execution_count": 20,
   "id": "4af0fc8c",
   "metadata": {},
   "outputs": [],
   "source": [
    "clean_mental = clean_df[clean_df.mental_health_consequence == 1]"
   ]
  },
  {
   "cell_type": "code",
   "execution_count": 21,
   "id": "4776e0b6",
   "metadata": {},
   "outputs": [
    {
     "data": {
      "text/html": [
       "<div>\n",
       "<style scoped>\n",
       "    .dataframe tbody tr th:only-of-type {\n",
       "        vertical-align: middle;\n",
       "    }\n",
       "\n",
       "    .dataframe tbody tr th {\n",
       "        vertical-align: top;\n",
       "    }\n",
       "\n",
       "    .dataframe thead th {\n",
       "        text-align: right;\n",
       "    }\n",
       "</style>\n",
       "<table border=\"1\" class=\"dataframe\">\n",
       "  <thead>\n",
       "    <tr style=\"text-align: right;\">\n",
       "      <th></th>\n",
       "      <th>Timestamp</th>\n",
       "      <th>Age</th>\n",
       "      <th>Gender</th>\n",
       "      <th>Country</th>\n",
       "      <th>state</th>\n",
       "      <th>self_employed</th>\n",
       "      <th>family_history</th>\n",
       "      <th>treatment</th>\n",
       "      <th>work_interfere</th>\n",
       "      <th>no_employees</th>\n",
       "      <th>...</th>\n",
       "      <th>leave</th>\n",
       "      <th>mental_health_consequence</th>\n",
       "      <th>phys_health_consequence</th>\n",
       "      <th>coworkers</th>\n",
       "      <th>supervisor</th>\n",
       "      <th>mental_health_interview</th>\n",
       "      <th>phys_health_interview</th>\n",
       "      <th>mental_vs_physical</th>\n",
       "      <th>obs_consequence</th>\n",
       "      <th>comments</th>\n",
       "    </tr>\n",
       "  </thead>\n",
       "  <tbody>\n",
       "    <tr>\n",
       "      <th>25</th>\n",
       "      <td>27-08-2014 11:37</td>\n",
       "      <td>35</td>\n",
       "      <td>male</td>\n",
       "      <td>United States</td>\n",
       "      <td>TN</td>\n",
       "      <td>0</td>\n",
       "      <td>1</td>\n",
       "      <td>1</td>\n",
       "      <td>Sometimes</td>\n",
       "      <td>More than 1000</td>\n",
       "      <td>...</td>\n",
       "      <td>Very easy</td>\n",
       "      <td>1</td>\n",
       "      <td>0</td>\n",
       "      <td>Some of them</td>\n",
       "      <td>Yes</td>\n",
       "      <td>No</td>\n",
       "      <td>Yes</td>\n",
       "      <td>No</td>\n",
       "      <td>No</td>\n",
       "      <td>Sometimes I think  about using drugs for my me...</td>\n",
       "    </tr>\n",
       "    <tr>\n",
       "      <th>245</th>\n",
       "      <td>27-08-2014 13:35</td>\n",
       "      <td>40</td>\n",
       "      <td>M</td>\n",
       "      <td>United States</td>\n",
       "      <td>OH</td>\n",
       "      <td>0</td>\n",
       "      <td>0</td>\n",
       "      <td>1</td>\n",
       "      <td>Sometimes</td>\n",
       "      <td>More than 1000</td>\n",
       "      <td>...</td>\n",
       "      <td>Don't know</td>\n",
       "      <td>1</td>\n",
       "      <td>2</td>\n",
       "      <td>No</td>\n",
       "      <td>No</td>\n",
       "      <td>No</td>\n",
       "      <td>Maybe</td>\n",
       "      <td>No</td>\n",
       "      <td>Yes</td>\n",
       "      <td>I have only discussed my mental illness with c...</td>\n",
       "    </tr>\n",
       "    <tr>\n",
       "      <th>342</th>\n",
       "      <td>27-08-2014 14:39</td>\n",
       "      <td>27</td>\n",
       "      <td>Male</td>\n",
       "      <td>United States</td>\n",
       "      <td>CA</td>\n",
       "      <td>0</td>\n",
       "      <td>0</td>\n",
       "      <td>0</td>\n",
       "      <td>Sometimes</td>\n",
       "      <td>More than 1000</td>\n",
       "      <td>...</td>\n",
       "      <td>Very easy</td>\n",
       "      <td>1</td>\n",
       "      <td>0</td>\n",
       "      <td>No</td>\n",
       "      <td>No</td>\n",
       "      <td>No</td>\n",
       "      <td>Maybe</td>\n",
       "      <td>No</td>\n",
       "      <td>No</td>\n",
       "      <td>Regardless of a stated lack of negative conseq...</td>\n",
       "    </tr>\n",
       "    <tr>\n",
       "      <th>453</th>\n",
       "      <td>27-08-2014 15:55</td>\n",
       "      <td>34</td>\n",
       "      <td>M</td>\n",
       "      <td>United States</td>\n",
       "      <td>CA</td>\n",
       "      <td>0</td>\n",
       "      <td>0</td>\n",
       "      <td>1</td>\n",
       "      <td>Sometimes</td>\n",
       "      <td>Jun-25</td>\n",
       "      <td>...</td>\n",
       "      <td>Don't know</td>\n",
       "      <td>1</td>\n",
       "      <td>1</td>\n",
       "      <td>Some of them</td>\n",
       "      <td>No</td>\n",
       "      <td>No</td>\n",
       "      <td>No</td>\n",
       "      <td>Don't know</td>\n",
       "      <td>No</td>\n",
       "      <td>Now at starutp.  Previously worked at big tech...</td>\n",
       "    </tr>\n",
       "    <tr>\n",
       "      <th>496</th>\n",
       "      <td>27-08-2014 16:27</td>\n",
       "      <td>36</td>\n",
       "      <td>m</td>\n",
       "      <td>United States</td>\n",
       "      <td>TX</td>\n",
       "      <td>0</td>\n",
       "      <td>0</td>\n",
       "      <td>1</td>\n",
       "      <td>Sometimes</td>\n",
       "      <td>More than 1000</td>\n",
       "      <td>...</td>\n",
       "      <td>Somewhat difficult</td>\n",
       "      <td>1</td>\n",
       "      <td>2</td>\n",
       "      <td>Some of them</td>\n",
       "      <td>No</td>\n",
       "      <td>No</td>\n",
       "      <td>No</td>\n",
       "      <td>No</td>\n",
       "      <td>Yes</td>\n",
       "      <td>Stigma is the worst. People first language is ...</td>\n",
       "    </tr>\n",
       "  </tbody>\n",
       "</table>\n",
       "<p>5 rows × 27 columns</p>\n",
       "</div>"
      ],
      "text/plain": [
       "            Timestamp  Age Gender        Country state  self_employed  \\\n",
       "25   27-08-2014 11:37   35   male  United States    TN              0   \n",
       "245  27-08-2014 13:35   40      M  United States    OH              0   \n",
       "342  27-08-2014 14:39   27   Male  United States    CA              0   \n",
       "453  27-08-2014 15:55   34      M  United States    CA              0   \n",
       "496  27-08-2014 16:27   36      m  United States    TX              0   \n",
       "\n",
       "     family_history  treatment work_interfere    no_employees  ...  \\\n",
       "25                1          1      Sometimes  More than 1000  ...   \n",
       "245               0          1      Sometimes  More than 1000  ...   \n",
       "342               0          0      Sometimes  More than 1000  ...   \n",
       "453               0          1      Sometimes          Jun-25  ...   \n",
       "496               0          1      Sometimes  More than 1000  ...   \n",
       "\n",
       "                  leave mental_health_consequence phys_health_consequence  \\\n",
       "25            Very easy                         1                       0   \n",
       "245          Don't know                         1                       2   \n",
       "342           Very easy                         1                       0   \n",
       "453          Don't know                         1                       1   \n",
       "496  Somewhat difficult                         1                       2   \n",
       "\n",
       "        coworkers supervisor mental_health_interview phys_health_interview  \\\n",
       "25   Some of them        Yes                      No                   Yes   \n",
       "245            No         No                      No                 Maybe   \n",
       "342            No         No                      No                 Maybe   \n",
       "453  Some of them         No                      No                    No   \n",
       "496  Some of them         No                      No                    No   \n",
       "\n",
       "    mental_vs_physical  obs_consequence  \\\n",
       "25                  No               No   \n",
       "245                 No              Yes   \n",
       "342                 No               No   \n",
       "453         Don't know               No   \n",
       "496                 No              Yes   \n",
       "\n",
       "                                              comments  \n",
       "25   Sometimes I think  about using drugs for my me...  \n",
       "245  I have only discussed my mental illness with c...  \n",
       "342  Regardless of a stated lack of negative conseq...  \n",
       "453  Now at starutp.  Previously worked at big tech...  \n",
       "496  Stigma is the worst. People first language is ...  \n",
       "\n",
       "[5 rows x 27 columns]"
      ]
     },
     "execution_count": 21,
     "metadata": {},
     "output_type": "execute_result"
    }
   ],
   "source": [
    "clean_mental.head()"
   ]
  },
  {
   "cell_type": "code",
   "execution_count": 22,
   "id": "60a0c9d4",
   "metadata": {},
   "outputs": [
    {
     "name": "stdout",
     "output_type": "stream",
     "text": [
      "mean price of house:  31.7\n",
      "median price of house:  34.5\n",
      "standard deviation in price:  12.035473882608335\n"
     ]
    }
   ],
   "source": [
    "mean_ag = clean_mental['Age'].mean()\n",
    "median_ag = clean_mental['Age'].median()\n",
    "std_ag = clean_mental['Age'].std()\n",
    "print(\"mean price of house: \", mean_ag)\n",
    "print(\"median price of house: \", median_ag)\n",
    "print(\"standard deviation in price: \", std_ag)"
   ]
  },
  {
   "cell_type": "code",
   "execution_count": 23,
   "id": "f1c81454",
   "metadata": {},
   "outputs": [
    {
     "data": {
      "text/plain": [
       "<AxesSubplot:xlabel='Age'>"
      ]
     },
     "execution_count": 23,
     "metadata": {},
     "output_type": "execute_result"
    },
    {
     "data": {
      "image/png": "[encoded data removed]",
      "text/plain": [
       "<Figure size 800x1000 with 1 Axes>"
      ]
     },
     "metadata": {},
     "output_type": "display_data"
    }
   ],
   "source": [
    "sns.set(style=\"whitegrid\")\n",
    "plt.figure(figsize=(8,10)) #Width, height in inches.\n",
    "sns.boxplot(x='Age', data=clean_mental, orient=\"h\")"
   ]
  },
  {
   "cell_type": "code",
   "execution_count": 24,
   "id": "4981c0a9",
   "metadata": {},
   "outputs": [
    {
     "data": {
      "text/plain": [
       "count    20.000000\n",
       "mean     31.700000\n",
       "std      12.035474\n",
       "min      -1.000000\n",
       "25%      28.500000\n",
       "50%      34.500000\n",
       "75%      37.250000\n",
       "max      50.000000\n",
       "Name: Age, dtype: float64"
      ]
     },
     "execution_count": 24,
     "metadata": {},
     "output_type": "execute_result"
    }
   ],
   "source": [
    "clean_mental['Age'].describe()"
   ]
  },
  {
   "cell_type": "markdown",
   "id": "f4f25d45",
   "metadata": {},
   "source": [
    "From the boxplot , it is clear that first quartile(25%) of the age from the dataframe with mental health consequences is 28 and third quartile(75%) is 37. So Inter Quartile Rate (IQR) will be:\n",
    "IQR = 37 - 28 = 9\n",
    "lower range of outlier = 37 - (1.5 * 9) = 23.5\n",
    "upper range of outlier = 28 + (1.5 * 9) = 41.5"
   ]
  },
  {
   "cell_type": "code",
   "execution_count": 25,
   "id": "5f193c42",
   "metadata": {},
   "outputs": [],
   "source": [
    "clean_outm = clean_mental[(clean_mental.Age > 23.5) & (clean_mental.Age < 41.5) ]"
   ]
  },
  {
   "cell_type": "code",
   "execution_count": 26,
   "id": "1e04c01a",
   "metadata": {},
   "outputs": [
    {
     "data": {
      "text/plain": [
       "<AxesSubplot:xlabel='Age'>"
      ]
     },
     "execution_count": 26,
     "metadata": {},
     "output_type": "execute_result"
    },
    {
     "data": {
      "image/png": "[encoded data removed]",
      "text/plain": [
       "<Figure size 800x1000 with 1 Axes>"
      ]
     },
     "metadata": {},
     "output_type": "display_data"
    }
   ],
   "source": [
    "sns.set(style=\"whitegrid\")\n",
    "plt.figure(figsize=(8,10)) #Width, height in inches.\n",
    "sns.boxplot(x='Age', data=clean_outm, orient=\"h\")"
   ]
  },
  {
   "cell_type": "code",
   "execution_count": 27,
   "id": "bb226762",
   "metadata": {},
   "outputs": [],
   "source": [
    "gender = clean_outm['Gender']"
   ]
  },
  {
   "cell_type": "markdown",
   "id": "6f43924e",
   "metadata": {},
   "source": [
    "After removing outliers, from the boxplot, we can conclude that the danger-age with mental health consequences is 30-35."
   ]
  },
  {
   "cell_type": "code",
   "execution_count": 28,
   "id": "ac81b81b",
   "metadata": {},
   "outputs": [
    {
     "data": {
      "text/plain": [
       "25        male\n",
       "245          M\n",
       "342       Male\n",
       "453          M\n",
       "496          m\n",
       "591       Male\n",
       "617       Male\n",
       "793     Female\n",
       "875          m\n",
       "907     female\n",
       "933       Male\n",
       "1078    female\n",
       "1082    Female\n",
       "1119      Male\n",
       "Name: Gender, dtype: object"
      ]
     },
     "execution_count": 28,
     "metadata": {},
     "output_type": "execute_result"
    }
   ],
   "source": [
    "gender"
   ]
  },
  {
   "cell_type": "code",
   "execution_count": 29,
   "id": "058df4f1",
   "metadata": {},
   "outputs": [],
   "source": [
    "clean_outm['Gender'] = clean_outm['Gender'].replace({'male':'M', 'Male': 'M','m':'M','female':'F','Female':'F'})"
   ]
  },
  {
   "cell_type": "code",
   "execution_count": 30,
   "id": "39b7a9fd",
   "metadata": {},
   "outputs": [
    {
     "data": {
      "text/html": [
       "<div>\n",
       "<style scoped>\n",
       "    .dataframe tbody tr th:only-of-type {\n",
       "        vertical-align: middle;\n",
       "    }\n",
       "\n",
       "    .dataframe tbody tr th {\n",
       "        vertical-align: top;\n",
       "    }\n",
       "\n",
       "    .dataframe thead th {\n",
       "        text-align: right;\n",
       "    }\n",
       "</style>\n",
       "<table border=\"1\" class=\"dataframe\">\n",
       "  <thead>\n",
       "    <tr style=\"text-align: right;\">\n",
       "      <th></th>\n",
       "      <th>Timestamp</th>\n",
       "      <th>Age</th>\n",
       "      <th>Gender</th>\n",
       "      <th>Country</th>\n",
       "      <th>state</th>\n",
       "      <th>self_employed</th>\n",
       "      <th>family_history</th>\n",
       "      <th>treatment</th>\n",
       "      <th>work_interfere</th>\n",
       "      <th>no_employees</th>\n",
       "      <th>...</th>\n",
       "      <th>leave</th>\n",
       "      <th>mental_health_consequence</th>\n",
       "      <th>phys_health_consequence</th>\n",
       "      <th>coworkers</th>\n",
       "      <th>supervisor</th>\n",
       "      <th>mental_health_interview</th>\n",
       "      <th>phys_health_interview</th>\n",
       "      <th>mental_vs_physical</th>\n",
       "      <th>obs_consequence</th>\n",
       "      <th>comments</th>\n",
       "    </tr>\n",
       "  </thead>\n",
       "  <tbody>\n",
       "    <tr>\n",
       "      <th>25</th>\n",
       "      <td>27-08-2014 11:37</td>\n",
       "      <td>35</td>\n",
       "      <td>M</td>\n",
       "      <td>United States</td>\n",
       "      <td>TN</td>\n",
       "      <td>0</td>\n",
       "      <td>1</td>\n",
       "      <td>1</td>\n",
       "      <td>Sometimes</td>\n",
       "      <td>More than 1000</td>\n",
       "      <td>...</td>\n",
       "      <td>Very easy</td>\n",
       "      <td>1</td>\n",
       "      <td>0</td>\n",
       "      <td>Some of them</td>\n",
       "      <td>Yes</td>\n",
       "      <td>No</td>\n",
       "      <td>Yes</td>\n",
       "      <td>No</td>\n",
       "      <td>No</td>\n",
       "      <td>Sometimes I think  about using drugs for my me...</td>\n",
       "    </tr>\n",
       "    <tr>\n",
       "      <th>245</th>\n",
       "      <td>27-08-2014 13:35</td>\n",
       "      <td>40</td>\n",
       "      <td>M</td>\n",
       "      <td>United States</td>\n",
       "      <td>OH</td>\n",
       "      <td>0</td>\n",
       "      <td>0</td>\n",
       "      <td>1</td>\n",
       "      <td>Sometimes</td>\n",
       "      <td>More than 1000</td>\n",
       "      <td>...</td>\n",
       "      <td>Don't know</td>\n",
       "      <td>1</td>\n",
       "      <td>2</td>\n",
       "      <td>No</td>\n",
       "      <td>No</td>\n",
       "      <td>No</td>\n",
       "      <td>Maybe</td>\n",
       "      <td>No</td>\n",
       "      <td>Yes</td>\n",
       "      <td>I have only discussed my mental illness with c...</td>\n",
       "    </tr>\n",
       "    <tr>\n",
       "      <th>342</th>\n",
       "      <td>27-08-2014 14:39</td>\n",
       "      <td>27</td>\n",
       "      <td>M</td>\n",
       "      <td>United States</td>\n",
       "      <td>CA</td>\n",
       "      <td>0</td>\n",
       "      <td>0</td>\n",
       "      <td>0</td>\n",
       "      <td>Sometimes</td>\n",
       "      <td>More than 1000</td>\n",
       "      <td>...</td>\n",
       "      <td>Very easy</td>\n",
       "      <td>1</td>\n",
       "      <td>0</td>\n",
       "      <td>No</td>\n",
       "      <td>No</td>\n",
       "      <td>No</td>\n",
       "      <td>Maybe</td>\n",
       "      <td>No</td>\n",
       "      <td>No</td>\n",
       "      <td>Regardless of a stated lack of negative conseq...</td>\n",
       "    </tr>\n",
       "    <tr>\n",
       "      <th>453</th>\n",
       "      <td>27-08-2014 15:55</td>\n",
       "      <td>34</td>\n",
       "      <td>M</td>\n",
       "      <td>United States</td>\n",
       "      <td>CA</td>\n",
       "      <td>0</td>\n",
       "      <td>0</td>\n",
       "      <td>1</td>\n",
       "      <td>Sometimes</td>\n",
       "      <td>Jun-25</td>\n",
       "      <td>...</td>\n",
       "      <td>Don't know</td>\n",
       "      <td>1</td>\n",
       "      <td>1</td>\n",
       "      <td>Some of them</td>\n",
       "      <td>No</td>\n",
       "      <td>No</td>\n",
       "      <td>No</td>\n",
       "      <td>Don't know</td>\n",
       "      <td>No</td>\n",
       "      <td>Now at starutp.  Previously worked at big tech...</td>\n",
       "    </tr>\n",
       "    <tr>\n",
       "      <th>496</th>\n",
       "      <td>27-08-2014 16:27</td>\n",
       "      <td>36</td>\n",
       "      <td>M</td>\n",
       "      <td>United States</td>\n",
       "      <td>TX</td>\n",
       "      <td>0</td>\n",
       "      <td>0</td>\n",
       "      <td>1</td>\n",
       "      <td>Sometimes</td>\n",
       "      <td>More than 1000</td>\n",
       "      <td>...</td>\n",
       "      <td>Somewhat difficult</td>\n",
       "      <td>1</td>\n",
       "      <td>2</td>\n",
       "      <td>Some of them</td>\n",
       "      <td>No</td>\n",
       "      <td>No</td>\n",
       "      <td>No</td>\n",
       "      <td>No</td>\n",
       "      <td>Yes</td>\n",
       "      <td>Stigma is the worst. People first language is ...</td>\n",
       "    </tr>\n",
       "  </tbody>\n",
       "</table>\n",
       "<p>5 rows × 27 columns</p>\n",
       "</div>"
      ],
      "text/plain": [
       "            Timestamp  Age Gender        Country state  self_employed  \\\n",
       "25   27-08-2014 11:37   35      M  United States    TN              0   \n",
       "245  27-08-2014 13:35   40      M  United States    OH              0   \n",
       "342  27-08-2014 14:39   27      M  United States    CA              0   \n",
       "453  27-08-2014 15:55   34      M  United States    CA              0   \n",
       "496  27-08-2014 16:27   36      M  United States    TX              0   \n",
       "\n",
       "     family_history  treatment work_interfere    no_employees  ...  \\\n",
       "25                1          1      Sometimes  More than 1000  ...   \n",
       "245               0          1      Sometimes  More than 1000  ...   \n",
       "342               0          0      Sometimes  More than 1000  ...   \n",
       "453               0          1      Sometimes          Jun-25  ...   \n",
       "496               0          1      Sometimes  More than 1000  ...   \n",
       "\n",
       "                  leave mental_health_consequence phys_health_consequence  \\\n",
       "25            Very easy                         1                       0   \n",
       "245          Don't know                         1                       2   \n",
       "342           Very easy                         1                       0   \n",
       "453          Don't know                         1                       1   \n",
       "496  Somewhat difficult                         1                       2   \n",
       "\n",
       "        coworkers supervisor mental_health_interview phys_health_interview  \\\n",
       "25   Some of them        Yes                      No                   Yes   \n",
       "245            No         No                      No                 Maybe   \n",
       "342            No         No                      No                 Maybe   \n",
       "453  Some of them         No                      No                    No   \n",
       "496  Some of them         No                      No                    No   \n",
       "\n",
       "    mental_vs_physical  obs_consequence  \\\n",
       "25                  No               No   \n",
       "245                 No              Yes   \n",
       "342                 No               No   \n",
       "453         Don't know               No   \n",
       "496                 No              Yes   \n",
       "\n",
       "                                              comments  \n",
       "25   Sometimes I think  about using drugs for my me...  \n",
       "245  I have only discussed my mental illness with c...  \n",
       "342  Regardless of a stated lack of negative conseq...  \n",
       "453  Now at starutp.  Previously worked at big tech...  \n",
       "496  Stigma is the worst. People first language is ...  \n",
       "\n",
       "[5 rows x 27 columns]"
      ]
     },
     "execution_count": 30,
     "metadata": {},
     "output_type": "execute_result"
    }
   ],
   "source": [
    "clean_outm.head()"
   ]
  },
  {
   "cell_type": "code",
   "execution_count": 31,
   "id": "99fba26e",
   "metadata": {},
   "outputs": [
    {
     "data": {
      "image/png": "[encoded data removed]",
      "text/plain": [
       "<Figure size 640x480 with 1 Axes>"
      ]
     },
     "metadata": {},
     "output_type": "display_data"
    }
   ],
   "source": [
    "import matplotlib.pyplot as plt\n",
    "\n",
    "# create a boxplot of age based on gender\n",
    "clean_outm.boxplot(column='Age', by='Gender')\n",
    "\n",
    "# set the title and axis labels\n",
    "plt.title('Age distribution by gender for mental health consequences')\n",
    "plt.xlabel('Gender')\n",
    "plt.ylabel('Age')\n",
    "\n",
    "# show the plot\n",
    "plt.show()\n"
   ]
  },
  {
   "cell_type": "markdown",
   "id": "b41cbd2e",
   "metadata": {},
   "source": [
    "From the boxplot , it can be observed that the median of age for female is 32.5 whereas the median for age of males is 34.5 . The meantal-health consequences prone age for males is slightly higher than  female. But the span of age is more longer for females."
   ]
  },
  {
   "cell_type": "code",
   "execution_count": 32,
   "id": "db798b05",
   "metadata": {},
   "outputs": [
    {
     "name": "stdout",
     "output_type": "stream",
     "text": [
      "Pearson correlation coefficient:  0.0003322059144325383\n",
      "p-value:  0.9906045267535432\n"
     ]
    }
   ],
   "source": [
    "import scipy.stats as stats\n",
    "age = df['Age']\n",
    "consequences = df['mental_health_consequence']\n",
    "\n",
    "# Calculate the Pearson correlation coefficient and p-value\n",
    "corr, p = stats.pearsonr(age, consequences)\n",
    "\n",
    "# Print the results\n",
    "print(\"Pearson correlation coefficient: \", corr)\n",
    "print(\"p-value: \", p)"
   ]
  },
  {
   "cell_type": "code",
   "execution_count": 33,
   "id": "1a8b62dd",
   "metadata": {},
   "outputs": [],
   "source": [
    "corr = df['Age'].corr(df['mental_health_consequence'])"
   ]
  },
  {
   "cell_type": "code",
   "execution_count": 34,
   "id": "ee2730a8",
   "metadata": {},
   "outputs": [
    {
     "data": {
      "text/plain": [
       "0.00033220591443253845"
      ]
     },
     "execution_count": 34,
     "metadata": {},
     "output_type": "execute_result"
    }
   ],
   "source": [
    "corr"
   ]
  },
  {
   "cell_type": "code",
   "execution_count": 35,
   "id": "843b0e24",
   "metadata": {},
   "outputs": [
    {
     "name": "stdout",
     "output_type": "stream",
     "text": [
      "Spearman correlation coefficient:  0.0352309866905916\n",
      "p-value:  0.21158253205185945\n"
     ]
    }
   ],
   "source": [
    "corr, p = stats.spearmanr(age, consequences)\n",
    "\n",
    "# Print the results\n",
    "print(\"Spearman correlation coefficient: \", corr)\n",
    "print(\"p-value: \", p)"
   ]
  },
  {
   "cell_type": "markdown",
   "id": "59ec4420",
   "metadata": {},
   "source": [
    "The Spearman correlation coefficient between age and mental health consequences is 0.035, which indicates a weak positive correlation between the two variables. This means that as age increases, mental health consequences tend to increase slightly, but the relationship is not very strong.\n",
    "\n",
    "The p-value is 0.212, which is greater than the typical significance level of 0.05, indicating that the correlation coefficient is not statistically significant. This means that we cannot conclude that there is a true correlation between age and mental health consequences in the population, and any observed correlation in our sample may be due to chance.\n",
    "\n",
    "In summary, based on this analysis, we can say that there is a weak positive relationship between age and mental health consequences in our sample, but we cannot conclude that this relationship exists in the population as a whole. \n"
   ]
  },
  {
   "cell_type": "markdown",
   "id": "95f92036",
   "metadata": {},
   "source": [
    "### Correlation Exploration among Different Variables in Dataset"
   ]
  },
  {
   "cell_type": "code",
   "execution_count": 36,
   "id": "01b3e358",
   "metadata": {},
   "outputs": [
    {
     "data": {
      "text/html": [
       "<div>\n",
       "<style scoped>\n",
       "    .dataframe tbody tr th:only-of-type {\n",
       "        vertical-align: middle;\n",
       "    }\n",
       "\n",
       "    .dataframe tbody tr th {\n",
       "        vertical-align: top;\n",
       "    }\n",
       "\n",
       "    .dataframe thead th {\n",
       "        text-align: right;\n",
       "    }\n",
       "</style>\n",
       "<table border=\"1\" class=\"dataframe\">\n",
       "  <thead>\n",
       "    <tr style=\"text-align: right;\">\n",
       "      <th></th>\n",
       "      <th>Age</th>\n",
       "      <th>Gender</th>\n",
       "      <th>Country</th>\n",
       "      <th>family_history</th>\n",
       "      <th>treatment</th>\n",
       "      <th>work_interfere</th>\n",
       "      <th>seek_help</th>\n",
       "      <th>mental_health_consequence</th>\n",
       "      <th>phys_health_consequence</th>\n",
       "    </tr>\n",
       "  </thead>\n",
       "  <tbody>\n",
       "    <tr>\n",
       "      <th>0</th>\n",
       "      <td>37</td>\n",
       "      <td>Female</td>\n",
       "      <td>United States</td>\n",
       "      <td>No</td>\n",
       "      <td>Yes</td>\n",
       "      <td>Often</td>\n",
       "      <td>Yes</td>\n",
       "      <td>0</td>\n",
       "      <td>No</td>\n",
       "    </tr>\n",
       "    <tr>\n",
       "      <th>1</th>\n",
       "      <td>44</td>\n",
       "      <td>M</td>\n",
       "      <td>United States</td>\n",
       "      <td>No</td>\n",
       "      <td>No</td>\n",
       "      <td>Rarely</td>\n",
       "      <td>Don't know</td>\n",
       "      <td>2</td>\n",
       "      <td>No</td>\n",
       "    </tr>\n",
       "    <tr>\n",
       "      <th>2</th>\n",
       "      <td>32</td>\n",
       "      <td>Male</td>\n",
       "      <td>Canada</td>\n",
       "      <td>No</td>\n",
       "      <td>No</td>\n",
       "      <td>Rarely</td>\n",
       "      <td>No</td>\n",
       "      <td>0</td>\n",
       "      <td>No</td>\n",
       "    </tr>\n",
       "    <tr>\n",
       "      <th>3</th>\n",
       "      <td>31</td>\n",
       "      <td>Male</td>\n",
       "      <td>United Kingdom</td>\n",
       "      <td>Yes</td>\n",
       "      <td>Yes</td>\n",
       "      <td>Often</td>\n",
       "      <td>No</td>\n",
       "      <td>1</td>\n",
       "      <td>Yes</td>\n",
       "    </tr>\n",
       "    <tr>\n",
       "      <th>4</th>\n",
       "      <td>31</td>\n",
       "      <td>Male</td>\n",
       "      <td>United States</td>\n",
       "      <td>No</td>\n",
       "      <td>No</td>\n",
       "      <td>Never</td>\n",
       "      <td>Don't know</td>\n",
       "      <td>0</td>\n",
       "      <td>No</td>\n",
       "    </tr>\n",
       "  </tbody>\n",
       "</table>\n",
       "</div>"
      ],
      "text/plain": [
       "   Age  Gender         Country family_history treatment work_interfere  \\\n",
       "0   37  Female   United States             No       Yes          Often   \n",
       "1   44       M   United States             No        No         Rarely   \n",
       "2   32    Male          Canada             No        No         Rarely   \n",
       "3   31    Male  United Kingdom            Yes       Yes          Often   \n",
       "4   31    Male   United States             No        No          Never   \n",
       "\n",
       "    seek_help  mental_health_consequence phys_health_consequence  \n",
       "0         Yes                          0                      No  \n",
       "1  Don't know                          2                      No  \n",
       "2          No                          0                      No  \n",
       "3          No                          1                     Yes  \n",
       "4  Don't know                          0                      No  "
      ]
     },
     "execution_count": 36,
     "metadata": {},
     "output_type": "execute_result"
    }
   ],
   "source": [
    "df_work = df[['Age','Gender','Country','family_history','treatment','work_interfere','seek_help','mental_health_consequence', 'phys_health_consequence' ]]\n",
    "df_work.head()"
   ]
  },
  {
   "cell_type": "code",
   "execution_count": 37,
   "id": "6bc55fb2",
   "metadata": {},
   "outputs": [],
   "source": [
    "# I want to categorize gender into male, female and other. For male 'M', and 'F' for each female entry , 'O' for any other entry in this column\n",
    "df_work['Gender'] = df_work['Gender'].replace({'male':'M', 'Male': 'M','m':'M','female':'F','Female':'F','f':'F','Woman':'F'})\n",
    "df_work['Gender'] = df_work['Gender'].apply(lambda x: 'O' if x not in ['M','F'] else x)"
   ]
  },
  {
   "cell_type": "code",
   "execution_count": 38,
   "id": "99b3e7e3",
   "metadata": {},
   "outputs": [],
   "source": [
    "df_work['family_history'] = df_work['family_history'].replace({'Yes': 1.0, 'No': 0.0})\n",
    "df_work['treatment'] = df_work['treatment'].replace({'Yes': 1.0, 'No': 0.0})\n",
    "df_work['has_work_interfere'] = df_work['work_interfere'].replace({'Often': 1.0,'Rarely':1.0,'Sometimes':1.0,'Never':0.0,'NA': 2.0})\n",
    "df_work['seek_help'] = df_work['seek_help'].replace({'Yes': 1.0, 'No': 0.0,\"Don't know\":2.0})\n",
    "df_work['phys_health_consequence'] = df_work['phys_health_consequence'].replace({'Yes': 1.0, 'No': 0.0,'Maybe':1.0})"
   ]
  },
  {
   "cell_type": "code",
   "execution_count": 39,
   "id": "e35c4901",
   "metadata": {},
   "outputs": [
    {
     "data": {
      "text/html": [
       "<div>\n",
       "<style scoped>\n",
       "    .dataframe tbody tr th:only-of-type {\n",
       "        vertical-align: middle;\n",
       "    }\n",
       "\n",
       "    .dataframe tbody tr th {\n",
       "        vertical-align: top;\n",
       "    }\n",
       "\n",
       "    .dataframe thead th {\n",
       "        text-align: right;\n",
       "    }\n",
       "</style>\n",
       "<table border=\"1\" class=\"dataframe\">\n",
       "  <thead>\n",
       "    <tr style=\"text-align: right;\">\n",
       "      <th></th>\n",
       "      <th>Age</th>\n",
       "      <th>Gender</th>\n",
       "      <th>Country</th>\n",
       "      <th>family_history</th>\n",
       "      <th>treatment</th>\n",
       "      <th>work_interfere</th>\n",
       "      <th>seek_help</th>\n",
       "      <th>mental_health_consequence</th>\n",
       "      <th>phys_health_consequence</th>\n",
       "      <th>has_work_interfere</th>\n",
       "    </tr>\n",
       "  </thead>\n",
       "  <tbody>\n",
       "    <tr>\n",
       "      <th>0</th>\n",
       "      <td>37</td>\n",
       "      <td>F</td>\n",
       "      <td>United States</td>\n",
       "      <td>0.0</td>\n",
       "      <td>1.0</td>\n",
       "      <td>Often</td>\n",
       "      <td>1.0</td>\n",
       "      <td>0</td>\n",
       "      <td>0.0</td>\n",
       "      <td>1.0</td>\n",
       "    </tr>\n",
       "    <tr>\n",
       "      <th>1</th>\n",
       "      <td>44</td>\n",
       "      <td>M</td>\n",
       "      <td>United States</td>\n",
       "      <td>0.0</td>\n",
       "      <td>0.0</td>\n",
       "      <td>Rarely</td>\n",
       "      <td>2.0</td>\n",
       "      <td>2</td>\n",
       "      <td>0.0</td>\n",
       "      <td>1.0</td>\n",
       "    </tr>\n",
       "    <tr>\n",
       "      <th>2</th>\n",
       "      <td>32</td>\n",
       "      <td>M</td>\n",
       "      <td>Canada</td>\n",
       "      <td>0.0</td>\n",
       "      <td>0.0</td>\n",
       "      <td>Rarely</td>\n",
       "      <td>0.0</td>\n",
       "      <td>0</td>\n",
       "      <td>0.0</td>\n",
       "      <td>1.0</td>\n",
       "    </tr>\n",
       "    <tr>\n",
       "      <th>3</th>\n",
       "      <td>31</td>\n",
       "      <td>M</td>\n",
       "      <td>United Kingdom</td>\n",
       "      <td>1.0</td>\n",
       "      <td>1.0</td>\n",
       "      <td>Often</td>\n",
       "      <td>0.0</td>\n",
       "      <td>1</td>\n",
       "      <td>1.0</td>\n",
       "      <td>1.0</td>\n",
       "    </tr>\n",
       "    <tr>\n",
       "      <th>4</th>\n",
       "      <td>31</td>\n",
       "      <td>M</td>\n",
       "      <td>United States</td>\n",
       "      <td>0.0</td>\n",
       "      <td>0.0</td>\n",
       "      <td>Never</td>\n",
       "      <td>2.0</td>\n",
       "      <td>0</td>\n",
       "      <td>0.0</td>\n",
       "      <td>0.0</td>\n",
       "    </tr>\n",
       "  </tbody>\n",
       "</table>\n",
       "</div>"
      ],
      "text/plain": [
       "   Age Gender         Country  family_history  treatment work_interfere  \\\n",
       "0   37      F   United States             0.0        1.0          Often   \n",
       "1   44      M   United States             0.0        0.0         Rarely   \n",
       "2   32      M          Canada             0.0        0.0         Rarely   \n",
       "3   31      M  United Kingdom             1.0        1.0          Often   \n",
       "4   31      M   United States             0.0        0.0          Never   \n",
       "\n",
       "   seek_help  mental_health_consequence  phys_health_consequence  \\\n",
       "0        1.0                          0                      0.0   \n",
       "1        2.0                          2                      0.0   \n",
       "2        0.0                          0                      0.0   \n",
       "3        0.0                          1                      1.0   \n",
       "4        2.0                          0                      0.0   \n",
       "\n",
       "   has_work_interfere  \n",
       "0                 1.0  \n",
       "1                 1.0  \n",
       "2                 1.0  \n",
       "3                 1.0  \n",
       "4                 0.0  "
      ]
     },
     "execution_count": 39,
     "metadata": {},
     "output_type": "execute_result"
    }
   ],
   "source": [
    "df_work.head()"
   ]
  },
  {
   "cell_type": "code",
   "execution_count": 40,
   "id": "e4ca67ba",
   "metadata": {},
   "outputs": [
    {
     "data": {
      "text/plain": [
       "<AxesSubplot:>"
      ]
     },
     "execution_count": 40,
     "metadata": {},
     "output_type": "execute_result"
    },
    {
     "data": {
      "image/png": "[encoded data removed]",
      "text/plain": [
       "<Figure size 640x480 with 2 Axes>"
      ]
     },
     "metadata": {},
     "output_type": "display_data"
    }
   ],
   "source": [
    "# Extracting co-relation matrix and makinng heatmap out of it\n",
    "columns_of_correlation = [\"family_history\", \"treatment\", \"seek_help\", \n",
    "                       \"mental_health_consequence\", \"phys_health_consequence\", \n",
    "                       \"has_work_interfere\"]\n",
    "\n",
    "corr_matrix = df_work[columns_of_correlation].corr()\n",
    "\n",
    "sns.heatmap(corr_matrix, annot=True, cmap=\"coolwarm\")\n",
    "\n"
   ]
  },
  {
   "cell_type": "code",
   "execution_count": 41,
   "id": "04c8e561",
   "metadata": {},
   "outputs": [
    {
     "name": "stdout",
     "output_type": "stream",
     "text": [
      "Top 5 positive correlation pairs:\n",
      "has_work_interfere       treatment                    0.537345\n",
      "treatment                has_work_interfere           0.537345\n",
      "                         family_history               0.377918\n",
      "family_history           treatment                    0.377918\n",
      "phys_health_consequence  mental_health_consequence    0.312975\n",
      "dtype: float64\n"
     ]
    }
   ],
   "source": [
    "print(\"Top 5 positive correlation pairs:\")\n",
    "\n",
    "corr_pairs = corr_matrix.unstack().sort_values(ascending=False)\n",
    "\n",
    "corr_pairs = corr_pairs[corr_pairs != 1]\n",
    "\n",
    "print(corr_pairs.head(5))\n",
    "\n"
   ]
  },
  {
   "cell_type": "code",
   "execution_count": 42,
   "id": "6e741ff3",
   "metadata": {},
   "outputs": [
    {
     "name": "stdout",
     "output_type": "stream",
     "text": [
      "Top 5 negative correlation pairs:\n",
      "seek_help                has_work_interfere          -0.121230\n",
      "has_work_interfere       seek_help                   -0.121230\n",
      "phys_health_consequence  seek_help                   -0.078735\n",
      "seek_help                phys_health_consequence     -0.078735\n",
      "                         mental_health_consequence   -0.028159\n",
      "dtype: float64\n"
     ]
    }
   ],
   "source": [
    "print(\"Top 5 negative correlation pairs:\")\n",
    "\n",
    "corr_pairs = corr_matrix.unstack().sort_values(ascending=True)\n",
    "\n",
    "corr_pairs = corr_pairs[corr_pairs != 1]\n",
    "\n",
    "print(corr_pairs.head(5))\n"
   ]
  },
  {
   "cell_type": "markdown",
   "id": "6cc2feca",
   "metadata": {},
   "source": [
    "## Regression Analysis"
   ]
  },
  {
   "cell_type": "code",
   "execution_count": 43,
   "id": "8a5fbfdd",
   "metadata": {},
   "outputs": [],
   "source": [
    "import numpy as np\n",
    "from sklearn.linear_model import LinearRegression, Ridge\n",
    "from sklearn.preprocessing import PolynomialFeatures\n",
    "from sklearn.model_selection import train_test_split\n",
    "from sklearn.metrics import mean_squared_error, r2_score\n",
    "from sklearn.feature_selection import RFE\n",
    "from sklearn.model_selection import train_test_split,cross_val_score\n",
    "from sklearn.metrics import mean_squared_error,r2_score\n",
    "from sklearn.linear_model import LogisticRegression\n",
    "from sklearn.neighbors import KNeighborsClassifier\n",
    "from sklearn.tree import DecisionTreeClassifier\n",
    "from sklearn.ensemble import RandomForestClassifier\n",
    "from sklearn.metrics import accuracy_score, precision_score, recall_score, f1_score, roc_auc_score\n",
    "from sklearn.metrics import confusion_matrix"
   ]
  },
  {
   "cell_type": "markdown",
   "id": "c013c4ea",
   "metadata": {},
   "source": [
    "### Preprocessing Data for Regression"
   ]
  },
  {
   "cell_type": "code",
   "execution_count": 44,
   "id": "07a3a281",
   "metadata": {},
   "outputs": [],
   "source": [
    "data = df"
   ]
  },
  {
   "cell_type": "markdown",
   "id": "7f5d2922",
   "metadata": {},
   "source": [
    "'Age', 'Gender', 'Country', 'self_employed', 'family_history', 'treatment', 'work_interfere', 'no_employees', 'remote_work', 'tech_company', 'benefits', 'care_options', 'wellness_program', 'seek_help', 'anonymity', 'leave', 'mental_health_consequence', 'phys_health_consequence', 'coworkers', 'supervisor', 'mental_health_interview', 'phys_health_interview', 'mental_vs_physical', 'obs_consequence'"
   ]
  },
  {
   "cell_type": "code",
   "execution_count": 45,
   "id": "ae6ebebf",
   "metadata": {},
   "outputs": [],
   "source": [
    "# Preprocess the Age column\n",
    "data['Age'] = data['Age'].replace({'#NAME?': np.nan})\n",
    "data['Age'] = pd.to_numeric(data['Age'], errors='coerce')\n",
    "data['Age'] = data['Age'].fillna(data['Age'].median())\n"
   ]
  },
  {
   "cell_type": "code",
   "execution_count": 46,
   "id": "f7e874cb",
   "metadata": {},
   "outputs": [],
   "source": [
    "# Preprocess the self_employed column\n",
    "data['self_employed'] = data['self_employed'].replace({'NA': np.nan , 'Yes':1.0,'No':0.0})\n",
    "data['self_employed'] = pd.to_numeric(data['self_employed'], errors='coerce')\n",
    "data['self_employed'] = data['self_employed'].fillna(data['self_employed'].median())\n"
   ]
  },
  {
   "cell_type": "code",
   "execution_count": 47,
   "id": "f0882a75",
   "metadata": {},
   "outputs": [
    {
     "data": {
      "text/plain": [
       "array(['No', 'Yes'], dtype=object)"
      ]
     },
     "execution_count": 47,
     "metadata": {},
     "output_type": "execute_result"
    }
   ],
   "source": [
    "# Preprocess the family_history column\n",
    "unique_fh = data['family_history'].unique()\n",
    "unique_fh"
   ]
  },
  {
   "cell_type": "code",
   "execution_count": 48,
   "id": "11bd5cbe",
   "metadata": {},
   "outputs": [],
   "source": [
    "data['family_history'] = data['family_history'].replace({'Yes':1.0,'No':0.0})"
   ]
  },
  {
   "cell_type": "code",
   "execution_count": 49,
   "id": "ff483f91",
   "metadata": {},
   "outputs": [
    {
     "data": {
      "text/plain": [
       "array(['Yes', 'No'], dtype=object)"
      ]
     },
     "execution_count": 49,
     "metadata": {},
     "output_type": "execute_result"
    }
   ],
   "source": [
    "# Preprocess the treatment column\n",
    "unique_tr = data['treatment'].unique()\n",
    "unique_tr"
   ]
  },
  {
   "cell_type": "code",
   "execution_count": 50,
   "id": "e2e500dd",
   "metadata": {},
   "outputs": [],
   "source": [
    "data['treatment'] = data['treatment'].replace({'Yes':1.0,'No':0.0})"
   ]
  },
  {
   "cell_type": "code",
   "execution_count": 51,
   "id": "c0780dc3",
   "metadata": {},
   "outputs": [
    {
     "data": {
      "text/plain": [
       "array(['No', 'Yes'], dtype=object)"
      ]
     },
     "execution_count": 51,
     "metadata": {},
     "output_type": "execute_result"
    }
   ],
   "source": [
    "# Preprocess the remote_work column\n",
    "unique_tr = data['remote_work'].unique()\n",
    "unique_tr"
   ]
  },
  {
   "cell_type": "code",
   "execution_count": 52,
   "id": "99a59362",
   "metadata": {},
   "outputs": [],
   "source": [
    "data['remote_work'] = data['remote_work'].replace({'Yes':1.0,'No':0.0})"
   ]
  },
  {
   "cell_type": "code",
   "execution_count": 53,
   "id": "a97b7078",
   "metadata": {},
   "outputs": [
    {
     "data": {
      "text/plain": [
       "array(['Yes', 'No'], dtype=object)"
      ]
     },
     "execution_count": 53,
     "metadata": {},
     "output_type": "execute_result"
    }
   ],
   "source": [
    "# Preprocess the tech_company column\n",
    "unique_tc = data['tech_company'].unique()\n",
    "unique_tc"
   ]
  },
  {
   "cell_type": "code",
   "execution_count": 54,
   "id": "37058173",
   "metadata": {},
   "outputs": [],
   "source": [
    "data['tech_company'] = data['tech_company'].replace({'Yes':1.0,'No':0.0})"
   ]
  },
  {
   "cell_type": "code",
   "execution_count": 55,
   "id": "a99da23b",
   "metadata": {},
   "outputs": [
    {
     "data": {
      "text/plain": [
       "array(['Yes', \"Don't know\", 'No'], dtype=object)"
      ]
     },
     "execution_count": 55,
     "metadata": {},
     "output_type": "execute_result"
    }
   ],
   "source": [
    "# Preprocess the benifits column\n",
    "unique_bn = data['benefits'].unique()\n",
    "unique_bn"
   ]
  },
  {
   "cell_type": "code",
   "execution_count": 56,
   "id": "caec281c",
   "metadata": {},
   "outputs": [],
   "source": [
    "data['benefits'] = data['benefits'].replace({'Yes':1.0,'No':0.0,\"Don't know\":2.0})"
   ]
  },
  {
   "cell_type": "code",
   "execution_count": 57,
   "id": "9ccccdd0",
   "metadata": {},
   "outputs": [
    {
     "data": {
      "text/plain": [
       "array(['Not sure', 'No', 'Yes'], dtype=object)"
      ]
     },
     "execution_count": 57,
     "metadata": {},
     "output_type": "execute_result"
    }
   ],
   "source": [
    "# Preprocess the benifits column\n",
    "unique_co = data['care_options'].unique()\n",
    "unique_co"
   ]
  },
  {
   "cell_type": "code",
   "execution_count": 58,
   "id": "c71d8fb0",
   "metadata": {},
   "outputs": [],
   "source": [
    "data['care_options'] = data['care_options'].replace({'Yes':1.0,'No':0.0,\"Not sure\":0.0})"
   ]
  },
  {
   "cell_type": "code",
   "execution_count": 59,
   "id": "47a403e7",
   "metadata": {},
   "outputs": [
    {
     "data": {
      "text/plain": [
       "array(['No', \"Don't know\", 'Yes'], dtype=object)"
      ]
     },
     "execution_count": 59,
     "metadata": {},
     "output_type": "execute_result"
    }
   ],
   "source": [
    "# Preprocess wellness_program column\n",
    "unique_wp = data['wellness_program'].unique()\n",
    "unique_wp"
   ]
  },
  {
   "cell_type": "code",
   "execution_count": 60,
   "id": "6799e2ea",
   "metadata": {},
   "outputs": [],
   "source": [
    "data['wellness_program'] = data['wellness_program'].replace({'Yes':1.0,'No':0.0,\"Don't know\":0.0})"
   ]
  },
  {
   "cell_type": "code",
   "execution_count": 61,
   "id": "d2ebea1c",
   "metadata": {},
   "outputs": [
    {
     "data": {
      "text/plain": [
       "array(['Yes', \"Don't know\", 'No'], dtype=object)"
      ]
     },
     "execution_count": 61,
     "metadata": {},
     "output_type": "execute_result"
    }
   ],
   "source": [
    "# Preprocess seek_help column\n",
    "unique_sh = data['seek_help'].unique()\n",
    "unique_sh"
   ]
  },
  {
   "cell_type": "code",
   "execution_count": 62,
   "id": "9b7441be",
   "metadata": {},
   "outputs": [],
   "source": [
    "data['seek_help'] = data['seek_help'].replace({'Yes':1.0,'No':0.0,\"Don't know\":0.0})"
   ]
  },
  {
   "cell_type": "code",
   "execution_count": 63,
   "id": "ec8a21d7",
   "metadata": {},
   "outputs": [
    {
     "data": {
      "text/plain": [
       "array(['Yes', \"Don't know\", 'No'], dtype=object)"
      ]
     },
     "execution_count": 63,
     "metadata": {},
     "output_type": "execute_result"
    }
   ],
   "source": [
    "# Preprocess anonimity column\n",
    "unique_an = data['anonymity'].unique()\n",
    "unique_an"
   ]
  },
  {
   "cell_type": "code",
   "execution_count": 64,
   "id": "a6d13de7",
   "metadata": {},
   "outputs": [],
   "source": [
    "data['anonymity'] = data['anonymity'].replace({'Yes':1.0,'No':0.0,\"Don't know\":0.0})"
   ]
  },
  {
   "cell_type": "code",
   "execution_count": 65,
   "id": "9ca73331",
   "metadata": {},
   "outputs": [
    {
     "data": {
      "text/plain": [
       "array(['Somewhat easy', \"Don't know\", 'Somewhat difficult',\n",
       "       'Very difficult', 'Very easy'], dtype=object)"
      ]
     },
     "execution_count": 65,
     "metadata": {},
     "output_type": "execute_result"
    }
   ],
   "source": [
    "# Preprocess leave column\n",
    "unique_lv = data['leave'].unique()\n",
    "unique_lv"
   ]
  },
  {
   "cell_type": "code",
   "execution_count": 66,
   "id": "8eeb6813",
   "metadata": {},
   "outputs": [],
   "source": [
    "data['leave'] = data['leave'].replace({'Very easy':4.0,'Somewhat easy':3.0,'Somewhat difficult':2.0 ,'Very difficult':1.0, \"Don't know\":0.0})"
   ]
  },
  {
   "cell_type": "code",
   "execution_count": 67,
   "id": "1529b1c9",
   "metadata": {},
   "outputs": [
    {
     "data": {
      "text/plain": [
       "array(['Female', 'M', 'Male', 'male', 'female', 'm', 'Male-ish', 'maile',\n",
       "       'Trans-female', 'Cis Female', 'F', 'something kinda male?',\n",
       "       'Cis Male', 'Woman', 'f', 'Mal', 'Male (CIS)', 'queer/she/they',\n",
       "       'non-binary', 'Femake', 'woman', 'Make', 'Nah', 'All', 'Enby',\n",
       "       'fluid', 'Genderqueer', 'Female ', 'Androgyne', 'Agender',\n",
       "       'cis-female/femme', 'Guy (-ish) ^_^', 'male leaning androgynous',\n",
       "       'Male ', 'Man', 'Trans woman', 'msle', 'Neuter', 'Female (trans)',\n",
       "       'queer', 'Female (cis)', 'Mail', 'cis male', 'A little about you',\n",
       "       'Malr', 'p', 'femail', 'Cis Man',\n",
       "       'ostensibly male, unsure what that really means'], dtype=object)"
      ]
     },
     "execution_count": 67,
     "metadata": {},
     "output_type": "execute_result"
    }
   ],
   "source": [
    "# Preprocess Gender column\n",
    "unique_gnd = data['Gender'].unique()\n",
    "unique_gnd"
   ]
  },
  {
   "cell_type": "code",
   "execution_count": 68,
   "id": "6e77f7f0",
   "metadata": {},
   "outputs": [],
   "source": [
    "data['Gender'] = data['Gender'].replace({'male':'M', 'Male': 'M','m':'M','female':'F','Female':'F','f':'F','Woman':'F'})\n",
    "data['Gender'] = data['Gender'].apply(lambda x: 'O' if x not in ['M','F'] else x)\n",
    "data['Gender'] = data['Gender'].replace({'M': 1.0, 'F': 2.0,'O':0.0})"
   ]
  },
  {
   "cell_type": "code",
   "execution_count": 69,
   "id": "faab64b2",
   "metadata": {},
   "outputs": [
    {
     "data": {
      "text/plain": [
       "array(['United States', 'Canada', 'United Kingdom', 'Bulgaria', 'France',\n",
       "       'Portugal', 'Netherlands', 'Switzerland', 'Poland', 'Australia',\n",
       "       'Germany', 'Russia', 'Mexico', 'Brazil', 'Slovenia', 'Costa Rica',\n",
       "       'Austria', 'Ireland', 'India', 'South Africa', 'Italy', 'Sweden',\n",
       "       'Colombia', 'Latvia', 'Romania', 'Belgium', 'New Zealand',\n",
       "       'Zimbabwe', 'Spain', 'Finland', 'Uruguay', 'Israel',\n",
       "       'Bosnia and Herzegovina', 'Hungary', 'Singapore', 'Japan',\n",
       "       'Nigeria', 'Croatia', 'Norway', 'Thailand', 'Denmark',\n",
       "       'Bahamas, The', 'Greece', 'Moldova', 'Georgia', 'China',\n",
       "       'Czech Republic', 'Philippines'], dtype=object)"
      ]
     },
     "execution_count": 69,
     "metadata": {},
     "output_type": "execute_result"
    }
   ],
   "source": [
    "# Preprocess Country column\n",
    "unique_cn = data['Country'].unique()\n",
    "unique_cn"
   ]
  },
  {
   "cell_type": "code",
   "execution_count": 70,
   "id": "448660dd",
   "metadata": {},
   "outputs": [],
   "source": [
    "# Preprocess the Country column\n",
    "data['Country'] = data['Country'].str.lower()\n",
    "data['Country'] = data['Country'].replace({'united states of america': 'usa','united states': 'usa'})\n",
    "data['Country'] = data['Country'].replace({'usa': 1, 'united kingdom': 2, 'canada': 3, 'germany': 4, 'netherlands': 5, 'ireland': 6, 'australia': 7, 'singapore': 8, 'sweden': 9, 'france': 10, 'new zealand': 11, 'brazil': 12, 'italy': 13, 'switzerland': 14, 'belgium': 15, 'norway': 16, 'poland': 17, 'india': 18, 'austria': 19, 'israel': 20, 'denmark': 21, 'finland': 22, 'russia': 23, 'spain': 24, 'south africa': 25, 'mexico': 26, 'czech republic': 27, 'china': 28, 'greece': 29, 'hungary': 30, 'portugal': 31, 'slovenia': 32, 'costa rica': 33, 'latvia': 34, 'turkey': 35, 'bahamas, the': 36, 'japan': 37, 'bosnia and herzegovina': 38, 'croatia': 39, 'uruguay': 40, 'thailand': 41, 'colombia': 42, 'georgia': 43, 'romania': 44, 'nigeria': 45, 'northern mariana islands': 46, 'south korea': 47, 'slovakia': 48, 'philippines': 49, 'bulgaria': 50, 'egypt': 51, 'malaysia': 52, 'estonia': 53, 'honduras': 54, 'indonesia': 55, 'chile': 56, 'kenya': 57, 'peru': 58, 'vietnam': 59, 'sri lanka': 60,'zimbabwe': 71,'moldova':82})\n"
   ]
  },
  {
   "cell_type": "code",
   "execution_count": 71,
   "id": "bfc2a34f",
   "metadata": {},
   "outputs": [],
   "source": [
    "data['Country'] = np.nan_to_num(data['Country'], copy=False)"
   ]
  },
  {
   "cell_type": "code",
   "execution_count": 72,
   "id": "fc5665bf",
   "metadata": {},
   "outputs": [
    {
     "data": {
      "text/plain": [
       "array(['Often', 'Rarely', 'Never', 'Sometimes', nan], dtype=object)"
      ]
     },
     "execution_count": 72,
     "metadata": {},
     "output_type": "execute_result"
    }
   ],
   "source": [
    "# Preprocess work_interfere column\n",
    "unique_win = data['work_interfere'].unique()\n",
    "unique_win"
   ]
  },
  {
   "cell_type": "code",
   "execution_count": 73,
   "id": "212504ef",
   "metadata": {},
   "outputs": [],
   "source": [
    "data['work_interfere'] = np.nan_to_num(data['work_interfere'], copy=False)\n",
    "data['work_interfere'] = data['work_interfere'].replace({'Often':1.0,'Rarely':1.0,'Sometimes':1.0 ,'Never':0.0})"
   ]
  },
  {
   "cell_type": "code",
   "execution_count": 74,
   "id": "68a03314",
   "metadata": {},
   "outputs": [
    {
     "data": {
      "text/plain": [
       "array(['Yes', \"Don't know\", 'No'], dtype=object)"
      ]
     },
     "execution_count": 74,
     "metadata": {},
     "output_type": "execute_result"
    }
   ],
   "source": [
    "# Preprocess mental_vs_physical column\n",
    "unique_mvp = data['mental_vs_physical'].unique()\n",
    "unique_mvp"
   ]
  },
  {
   "cell_type": "code",
   "execution_count": 75,
   "id": "3f3c6d73",
   "metadata": {},
   "outputs": [],
   "source": [
    "data['mental_vs_physical'] = data['mental_vs_physical'].replace({'Yes':1.0,'No':0.0,\"Don't know\":2.0})"
   ]
  },
  {
   "cell_type": "code",
   "execution_count": 76,
   "id": "31fb0255",
   "metadata": {},
   "outputs": [
    {
     "data": {
      "text/plain": [
       "array(['No', 'Yes'], dtype=object)"
      ]
     },
     "execution_count": 76,
     "metadata": {},
     "output_type": "execute_result"
    }
   ],
   "source": [
    "# Preprocess obs_consequence column\n",
    "unique_ocs = data['obs_consequence'].unique()\n",
    "unique_ocs "
   ]
  },
  {
   "cell_type": "code",
   "execution_count": 77,
   "id": "10905063",
   "metadata": {},
   "outputs": [],
   "source": [
    "data['obs_consequence'] = data['obs_consequence'].replace({'Yes':1.0,'No':0.0 })"
   ]
  },
  {
   "cell_type": "markdown",
   "id": "b2d1f511",
   "metadata": {},
   "source": [
    "### I am targetting to predict whether treatment happened or not , based on considering tendencies among target variable tratment and input variables."
   ]
  },
  {
   "cell_type": "code",
   "execution_count": 128,
   "id": "e784399b",
   "metadata": {},
   "outputs": [],
   "source": [
    "# Preprocess the data\n",
    "X = data[['Age', 'Gender', 'Country', 'self_employed', 'family_history', 'treatment', 'work_interfere', 'no_employees', 'remote_work', 'tech_company', 'benefits', 'care_options', 'wellness_program', 'seek_help', 'anonymity', 'leave', 'mental_health_consequence', 'phys_health_consequence', 'coworkers', 'supervisor', 'mental_health_interview', 'phys_health_interview', 'mental_vs_physical', 'obs_consequence']]\n",
    "\n",
    "X = pd.get_dummies(X, columns=['Gender', 'Country', 'work_interfere', 'no_employees', 'leave', 'mental_health_consequence', 'phys_health_consequence', 'coworkers', 'supervisor', 'mental_health_interview', 'phys_health_interview'])\n",
    "\n",
    "y = data['treatment']\n"
   ]
  },
  {
   "cell_type": "code",
   "execution_count": null,
   "id": "ae0a8afb",
   "metadata": {},
   "outputs": [],
   "source": []
  },
  {
   "cell_type": "code",
   "execution_count": 79,
   "id": "36493cae",
   "metadata": {},
   "outputs": [],
   "source": [
    "X_train, X_test, y_train, y_test = train_test_split(X, y, test_size=0.2, random_state=42)"
   ]
  },
  {
   "cell_type": "code",
   "execution_count": 80,
   "id": "35803f8a",
   "metadata": {},
   "outputs": [
    {
     "data": {
      "text/html": [
       "<div>\n",
       "<style scoped>\n",
       "    .dataframe tbody tr th:only-of-type {\n",
       "        vertical-align: middle;\n",
       "    }\n",
       "\n",
       "    .dataframe tbody tr th {\n",
       "        vertical-align: top;\n",
       "    }\n",
       "\n",
       "    .dataframe thead th {\n",
       "        text-align: right;\n",
       "    }\n",
       "</style>\n",
       "<table border=\"1\" class=\"dataframe\">\n",
       "  <thead>\n",
       "    <tr style=\"text-align: right;\">\n",
       "      <th></th>\n",
       "      <th>Age</th>\n",
       "      <th>self_employed</th>\n",
       "      <th>family_history</th>\n",
       "      <th>treatment</th>\n",
       "      <th>remote_work</th>\n",
       "      <th>tech_company</th>\n",
       "      <th>benefits</th>\n",
       "      <th>care_options</th>\n",
       "      <th>wellness_program</th>\n",
       "      <th>seek_help</th>\n",
       "      <th>...</th>\n",
       "      <th>coworkers_Yes</th>\n",
       "      <th>supervisor_No</th>\n",
       "      <th>supervisor_Some of them</th>\n",
       "      <th>supervisor_Yes</th>\n",
       "      <th>mental_health_interview_Maybe</th>\n",
       "      <th>mental_health_interview_No</th>\n",
       "      <th>mental_health_interview_Yes</th>\n",
       "      <th>phys_health_interview_Maybe</th>\n",
       "      <th>phys_health_interview_No</th>\n",
       "      <th>phys_health_interview_Yes</th>\n",
       "    </tr>\n",
       "  </thead>\n",
       "  <tbody>\n",
       "    <tr>\n",
       "      <th>243</th>\n",
       "      <td>25</td>\n",
       "      <td>0.0</td>\n",
       "      <td>0.0</td>\n",
       "      <td>0.0</td>\n",
       "      <td>0.0</td>\n",
       "      <td>1.0</td>\n",
       "      <td>0.0</td>\n",
       "      <td>0.0</td>\n",
       "      <td>0.0</td>\n",
       "      <td>0.0</td>\n",
       "      <td>...</td>\n",
       "      <td>0</td>\n",
       "      <td>0</td>\n",
       "      <td>0</td>\n",
       "      <td>1</td>\n",
       "      <td>0</td>\n",
       "      <td>1</td>\n",
       "      <td>0</td>\n",
       "      <td>0</td>\n",
       "      <td>0</td>\n",
       "      <td>1</td>\n",
       "    </tr>\n",
       "    <tr>\n",
       "      <th>514</th>\n",
       "      <td>38</td>\n",
       "      <td>0.0</td>\n",
       "      <td>1.0</td>\n",
       "      <td>1.0</td>\n",
       "      <td>0.0</td>\n",
       "      <td>1.0</td>\n",
       "      <td>1.0</td>\n",
       "      <td>0.0</td>\n",
       "      <td>1.0</td>\n",
       "      <td>1.0</td>\n",
       "      <td>...</td>\n",
       "      <td>0</td>\n",
       "      <td>1</td>\n",
       "      <td>0</td>\n",
       "      <td>0</td>\n",
       "      <td>0</td>\n",
       "      <td>1</td>\n",
       "      <td>0</td>\n",
       "      <td>0</td>\n",
       "      <td>1</td>\n",
       "      <td>0</td>\n",
       "    </tr>\n",
       "    <tr>\n",
       "      <th>966</th>\n",
       "      <td>26</td>\n",
       "      <td>1.0</td>\n",
       "      <td>1.0</td>\n",
       "      <td>1.0</td>\n",
       "      <td>1.0</td>\n",
       "      <td>1.0</td>\n",
       "      <td>0.0</td>\n",
       "      <td>0.0</td>\n",
       "      <td>0.0</td>\n",
       "      <td>0.0</td>\n",
       "      <td>...</td>\n",
       "      <td>0</td>\n",
       "      <td>0</td>\n",
       "      <td>0</td>\n",
       "      <td>1</td>\n",
       "      <td>0</td>\n",
       "      <td>1</td>\n",
       "      <td>0</td>\n",
       "      <td>1</td>\n",
       "      <td>0</td>\n",
       "      <td>0</td>\n",
       "    </tr>\n",
       "    <tr>\n",
       "      <th>199</th>\n",
       "      <td>28</td>\n",
       "      <td>0.0</td>\n",
       "      <td>1.0</td>\n",
       "      <td>1.0</td>\n",
       "      <td>0.0</td>\n",
       "      <td>1.0</td>\n",
       "      <td>2.0</td>\n",
       "      <td>0.0</td>\n",
       "      <td>0.0</td>\n",
       "      <td>0.0</td>\n",
       "      <td>...</td>\n",
       "      <td>0</td>\n",
       "      <td>1</td>\n",
       "      <td>0</td>\n",
       "      <td>0</td>\n",
       "      <td>0</td>\n",
       "      <td>1</td>\n",
       "      <td>0</td>\n",
       "      <td>1</td>\n",
       "      <td>0</td>\n",
       "      <td>0</td>\n",
       "    </tr>\n",
       "    <tr>\n",
       "      <th>270</th>\n",
       "      <td>30</td>\n",
       "      <td>1.0</td>\n",
       "      <td>0.0</td>\n",
       "      <td>0.0</td>\n",
       "      <td>1.0</td>\n",
       "      <td>1.0</td>\n",
       "      <td>0.0</td>\n",
       "      <td>0.0</td>\n",
       "      <td>0.0</td>\n",
       "      <td>0.0</td>\n",
       "      <td>...</td>\n",
       "      <td>0</td>\n",
       "      <td>0</td>\n",
       "      <td>1</td>\n",
       "      <td>0</td>\n",
       "      <td>0</td>\n",
       "      <td>1</td>\n",
       "      <td>0</td>\n",
       "      <td>1</td>\n",
       "      <td>0</td>\n",
       "      <td>0</td>\n",
       "    </tr>\n",
       "  </tbody>\n",
       "</table>\n",
       "<p>5 rows × 95 columns</p>\n",
       "</div>"
      ],
      "text/plain": [
       "     Age  self_employed  family_history  treatment  remote_work  tech_company  \\\n",
       "243   25            0.0             0.0        0.0          0.0           1.0   \n",
       "514   38            0.0             1.0        1.0          0.0           1.0   \n",
       "966   26            1.0             1.0        1.0          1.0           1.0   \n",
       "199   28            0.0             1.0        1.0          0.0           1.0   \n",
       "270   30            1.0             0.0        0.0          1.0           1.0   \n",
       "\n",
       "     benefits  care_options  wellness_program  seek_help  ...  coworkers_Yes  \\\n",
       "243       0.0           0.0               0.0        0.0  ...              0   \n",
       "514       1.0           0.0               1.0        1.0  ...              0   \n",
       "966       0.0           0.0               0.0        0.0  ...              0   \n",
       "199       2.0           0.0               0.0        0.0  ...              0   \n",
       "270       0.0           0.0               0.0        0.0  ...              0   \n",
       "\n",
       "     supervisor_No  supervisor_Some of them  supervisor_Yes  \\\n",
       "243              0                        0               1   \n",
       "514              1                        0               0   \n",
       "966              0                        0               1   \n",
       "199              1                        0               0   \n",
       "270              0                        1               0   \n",
       "\n",
       "     mental_health_interview_Maybe  mental_health_interview_No  \\\n",
       "243                              0                           1   \n",
       "514                              0                           1   \n",
       "966                              0                           1   \n",
       "199                              0                           1   \n",
       "270                              0                           1   \n",
       "\n",
       "     mental_health_interview_Yes  phys_health_interview_Maybe  \\\n",
       "243                            0                            0   \n",
       "514                            0                            0   \n",
       "966                            0                            1   \n",
       "199                            0                            1   \n",
       "270                            0                            1   \n",
       "\n",
       "     phys_health_interview_No  phys_health_interview_Yes  \n",
       "243                         0                          1  \n",
       "514                         1                          0  \n",
       "966                         0                          0  \n",
       "199                         0                          0  \n",
       "270                         0                          0  \n",
       "\n",
       "[5 rows x 95 columns]"
      ]
     },
     "execution_count": 80,
     "metadata": {},
     "output_type": "execute_result"
    }
   ],
   "source": [
    "X_train.head()"
   ]
  },
  {
   "cell_type": "code",
   "execution_count": 81,
   "id": "9c0f2a3c",
   "metadata": {},
   "outputs": [
    {
     "name": "stdout",
     "output_type": "stream",
     "text": [
      "Coefficients_matrix: [ 4.80697988e-17 -4.80113574e-06 -5.49868979e-06  1.00000248e+00\n",
      "  5.72124308e-06  8.49773880e-07 -1.48121936e-06 -3.56906144e-06\n",
      "  8.49077949e-07  3.73866232e-06 -3.13192345e-06  1.24563477e-07\n",
      "  5.28766523e-06  2.05045824e-06 -1.65983114e-06 -3.90627094e-07\n",
      "  3.79286044e-06 -3.21251217e-07  4.39192726e-06  4.38712866e-06\n",
      " -3.68274369e-06  3.47912792e-07 -7.06819914e-06 -1.03268309e-05\n",
      "  4.91866320e-06  5.01080395e-07  7.47545534e-06  5.35890885e-06\n",
      " -3.11596095e-06  6.43187693e-06  6.08632540e-06 -9.61132864e-06\n",
      "  1.62946667e-05 -3.84194938e-06 -9.94990484e-06  7.48809361e-06\n",
      "  1.07328688e-05  4.80491256e-07  1.79036607e-05  0.00000000e+00\n",
      "  6.76260003e-06  7.78376337e-06 -6.07862695e-06 -5.61739765e-06\n",
      " -5.58066634e-06 -1.21319457e-06 -1.93838060e-06 -4.97852313e-06\n",
      " -2.32386313e-05 -1.20192703e-05  3.45588813e-05  6.19478669e-06\n",
      "  2.21602095e-06  3.66921862e-06 -2.56698426e-05 -7.28047014e-06\n",
      " -3.88333472e-06  3.80338954e-07 -1.09164978e-05 -2.30956701e-05\n",
      "  2.40136577e-06  7.18660588e-06 -1.32199807e-11  1.16831862e-05\n",
      " -6.03883975e-07 -3.92192956e-07  2.77807553e-06  7.11789117e-07\n",
      " -3.65111100e-06  4.77728100e-06 -2.58833044e-06 -2.02770420e-06\n",
      "  1.55948799e-06  7.62787338e-07 -3.31461004e-06  1.18972535e-06\n",
      " -1.97390638e-07  4.67916832e-07  2.47374743e-06 -2.94166426e-06\n",
      " -1.04234427e-07  1.88103092e-06 -1.77679649e-06 -1.50292128e-07\n",
      "  3.32236380e-06 -3.17207168e-06  3.04595490e-07 -1.58080548e-06\n",
      "  1.27620999e-06  1.85855363e-06  7.39471915e-07 -2.59802555e-06\n",
      "  1.32123475e-06  3.02733006e-07 -1.62396776e-06]\n",
      "Intercept: -3.3099378722312167e-06\n"
     ]
    }
   ],
   "source": [
    "# Linear regression\n",
    "lr = LinearRegression()\n",
    "lr.fit(X_train, y_train)\n",
    "print( \"Coefficients_matrix:\", lr.coef_)\n",
    "print( \"Intercept:\", lr.intercept_)\n",
    "\n"
   ]
  },
  {
   "cell_type": "code",
   "execution_count": 82,
   "id": "2b6543ae",
   "metadata": {},
   "outputs": [
    {
     "name": "stdout",
     "output_type": "stream",
     "text": [
      "Top 5 important features according to ranking:\n",
      "       Feature  Ranking\n",
      "15  Gender_2.0        1\n",
      "42  Country_27        1\n",
      "45  Country_30        1\n",
      "49  Country_34        1\n",
      "14  Gender_1.0        1\n"
     ]
    }
   ],
   "source": [
    "rfe = RFE(lr, n_features_to_select=10)\n",
    "\n",
    "# Fit the RFE object to the data\n",
    "rfe.fit(X, y)\n",
    "\n",
    "# Extract the feature rankings\n",
    "feature_rankings = pd.DataFrame({'Feature': X.columns, 'Ranking': rfe.ranking_})\n",
    "\n",
    "# Print the ranked features\n",
    "fseries = feature_rankings.sort_values('Ranking')\n",
    "\n",
    "print(\"Top 5 important features according to ranking:\")\n",
    "\n",
    "print(fseries.head())\n",
    "\n",
    "\n",
    "\n",
    "\n",
    "\n"
   ]
  },
  {
   "cell_type": "code",
   "execution_count": 83,
   "id": "ce8f140d",
   "metadata": {},
   "outputs": [
    {
     "name": "stdout",
     "output_type": "stream",
     "text": [
      "Linear regression MSE: 0.0000\n",
      "Linear regression R^2 score: 1.0000\n"
     ]
    }
   ],
   "source": [
    "y_pred = lr.predict(X_test)\n",
    "print('Linear regression MSE: {:.4f}'.format(mean_squared_error(y_test, y_pred)))\n",
    "print('Linear regression R^2 score: {:.4f}'.format(r2_score(y_test, y_pred)))"
   ]
  },
  {
   "cell_type": "markdown",
   "id": "72160924",
   "metadata": {},
   "source": [
    "According to this mean_squared_error and r2_score , this is perfectly accurate linear regression model."
   ]
  },
  {
   "cell_type": "code",
   "execution_count": 84,
   "id": "b2db7581",
   "metadata": {},
   "outputs": [
    {
     "data": {
      "image/png": "[encoded data removed]",
      "text/plain": [
       "<Figure size 640x480 with 1 Axes>"
      ]
     },
     "metadata": {},
     "output_type": "display_data"
    }
   ],
   "source": [
    "plt.scatter(y_test, y_pred)\n",
    "plt.xlabel('Tested Values')\n",
    "plt.ylabel('Predicted Values')\n",
    "plt.title('Linear Regression Results')\n",
    "plt.show()"
   ]
  },
  {
   "cell_type": "code",
   "execution_count": 85,
   "id": "d5927fdd",
   "metadata": {},
   "outputs": [
    {
     "name": "stdout",
     "output_type": "stream",
     "text": [
      "Coefficients_matrix: [ 4.80697988e-17 -4.80113574e-06 -5.49868979e-06  1.00000248e+00\n",
      "  5.72124308e-06  8.49773880e-07 -1.48121936e-06 -3.56906144e-06\n",
      "  8.49077949e-07  3.73866232e-06 -3.13192345e-06  1.24563477e-07\n",
      "  5.28766523e-06  2.05045824e-06 -1.65983114e-06 -3.90627094e-07\n",
      "  3.79286044e-06 -3.21251217e-07  4.39192726e-06  4.38712866e-06\n",
      " -3.68274369e-06  3.47912792e-07 -7.06819914e-06 -1.03268309e-05\n",
      "  4.91866320e-06  5.01080395e-07  7.47545534e-06  5.35890885e-06\n",
      " -3.11596095e-06  6.43187693e-06  6.08632540e-06 -9.61132864e-06\n",
      "  1.62946667e-05 -3.84194938e-06 -9.94990484e-06  7.48809361e-06\n",
      "  1.07328688e-05  4.80491256e-07  1.79036607e-05  0.00000000e+00\n",
      "  6.76260003e-06  7.78376337e-06 -6.07862695e-06 -5.61739765e-06\n",
      " -5.58066634e-06 -1.21319457e-06 -1.93838060e-06 -4.97852313e-06\n",
      " -2.32386313e-05 -1.20192703e-05  3.45588813e-05  6.19478669e-06\n",
      "  2.21602095e-06  3.66921862e-06 -2.56698426e-05 -7.28047014e-06\n",
      " -3.88333472e-06  3.80338954e-07 -1.09164978e-05 -2.30956701e-05\n",
      "  2.40136577e-06  7.18660588e-06 -1.32199807e-11  1.16831862e-05\n",
      " -6.03883975e-07 -3.92192956e-07  2.77807553e-06  7.11789117e-07\n",
      " -3.65111100e-06  4.77728100e-06 -2.58833044e-06 -2.02770420e-06\n",
      "  1.55948799e-06  7.62787338e-07 -3.31461004e-06  1.18972535e-06\n",
      " -1.97390638e-07  4.67916832e-07  2.47374743e-06 -2.94166426e-06\n",
      " -1.04234427e-07  1.88103092e-06 -1.77679649e-06 -1.50292128e-07\n",
      "  3.32236380e-06 -3.17207168e-06  3.04595490e-07 -1.58080548e-06\n",
      "  1.27620999e-06  1.85855363e-06  7.39471915e-07 -2.59802555e-06\n",
      "  1.32123475e-06  3.02733006e-07 -1.62396776e-06]\n",
      "Intercept: -3.3099378722312167e-06\n"
     ]
    }
   ],
   "source": [
    "# Polynomial regression\n",
    "poly = PolynomialFeatures(degree=2)\n",
    "X_train_poly = poly.fit_transform(X_train)\n",
    "X_test_poly = poly.transform(X_test)\n",
    "pr = LinearRegression()\n",
    "pr.fit(X_train_poly, y_train)\n",
    "print( \"Coefficients_matrix:\", lr.coef_)\n",
    "print( \"Intercept:\", lr.intercept_)\n",
    "\n"
   ]
  },
  {
   "cell_type": "code",
   "execution_count": 86,
   "id": "f17c834b",
   "metadata": {},
   "outputs": [
    {
     "name": "stdout",
     "output_type": "stream",
     "text": [
      "Polynomial regression MSE: 0.2503\n",
      "Polynomial regression R^2 score: -0.0019\n"
     ]
    }
   ],
   "source": [
    "y_pred = pr.predict(X_test_poly)\n",
    "print('Polynomial regression MSE: {:.4f}'.format(mean_squared_error(y_test, y_pred)))\n",
    "print('Polynomial regression R^2 score: {:.4f}'.format(r2_score(y_test, y_pred)))"
   ]
  },
  {
   "cell_type": "code",
   "execution_count": 87,
   "id": "b5807822",
   "metadata": {},
   "outputs": [
    {
     "data": {
      "image/png": "[encoded data removed]",
      "text/plain": [
       "<Figure size 640x480 with 1 Axes>"
      ]
     },
     "metadata": {},
     "output_type": "display_data"
    }
   ],
   "source": [
    "plt.scatter(y_test, y_pred)\n",
    "plt.xlabel('Tested Values')\n",
    "plt.ylabel('Predicted Values')\n",
    "plt.title('Polynomial Regression Results')\n",
    "plt.show()"
   ]
  },
  {
   "cell_type": "markdown",
   "id": "4f0a900b",
   "metadata": {},
   "source": [
    "## Classification Problem\n",
    "Here I am targetting to predict mental health consequences with various input variables in dataset. Different classification techniques are going to be explored for developing models. Accuracies and performances of these models can be compared to find top performing model. "
   ]
  },
  {
   "cell_type": "code",
   "execution_count": 88,
   "id": "a719e502",
   "metadata": {},
   "outputs": [],
   "source": [
    "from sklearn.model_selection import train_test_split\n",
    "from sklearn.linear_model import LogisticRegression\n",
    "from sklearn.metrics import accuracy_score, confusion_matrix"
   ]
  },
  {
   "cell_type": "code",
   "execution_count": 89,
   "id": "12aab380",
   "metadata": {},
   "outputs": [
    {
     "data": {
      "text/plain": [
       "0       0\n",
       "1       2\n",
       "2       0\n",
       "3       1\n",
       "4       0\n",
       "       ..\n",
       "1254    0\n",
       "1255    0\n",
       "1256    1\n",
       "1257    1\n",
       "1258    2\n",
       "Name: mental_health_consequence, Length: 1259, dtype: int64"
      ]
     },
     "execution_count": 89,
     "metadata": {},
     "output_type": "execute_result"
    }
   ],
   "source": [
    "data['mental_health_consequence']"
   ]
  },
  {
   "cell_type": "code",
   "execution_count": 90,
   "id": "d61c6f74",
   "metadata": {},
   "outputs": [],
   "source": [
    "# Define the features and target\n",
    "X1 = data[['Age', 'Gender', 'Country', 'self_employed', 'family_history', 'treatment', 'work_interfere', 'no_employees', 'remote_work', 'tech_company', 'benefits', 'care_options', 'wellness_program', 'seek_help', 'anonymity', 'leave','phys_health_consequence', 'coworkers', 'supervisor', 'mental_health_interview', 'phys_health_interview', 'mental_vs_physical', 'obs_consequence']]\n",
    "X1 = pd.get_dummies(X1, columns=['Gender', 'Country', 'work_interfere', 'no_employees', 'leave','phys_health_consequence', 'coworkers', 'supervisor', 'mental_health_interview', 'phys_health_interview'])\n",
    "y1 = data['mental_health_consequence']\n",
    "\n",
    "# Split the data into training and test sets\n",
    "X1_train, X1_test, y1_train, y1_test = train_test_split(X1, y1, test_size=0.2, random_state=42)"
   ]
  },
  {
   "cell_type": "code",
   "execution_count": 91,
   "id": "9525dd98",
   "metadata": {},
   "outputs": [],
   "source": [
    "# Initialize a logistic regression model\n",
    "lgr = LogisticRegression()\n",
    "\n",
    "# Fit the logistic regression model on the training set\n",
    "lgr.fit(X1_train, y1_train)\n",
    "\n",
    "# Predict the target variable on the test set\n",
    "y1_pred = lgr.predict(X1_test)"
   ]
  },
  {
   "cell_type": "code",
   "execution_count": 92,
   "id": "c0ec58e5",
   "metadata": {},
   "outputs": [
    {
     "name": "stdout",
     "output_type": "stream",
     "text": [
      "Logistic regression accuracy: 0.2460\n"
     ]
    }
   ],
   "source": [
    "# Compute the accuracy score on the test set\n",
    "accuracy = accuracy_score(y1_test, y1_pred)\n",
    "\n",
    "# Print the accuracy score\n",
    "print('Logistic regression accuracy: {:.4f}'.format(accuracy))\n",
    "\n"
   ]
  },
  {
   "cell_type": "code",
   "execution_count": 93,
   "id": "c5e5abf1",
   "metadata": {},
   "outputs": [
    {
     "name": "stdout",
     "output_type": "stream",
     "text": [
      "Confusion matrix:\n",
      "[[ 0 91  0]\n",
      " [ 0 62  1]\n",
      " [ 0 98  0]]\n"
     ]
    }
   ],
   "source": [
    "# Compute the confusion matrix on the test set\n",
    "cm = confusion_matrix(y1_test, y1_pred)\n",
    "\n",
    "# Print the confusion matrix\n",
    "print('Confusion matrix:')\n",
    "print(cm)"
   ]
  },
  {
   "cell_type": "markdown",
   "id": "298a35b7",
   "metadata": {},
   "source": [
    "The logistic regression accuracy of 0.2460 means that the model correctly predicted the target variable in only 24.60% of the test set cases. This is a very low accuracy score, indicating that the model is not performing well in this classification problem.\n",
    "\n",
    "The confusion matrix shows the true positive, true negative, false positive, and false negative counts for the predictions. In this case, the confusion matrix shows that:\n",
    "\n",
    "0 cases were correctly predicted as having no mental health consequence (true negative)\n",
    "62 cases were correctly predicted as having a mental health consequence (true positive)\n",
    "1 case was incorrectly predicted as having a mental health consequence when it actually didn't (false positive)\n",
    "98 cases were incorrectly predicted as not having a mental health consequence when they actually did (false negative)\n",
    "From this confusion matrix, we can see that the model is performing poorly in predicting the target variable. In particular, it has a high number of false negatives, meaning that it is failing to predict the occurrence of mental health consequences in cases where they are actually present.\n",
    "\n",
    "Overall, the low accuracy score and poor performance on the confusion matrix suggest that this logistic regression model is not useful for predicting mental health consequences in this dataset.\n"
   ]
  },
  {
   "cell_type": "code",
   "execution_count": 94,
   "id": "3a2d5a39",
   "metadata": {},
   "outputs": [],
   "source": [
    "from sklearn.naive_bayes import GaussianNB"
   ]
  },
  {
   "cell_type": "code",
   "execution_count": 95,
   "id": "6eab0c44",
   "metadata": {},
   "outputs": [],
   "source": [
    "# Define the features and target\n",
    "X2 = data[['Age', 'Gender', 'Country', 'self_employed', 'family_history', 'treatment', 'work_interfere', 'no_employees', 'remote_work', 'tech_company', 'benefits', 'care_options', 'wellness_program', 'seek_help', 'anonymity', 'leave','phys_health_consequence', 'coworkers', 'supervisor', 'mental_health_interview', 'phys_health_interview', 'mental_vs_physical', 'obs_consequence']]\n",
    "X2 = pd.get_dummies(X2, columns=['Gender', 'Country', 'work_interfere', 'no_employees', 'leave','phys_health_consequence', 'coworkers', 'supervisor', 'mental_health_interview', 'phys_health_interview'])\n",
    "y2 = data['mental_health_consequence']"
   ]
  },
  {
   "cell_type": "code",
   "execution_count": 96,
   "id": "eb4af1b0",
   "metadata": {},
   "outputs": [
    {
     "name": "stdout",
     "output_type": "stream",
     "text": [
      "Accuracy: 0.3611%\n",
      "Precision: 0.12037037037037036\n",
      "Recall: 0.3333333333333333\n",
      "F1 Score: 0.1768707482993197\n"
     ]
    }
   ],
   "source": [
    "X2_train, X2_test, y2_train, y2_test = train_test_split(X2, y2, test_size=0.2, random_state=42)\n",
    "\n",
    "# Fit the Naive Bayes classifier to the training data\n",
    "nb = GaussianNB()\n",
    "nb.fit(X2_train, y2_train)\n",
    "\n",
    "# Make predictions on the testing data\n",
    "y2_pred = nb.predict(X2_test)\n",
    "\n",
    "# Evaluate the accuracy of the model\n",
    "accuracy = accuracy_score(y2_test, y2_pred)\n",
    "print(\"Accuracy: {:.4f}%\".format(accuracy))\n",
    "print(\"Precision:\", precision_score(y2_test, y2_pred, average='macro'))\n",
    "print(\"Recall:\", recall_score(y2_test, y2_pred, average='macro'))\n",
    "print(\"F1 Score:\", f1_score(y2_test, y2_pred, average='macro')) "
   ]
  },
  {
   "cell_type": "code",
   "execution_count": 97,
   "id": "051c1b3b",
   "metadata": {},
   "outputs": [
    {
     "name": "stdout",
     "output_type": "stream",
     "text": [
      "Confusion matrix:\n",
      "[[91  0  0]\n",
      " [63  0  0]\n",
      " [98  0  0]]\n"
     ]
    }
   ],
   "source": [
    "# Compute the confusion matrix on the test set\n",
    "cnf = confusion_matrix(y2_test, y2_pred)\n",
    "\n",
    "# Print the confusion matrix\n",
    "print('Confusion matrix:')\n",
    "print(cnf)"
   ]
  },
  {
   "cell_type": "code",
   "execution_count": 98,
   "id": "378648c9",
   "metadata": {},
   "outputs": [
    {
     "data": {
      "text/plain": [
       "Text(0, 0.5, 'Values')"
      ]
     },
     "execution_count": 98,
     "metadata": {},
     "output_type": "execute_result"
    },
    {
     "data": {
      "image/png": "[encoded data removed]",
      "text/plain": [
       "<Figure size 640x480 with 1 Axes>"
      ]
     },
     "metadata": {},
     "output_type": "display_data"
    }
   ],
   "source": [
    "# Define the performance metrics and their values\n",
    "metrics = ['Accuracy', 'Precision', 'Recall', 'F1 Score']\n",
    "values = [0.361, 0.120, 0.333, 0.176]\n",
    "\n",
    "# Define the colors for each metric\n",
    "colors = ['blue', 'green', 'orange', 'red']\n",
    "\n",
    "# Create a bar chart with the performance metrics and their values\n",
    "fig, ax = plt.subplots()\n",
    "ax.bar(metrics, values, color=colors)\n",
    "\n",
    "# Set the title and axis labels\n",
    "ax.set_title('Model Performance Metrics')\n",
    "ax.set_xlabel('Metrics')\n",
    "ax.set_ylabel('Values')"
   ]
  },
  {
   "cell_type": "markdown",
   "id": "1ba5a9d7",
   "metadata": {},
   "source": [
    "The Naive Bayes classifier accuracy of 0.3611 means that the model correctly predicted the target variable in only 36.11% of the test set cases. While this is better than the logistic regression model with an accuracy of 0.2460, it is still a relatively low accuracy score and suggests that the model is not performing well.\n",
    "\n",
    "The confusion matrix shows the true positive, true negative, false positive, and false negative counts for the predictions. In this case, the confusion matrix shows that:\n",
    "\n",
    "91 cases were correctly predicted as having no mental health consequence (true negative)\n",
    "63 cases were incorrectly predicted as having no mental health consequence when they actually did (false negative)\n",
    "98 cases were incorrectly predicted as not having a mental health consequence when they actually did (false negative)\n",
    "From this confusion matrix, we can see that the model is performing poorly in predicting the target variable. In particular, it has a high number of false negatives, meaning that it is failing to predict the occurrence of mental health consequences in cases where they are actually present.\n",
    "\n",
    "Overall, the low accuracy score and poor performance on the confusion matrix suggest that this Naive Bayes classifier model is not particularly useful for predicting mental health consequences in this dataset. "
   ]
  },
  {
   "cell_type": "code",
   "execution_count": null,
   "id": "8fe3b58c",
   "metadata": {},
   "outputs": [],
   "source": []
  },
  {
   "cell_type": "code",
   "execution_count": 99,
   "id": "88e15ca9",
   "metadata": {},
   "outputs": [],
   "source": [
    "# KNeighborsClassifier model\n",
    "knn = KNeighborsClassifier()\n",
    "knn.fit(X1_train, y1_train)\n",
    "knn=  KNeighborsClassifier().fit(X1_train,y1_train)"
   ]
  },
  {
   "cell_type": "code",
   "execution_count": 100,
   "id": "984180fd",
   "metadata": {},
   "outputs": [
    {
     "name": "stdout",
     "output_type": "stream",
     "text": [
      "K-Nearest Neighbors:\n",
      "Accuracy: 0.5674603174603174\n",
      "Precision: 0.5733223305110647\n",
      "Recall: 0.5632304203732775\n",
      "F1 Score: 0.5519781642858566\n"
     ]
    }
   ],
   "source": [
    "y1_pred = knn.predict(X1_test)\n",
    "print(\"K-Nearest Neighbors:\")\n",
    "print(\"Accuracy:\", accuracy_score(y1_test, y1_pred))\n",
    "print(\"Precision:\", precision_score(y1_test, y1_pred, average='macro'))\n",
    "print(\"Recall:\", recall_score(y1_test, y1_pred, average='macro'))\n",
    "print(\"F1 Score:\", f1_score(y1_test, y1_pred, average='macro')) "
   ]
  },
  {
   "cell_type": "code",
   "execution_count": 101,
   "id": "2686ffcf",
   "metadata": {},
   "outputs": [
    {
     "name": "stdout",
     "output_type": "stream",
     "text": [
      "Confusion matrix\n",
      "[[77  1 13]\n",
      " [11 30 22]\n",
      " [46 16 36]]\n"
     ]
    }
   ],
   "source": [
    "cnf = confusion_matrix(y1_test, y1_pred)\n",
    "print('Confusion matrix')\n",
    "print(cnf)"
   ]
  },
  {
   "cell_type": "code",
   "execution_count": 102,
   "id": "b61d9f3b",
   "metadata": {},
   "outputs": [
    {
     "data": {
      "text/plain": [
       "Text(0, 0.5, 'Values')"
      ]
     },
     "execution_count": 102,
     "metadata": {},
     "output_type": "execute_result"
    },
    {
     "data": {
      "image/png": "[encoded data removed]",
      "text/plain": [
       "<Figure size 640x480 with 1 Axes>"
      ]
     },
     "metadata": {},
     "output_type": "display_data"
    }
   ],
   "source": [
    "# Define the performance metrics and their values\n",
    "metrics = ['Accuracy', 'Precision', 'Recall', 'F1 Score']\n",
    "values = [0.567, 0.573, 0.563, 0.551]\n",
    "\n",
    "# Define the colors for each metric\n",
    "colors = ['blue', 'green', 'orange', 'red']\n",
    "\n",
    "# Create a bar chart with the performance metrics and their values\n",
    "fig, ax = plt.subplots()\n",
    "ax.bar(metrics, values, color=colors)\n",
    "\n",
    "# Set the title and axis labels\n",
    "ax.set_title('Model Performance Metrics')\n",
    "ax.set_xlabel('Metrics')\n",
    "ax.set_ylabel('Values')"
   ]
  },
  {
   "cell_type": "markdown",
   "id": "ce37b6bc",
   "metadata": {},
   "source": [
    "In a classification problem, the accuracy score measures the proportion of correctly classified instances in the test set. In this case, the K-Nearest Neighbors model has an accuracy of 0.567, which means that it correctly classified the target variable for 56.75% of the test set instances.\n",
    "\n",
    "Precision is a measure of the proportion of true positives among the predicted positives. In this case, the precision score of 0.573 means that out of all the predicted positive instances, 57.3% were actually true positives.\n",
    "\n",
    "Recall, also known as sensitivity, measures the proportion of true positives among the actual positives. In this case, the recall score of 0.563 means that out of all the actual positive instances, 56.3% were correctly predicted as positive.\n",
    "\n",
    "The F1 score is the harmonic mean of precision and recall and is a measure of the model's overall accuracy. The F1 score of 0.552 indicates the balance between precision and recall in the model's predictions.\n",
    "\n",
    "Overall, the K-Nearest Neighbors model has a moderate accuracy score and moderate precision, recall, and F1 scores. This suggests that the model is making some correct predictions."
   ]
  },
  {
   "cell_type": "markdown",
   "id": "b8d11ec5",
   "metadata": {},
   "source": [
    "In this case, the confusion matrix shows the following:\n",
    "\n",
    "There were 91 instances of the actual negative class (no mental health consequences), out of which 77 were correctly predicted to be negative (true negative), one was incorrectly predicted as positive (false positive), and 13 were incorrectly predicted as neutral (false neutral).\n",
    "There were 63 instances of the actual neutral class (unsure), out of which 30 were correctly predicted to be neutral (true neutral), 11 were incorrectly predicted as negative (false negative), and 22 were incorrectly predicted as positive (false positive).\n",
    "There were 98 instances of the actual positive class (mental health consequences), out of which 36 were correctly predicted to be positive (true positive), 46 were incorrectly predicted as negative (false negative), and 16 were incorrectly predicted as neutral (false neutral).\n",
    "From this confusion matrix, we can see that the model is performing poorly in predicting the target variable, especially for the positive class. There are a significant number of false negatives, meaning that the model is failing to predict the occurrence of mental health consequences when they are actually present. Improving the model's performance in predicting the positive class is crucial for it to be useful in practice.\n",
    "\n"
   ]
  },
  {
   "cell_type": "code",
   "execution_count": 103,
   "id": "f2962073",
   "metadata": {},
   "outputs": [
    {
     "data": {
      "text/plain": [
       "DecisionTreeClassifier()"
      ]
     },
     "execution_count": 103,
     "metadata": {},
     "output_type": "execute_result"
    }
   ],
   "source": [
    "# Decision tree model\n",
    "dt = DecisionTreeClassifier()\n",
    "dt.fit(X1_train, y1_train)"
   ]
  },
  {
   "cell_type": "code",
   "execution_count": 104,
   "id": "ea1db1bf",
   "metadata": {},
   "outputs": [
    {
     "name": "stdout",
     "output_type": "stream",
     "text": [
      "Decision Tree:\n",
      "Accuracy: 0.6111111111111112\n",
      "Precision: 0.6043160095579451\n",
      "Recall: 0.6072155357869643\n",
      "F1 Score: 0.6054705768287536\n"
     ]
    }
   ],
   "source": [
    "y1_pred = dt.predict(X1_test)\n",
    "print(\"Decision Tree:\")\n",
    "print(\"Accuracy:\", accuracy_score(y1_test, y1_pred))\n",
    "print(\"Precision:\", precision_score(y1_test, y1_pred, average='macro'))\n",
    "print(\"Recall:\", recall_score(y1_test, y1_pred, average='macro'))\n",
    "print(\"F1 Score:\", f1_score(y1_test, y1_pred, average='macro')) \n",
    " "
   ]
  },
  {
   "cell_type": "code",
   "execution_count": 105,
   "id": "d28ed787",
   "metadata": {},
   "outputs": [
    {
     "name": "stdout",
     "output_type": "stream",
     "text": [
      "Confusion matrix\n",
      "[[66  7 18]\n",
      " [ 6 35 22]\n",
      " [24 21 53]]\n"
     ]
    }
   ],
   "source": [
    "cdc = confusion_matrix(y1_test, y1_pred)\n",
    "print('Confusion matrix')\n",
    "print(cdc)"
   ]
  },
  {
   "cell_type": "code",
   "execution_count": null,
   "id": "67ac6d61",
   "metadata": {},
   "outputs": [],
   "source": []
  },
  {
   "cell_type": "markdown",
   "id": "67fd468c",
   "metadata": {},
   "source": [
    "In this case, the confusion matrix shows the following:\n",
    "\n",
    "There were 91 instances of the actual negative class (no mental health consequences), out of which 66 were correctly predicted to be negative (true negative), 7 were incorrectly predicted as positive (false positive), and 18 were incorrectly predicted as neutral (false neutral).\n",
    "There were 63 instances of the actual neutral class (unsure), out of which 36 were correctly predicted to be neutral (true neutral), 7 were incorrectly predicted as negative (false negative), and 20 were incorrectly predicted as positive (false positive).\n",
    "There were 98 instances of the actual positive class (mental health consequences), out of which 50 were correctly predicted to be positive (true positive), 25 were incorrectly predicted as negative (false negative), and 23 were incorrectly predicted as neutral (false neutral).\n",
    "From this confusion matrix, we can see that the Decision Tree model is performing better than the Naive Bayes classifier in predicting the target variable, especially for the positive class. There are fewer false negatives, meaning that the model is better at predicting the occurrence of mental health consequences when they are actually present. However, there are still a significant number of false positives and false neutrals.\n",
    "\n",
    "The metrics such as Accuracy, Precision, Recall, and F1 score are used to evaluate the performance of the model. In this case, the model has an accuracy of 0.603, which means that 60.3% of the predictions made by the model were correct. The precision of the model is 0.596, which means that out of all the instances predicted as positive by the model, 59.6% were actually positive. The recall of the model is 0.602, which means that the model correctly identified 60.2% of all positive instances in the dataset. The F1 score is 0.598, which is a harmonic mean of precision and recall.\n",
    "\n",
    "Overall, the confusion matrix and the metrics provide a detailed breakdown of the model's predictions and can be used to identify areas for improvement."
   ]
  },
  {
   "cell_type": "code",
   "execution_count": 106,
   "id": "c129ba9b",
   "metadata": {},
   "outputs": [
    {
     "data": {
      "text/plain": [
       "Text(0, 0.5, 'Values')"
      ]
     },
     "execution_count": 106,
     "metadata": {},
     "output_type": "execute_result"
    },
    {
     "data": {
      "image/png": "[encoded data removed]",
      "text/plain": [
       "<Figure size 640x480 with 1 Axes>"
      ]
     },
     "metadata": {},
     "output_type": "display_data"
    }
   ],
   "source": [
    "# Define the performance metrics and their values\n",
    "metrics = ['Accuracy', 'Precision', 'Recall', 'F1 Score']\n",
    "values = [0.603, 0.595, 0.602, 0.598]\n",
    "\n",
    "# Define the colors for each metric\n",
    "colors = ['blue', 'green', 'orange', 'red']\n",
    "\n",
    "# Create a bar chart with the performance metrics and their values\n",
    "fig, ax = plt.subplots()\n",
    "ax.bar(metrics, values, color=colors)\n",
    "\n",
    "# Set the title and axis labels\n",
    "ax.set_title('Model Performance Metrics')\n",
    "ax.set_xlabel('Metrics')\n",
    "ax.set_ylabel('Values')"
   ]
  },
  {
   "cell_type": "code",
   "execution_count": 107,
   "id": "47effa70",
   "metadata": {},
   "outputs": [
    {
     "data": {
      "text/plain": [
       "RandomForestClassifier()"
      ]
     },
     "execution_count": 107,
     "metadata": {},
     "output_type": "execute_result"
    }
   ],
   "source": [
    "# RandomForestClassifier\n",
    "ran = RandomForestClassifier()\n",
    "ran.fit(X1_train, y1_train)"
   ]
  },
  {
   "cell_type": "code",
   "execution_count": 108,
   "id": "d1f31004",
   "metadata": {},
   "outputs": [
    {
     "name": "stdout",
     "output_type": "stream",
     "text": [
      "Random Forest:\n",
      "Accuracy: 0.6746031746031746\n",
      "Precision: 0.6831477133626311\n",
      "Recall: 0.6664050235478807\n",
      "F1 Score: 0.6680473607882869\n"
     ]
    }
   ],
   "source": [
    "y1_pred = ran.predict(X1_test)\n",
    "print(\"Random Forest:\")\n",
    "print(\"Accuracy:\", accuracy_score(y1_test, y1_pred))\n",
    "print(\"Precision:\", precision_score(y1_test, y1_pred, average='macro'))\n",
    "print(\"Recall:\", recall_score(y1_test, y1_pred, average='macro'))\n",
    "print(\"F1 Score:\", f1_score(y1_test, y1_pred, average='macro')) \n",
    " "
   ]
  },
  {
   "cell_type": "code",
   "execution_count": 109,
   "id": "d4d8d07a",
   "metadata": {},
   "outputs": [
    {
     "name": "stdout",
     "output_type": "stream",
     "text": [
      "Confusion matrix\n",
      "[[77  4 10]\n",
      " [ 4 36 23]\n",
      " [32  9 57]]\n"
     ]
    }
   ],
   "source": [
    "crn = confusion_matrix(y1_test, y1_pred)\n",
    "print('Confusion matrix')\n",
    "print(crn)"
   ]
  },
  {
   "cell_type": "markdown",
   "id": "6274d730",
   "metadata": {},
   "source": [
    "The given metrics and confusion matrix can be used to evaluate the performance of a Random Forest classification model.\n",
    "\n",
    "Accuracy: The accuracy of the model is 0.6627 or 66.27%. This means that the model correctly predicted the class label for 66.27% of the instances in the test set.\n",
    "\n",
    "Precision:The precision of the model is 0.6634 or 66.34%. This means that out of all the instances predicted as positive, 66.34% were actually positive.\n",
    "\n",
    "Recall: The recall of the model is 0.6581 or 65.81%. This means that out of all the positive instances in the test set, the model correctly identified 65.81% of them.\n",
    "\n",
    "F1 Score: It is the harmonic mean of precision and recall. In this case, the F1 score of the model is 0.6555 or 65.55%.\n",
    "\n",
    "Confusion Matrix:The confusion matrix shows that the model correctly predicted 77 instances of class 1, 37 instances of class 2, and 53 instances of class 3. It incorrectly predicted 4 instances of class 1 as class 2, 10 instances of class 1 as class 3, 4 instances of class 2 as class 1, 22 instances of class 2 as class 3, 32 instances of class 3 as class 1, and 13 instances of class 3 as class 2.\n",
    "\n",
    "Overall, the model has an accuracy of 66.27%, which is not very high. Additionally, the precision, recall, and F1 score for the model are all around 66%, which suggests that the model is not very precise in its predictions. Looking at the confusion matrix, it can be seen that the model has a tendency to misclassify instances of class 1 as class 3 and instances of class 2 as class 3. This indicates that the model may need further tuning or improvement to achieve better performance."
   ]
  },
  {
   "cell_type": "code",
   "execution_count": 110,
   "id": "9ca46585",
   "metadata": {},
   "outputs": [
    {
     "data": {
      "text/plain": [
       "Text(0, 0.5, 'Values')"
      ]
     },
     "execution_count": 110,
     "metadata": {},
     "output_type": "execute_result"
    },
    {
     "data": {
      "image/png": "[encoded data removed]",
      "text/plain": [
       "<Figure size 640x480 with 1 Axes>"
      ]
     },
     "metadata": {},
     "output_type": "display_data"
    }
   ],
   "source": [
    "# Define the performance metrics and their values\n",
    "metrics = ['Accuracy', 'Precision', 'Recall', 'F1 Score']\n",
    "values = [0.662, 0.663, 0.658, 0.655]\n",
    "\n",
    "# Define the colors for each metric\n",
    "colors = ['blue', 'green', 'orange', 'red']\n",
    "\n",
    "# Create a bar chart with the performance metrics and their values\n",
    "fig, ax = plt.subplots()\n",
    "ax.bar(metrics, values, color=colors)\n",
    "\n",
    "# Set the title and axis labels\n",
    "ax.set_title('Model Performance Metrics')\n",
    "ax.set_xlabel('Metrics')\n",
    "ax.set_ylabel('Values')"
   ]
  },
  {
   "cell_type": "code",
   "execution_count": 111,
   "id": "5c23105d",
   "metadata": {},
   "outputs": [
    {
     "name": "stdout",
     "output_type": "stream",
     "text": [
      "Defaulting to user installation because normal site-packages is not writeable\n",
      "Requirement already satisfied: imbalanced-learn in c:\\users\\hp\\appdata\\roaming\\python\\python39\\site-packages (0.10.1)\n",
      "Requirement already satisfied: threadpoolctl>=2.0.0 in c:\\programdata\\anaconda3\\lib\\site-packages (from imbalanced-learn) (2.2.0)\n",
      "Requirement already satisfied: scipy>=1.3.2 in c:\\programdata\\anaconda3\\lib\\site-packages (from imbalanced-learn) (1.9.1)\n",
      "Requirement already satisfied: numpy>=1.17.3 in c:\\users\\hp\\appdata\\roaming\\python\\python39\\site-packages (from imbalanced-learn) (1.24.2)\n",
      "Requirement already satisfied: scikit-learn>=1.0.2 in c:\\programdata\\anaconda3\\lib\\site-packages (from imbalanced-learn) (1.0.2)\n",
      "Requirement already satisfied: joblib>=1.1.1 in c:\\users\\hp\\appdata\\roaming\\python\\python39\\site-packages (from imbalanced-learn) (1.2.0)\n",
      "Note: you may need to restart the kernel to use updated packages.\n"
     ]
    }
   ],
   "source": [
    "pip install -U imbalanced-learn"
   ]
  },
  {
   "cell_type": "code",
   "execution_count": 112,
   "id": "38e609bf",
   "metadata": {},
   "outputs": [],
   "source": [
    "from imblearn.over_sampling import SMOTE\n",
    "from sklearn.metrics import accuracy_score\n",
    "\n",
    "# Handle imbalanced data using SMOTE\n",
    "smote = SMOTE(random_state=42)\n",
    "X1_train, y1_train = smote.fit_resample(X1_train, y1_train)\n",
    "\n",
    "# RandomForestClassifier with hyperparameter tuning\n",
    "rani = RandomForestClassifier(n_estimators=500, max_depth=10, random_state=42)\n",
    "rani.fit(X1_train, y1_train)\n",
    "y1_pred = rani.predict(X1_test)\n",
    "\n"
   ]
  },
  {
   "cell_type": "code",
   "execution_count": 113,
   "id": "a3d54b27",
   "metadata": {},
   "outputs": [
    {
     "name": "stdout",
     "output_type": "stream",
     "text": [
      "Random Forest Improved:\n",
      "Accuracy: 0.6944444444444444\n",
      "Precision: 0.697948746353532\n",
      "Recall: 0.6961160532589105\n",
      "F1 Score: 0.6938792322267072\n"
     ]
    }
   ],
   "source": [
    "print(\"Random Forest Improved:\")\n",
    "print(\"Accuracy:\", accuracy_score(y1_test, y1_pred))\n",
    "print(\"Precision:\", precision_score(y1_test, y1_pred, average='macro'))\n",
    "print(\"Recall:\", recall_score(y1_test, y1_pred, average='macro'))\n",
    "print(\"F1 Score:\", f1_score(y1_test, y1_pred, average='macro')) "
   ]
  },
  {
   "cell_type": "code",
   "execution_count": 114,
   "id": "cbad3a72",
   "metadata": {},
   "outputs": [
    {
     "name": "stdout",
     "output_type": "stream",
     "text": [
      "Confusion matrix\n",
      "[[75  4 12]\n",
      " [ 4 43 16]\n",
      " [29 12 57]]\n"
     ]
    }
   ],
   "source": [
    "crni = confusion_matrix(y1_test, y1_pred)\n",
    "print('Confusion matrix')\n",
    "print(crni)"
   ]
  },
  {
   "cell_type": "markdown",
   "id": "d2017bc9",
   "metadata": {},
   "source": [
    "The Random Forest Classifier Improved has an accuracy of 0.694, which means that it correctly predicted the mental_health_consequence for 69.4% of the cases. Precision is 0.698, which means that out of all the predicted positive cases, 69.8% of them were actually true positive cases. Recall is 0.696, which means that out of all the actual positive cases, the model was able to identify 69.6% of them. The F1 score is 0.694, which is the harmonic mean of precision and recall, and is a measure of the model's overall performance.\n",
    "\n",
    "Looking at the confusion matrix, we can see that the model predicted 75 true negatives (no mental_health_consequences when mental_health_consequences was not happened), 43 true positives (mental_health_consequences when mental_health_consequences was happened), and 57 true negatives (no mental_health_consequences when mental_health_consequences was not happened). However, the model also made some incorrect predictions, such as predicting 4 false positives (mental_health_consequences when mental_health_consequences was not happened) and 12 false negatives (mental_health_consequences when mental_health_consequences was happened).\n",
    "\n",
    "In summary, the Random Forest Classifier Improved has a decent performance with an accuracy of 69.4%. However, there is still room for improvement, particularly in reducing the number of false positives and false negatives."
   ]
  },
  {
   "cell_type": "code",
   "execution_count": 115,
   "id": "edd399a1",
   "metadata": {},
   "outputs": [
    {
     "data": {
      "text/plain": [
       "Text(0, 0.5, 'Values')"
      ]
     },
     "execution_count": 115,
     "metadata": {},
     "output_type": "execute_result"
    },
    {
     "data": {
      "image/png": "[encoded data removed]",
      "text/plain": [
       "<Figure size 640x480 with 1 Axes>"
      ]
     },
     "metadata": {},
     "output_type": "display_data"
    }
   ],
   "source": [
    "# Define the performance metrics and their values\n",
    "metrics = ['Accuracy', 'Precision', 'Recall', 'F1 Score']\n",
    "values = [0.694, 0.697, 0.696, 0.693]\n",
    "\n",
    "# Define the colors for each metric\n",
    "colors = ['blue', 'green', 'orange', 'red']\n",
    "\n",
    "# Create a bar chart with the performance metrics and their values\n",
    "fig, ax = plt.subplots()\n",
    "ax.bar(metrics, values, color=colors)\n",
    "\n",
    "# Set the title and axis labels\n",
    "ax.set_title('Model Performance Metrics')\n",
    "ax.set_xlabel('Metrics')\n",
    "ax.set_ylabel('Values')"
   ]
  },
  {
   "cell_type": "markdown",
   "id": "7e94d8c1",
   "metadata": {},
   "source": [
    "## Accuracy Comparison among Models"
   ]
  },
  {
   "cell_type": "code",
   "execution_count": 116,
   "id": "52b83130",
   "metadata": {
    "scrolled": true
   },
   "outputs": [
    {
     "data": {
      "image/png": "[encoded data removed]",
      "text/plain": [
       "<Figure size 640x480 with 1 Axes>"
      ]
     },
     "metadata": {},
     "output_type": "display_data"
    }
   ],
   "source": [
    "nb_acc = 0.361\n",
    "dt_acc = 0.603\n",
    "rnf_acc = 0.662\n",
    "knn_acc = 0.567\n",
    "rnfi_acc = 0.694\n",
    "\n",
    "full_classifiers = ['Naive Bayes','Decision Tree','Random Forest','K-Nearest Neighbour','Improved Random Forest']\n",
    "classifiers = ['NB','DCT','RNF', 'KNN','IRNF']\n",
    "accuracies = [nb_acc, dt_acc, rnf_acc,knn_acc,rnfi_acc]\n",
    "\n",
    "fig, ax = plt.subplots()\n",
    "ax.bar(classifiers, accuracies, color=['blue', 'green','yellow','pink','orange'])\n",
    "\n",
    "# Set the title and axis labels\n",
    "ax.set_title('Classifier Accuracy Comparison')\n",
    "ax.set_xlabel('Classifiers')\n",
    "ax.set_ylabel('Accuracy')\n",
    "\n",
    "for i, classi in enumerate(full_classifiers):\n",
    "    ax.text(i, accuracies[i], classi, ha='center', va='bottom')\n",
    "\n",
    "# Display the chart\n",
    "plt.show()"
   ]
  }
 ],
 "metadata": {
  "kernelspec": {
   "display_name": "Python 3 (ipykernel)",
   "language": "python",
   "name": "python3"
  },
  "language_info": {
   "codemirror_mode": {
    "name": "ipython",
    "version": 3
   },
   "file_extension": ".py",
   "mimetype": "text/x-python",
   "name": "python",
   "nbconvert_exporter": "python",
   "pygments_lexer": "ipython3",
   "version": "3.9.13"
  }
 },
 "nbformat": 4,
 "nbformat_minor": 5
}
